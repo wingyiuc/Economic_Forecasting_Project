{
 "cells": [
  {
   "cell_type": "markdown",
   "metadata": {},
   "source": [
    "# Getting started"
   ]
  },
  {
   "cell_type": "code",
   "execution_count": 49,
   "metadata": {},
   "outputs": [],
   "source": [
    "### Load packages\n",
    "library(data.table)\n",
    "library(readxl)\n",
    "library(stringr)\n",
    "library(dplyr)\n",
    "library(forecast)\n",
    "library(ggplot2)\n",
    "library(tseries)\n",
    "library(stats)\n",
    "library(psych)\n",
    "library(fUnitRoots)\n",
    "library(lmtest)\n",
    "library(pastecs)\n",
    "library(FitAR)\n",
    "library(aTSA)\n",
    "library(itsmr)\n",
    "library(pracma)\n",
    "library(arfima)\n",
    "library(dse)\n",
    "library(smooth)\n",
    "library(fGarch)"
   ]
  },
  {
   "cell_type": "code",
   "execution_count": 50,
   "metadata": {
    "scrolled": true
   },
   "outputs": [
    {
     "data": {
      "text/html": [
       "<ol class=list-inline>\n",
       "\t<li>'^BSESN.csv'</li>\n",
       "\t<li>'^GSPC.csv'</li>\n",
       "\t<li>'^HSI.csv'</li>\n",
       "\t<li>'^JKSE.csv'</li>\n",
       "\t<li>'^MERV.csv'</li>\n",
       "\t<li>'^N225.csv'</li>\n",
       "\t<li>'^NSEI.csv'</li>\n",
       "\t<li>'^NZ50.csv'</li>\n",
       "\t<li>'^STOXX50E.csv'</li>\n",
       "\t<li>'000001.SS.csv'</li>\n",
       "</ol>\n"
      ],
      "text/latex": [
       "\\begin{enumerate*}\n",
       "\\item '\\textasciicircum{}BSESN.csv'\n",
       "\\item '\\textasciicircum{}GSPC.csv'\n",
       "\\item '\\textasciicircum{}HSI.csv'\n",
       "\\item '\\textasciicircum{}JKSE.csv'\n",
       "\\item '\\textasciicircum{}MERV.csv'\n",
       "\\item '\\textasciicircum{}N225.csv'\n",
       "\\item '\\textasciicircum{}NSEI.csv'\n",
       "\\item '\\textasciicircum{}NZ50.csv'\n",
       "\\item '\\textasciicircum{}STOXX50E.csv'\n",
       "\\item '000001.SS.csv'\n",
       "\\end{enumerate*}\n"
      ],
      "text/markdown": [
       "1. '^BSESN.csv'\n",
       "2. '^GSPC.csv'\n",
       "3. '^HSI.csv'\n",
       "4. '^JKSE.csv'\n",
       "5. '^MERV.csv'\n",
       "6. '^N225.csv'\n",
       "7. '^NSEI.csv'\n",
       "8. '^NZ50.csv'\n",
       "9. '^STOXX50E.csv'\n",
       "10. '000001.SS.csv'\n",
       "\n",
       "\n"
      ],
      "text/plain": [
       " [1] \"^BSESN.csv\"    \"^GSPC.csv\"     \"^HSI.csv\"      \"^JKSE.csv\"    \n",
       " [5] \"^MERV.csv\"     \"^N225.csv\"     \"^NSEI.csv\"     \"^NZ50.csv\"    \n",
       " [9] \"^STOXX50E.csv\" \"000001.SS.csv\""
      ]
     },
     "metadata": {},
     "output_type": "display_data"
    }
   ],
   "source": [
    "list.files(pattern = \".csv\")"
   ]
  },
  {
   "cell_type": "markdown",
   "metadata": {},
   "source": [
    "# Portfolio\n",
    "An equally weighted portfolio is formed with HSI and NZ50, and we can see if there exists any commonly shared information between the two stocks, such that we can do nonsynchronous trading.\n",
    "## Portfolio – Data Exploration"
   ]
  },
  {
   "cell_type": "code",
   "execution_count": 51,
   "metadata": {
    "scrolled": true
   },
   "outputs": [
    {
     "name": "stderr",
     "output_type": "stream",
     "text": [
      "Warning message in function_list[[k]](value):\n",
      "\"NAs introduced by coercion\"\n"
     ]
    },
    {
     "data": {
      "text/html": [
       "<table>\n",
       "<caption>A data.table: 6 × 2</caption>\n",
       "<thead>\n",
       "\t<tr><th scope=col>date</th><th scope=col>Price</th></tr>\n",
       "\t<tr><th scope=col>&lt;date&gt;</th><th scope=col>&lt;dbl&gt;</th></tr>\n",
       "</thead>\n",
       "<tbody>\n",
       "\t<tr><td>2020-04-29</td><td>24643.59</td></tr>\n",
       "\t<tr><td>2020-05-04</td><td>23613.80</td></tr>\n",
       "\t<tr><td>2020-05-05</td><td>23868.66</td></tr>\n",
       "\t<tr><td>2020-05-06</td><td>24137.48</td></tr>\n",
       "\t<tr><td>2020-05-07</td><td>23980.63</td></tr>\n",
       "\t<tr><td>2020-05-08</td><td>24230.17</td></tr>\n",
       "</tbody>\n",
       "</table>\n"
      ],
      "text/latex": [
       "A data.table: 6 × 2\n",
       "\\begin{tabular}{ll}\n",
       " date & Price\\\\\n",
       " <date> & <dbl>\\\\\n",
       "\\hline\n",
       "\t 2020-04-29 & 24643.59\\\\\n",
       "\t 2020-05-04 & 23613.80\\\\\n",
       "\t 2020-05-05 & 23868.66\\\\\n",
       "\t 2020-05-06 & 24137.48\\\\\n",
       "\t 2020-05-07 & 23980.63\\\\\n",
       "\t 2020-05-08 & 24230.17\\\\\n",
       "\\end{tabular}\n"
      ],
      "text/markdown": [
       "\n",
       "A data.table: 6 × 2\n",
       "\n",
       "| date &lt;date&gt; | Price &lt;dbl&gt; |\n",
       "|---|---|\n",
       "| 2020-04-29 | 24643.59 |\n",
       "| 2020-05-04 | 23613.80 |\n",
       "| 2020-05-05 | 23868.66 |\n",
       "| 2020-05-06 | 24137.48 |\n",
       "| 2020-05-07 | 23980.63 |\n",
       "| 2020-05-08 | 24230.17 |\n",
       "\n"
      ],
      "text/plain": [
       "  date       Price   \n",
       "1 2020-04-29 24643.59\n",
       "2 2020-05-04 23613.80\n",
       "3 2020-05-05 23868.66\n",
       "4 2020-05-06 24137.48\n",
       "5 2020-05-07 23980.63\n",
       "6 2020-05-08 24230.17"
      ]
     },
     "metadata": {},
     "output_type": "display_data"
    }
   ],
   "source": [
    "# Load data\n",
    "\n",
    "df1 = read.csv('^HSI.csv')\n",
    "df1 %>% setDT\n",
    "df1 = df1[,.(date = as.Date(Date),\n",
    "                 Price = Adj.Close%>% as.character %>% as.numeric)]\n",
    "df1 = df1[date>='2019-05-04' & date <= '2020-05-08',]\n",
    "df1 = na.omit(df1)\n",
    "setkey(df1, date)\n",
    "df1 %>% tail"
   ]
  },
  {
   "cell_type": "code",
   "execution_count": 52,
   "metadata": {},
   "outputs": [
    {
     "name": "stderr",
     "output_type": "stream",
     "text": [
      "Warning message in function_list[[k]](value):\n",
      "\"NAs introduced by coercion\"\n"
     ]
    },
    {
     "data": {
      "text/html": [
       "<table>\n",
       "<caption>A data.table: 6 × 2</caption>\n",
       "<thead>\n",
       "\t<tr><th scope=col>date</th><th scope=col>Price</th></tr>\n",
       "\t<tr><th scope=col>&lt;date&gt;</th><th scope=col>&lt;dbl&gt;</th></tr>\n",
       "</thead>\n",
       "<tbody>\n",
       "\t<tr><td>2020-05-01</td><td>10449.01</td></tr>\n",
       "\t<tr><td>2020-05-04</td><td>10516.09</td></tr>\n",
       "\t<tr><td>2020-05-05</td><td>10551.16</td></tr>\n",
       "\t<tr><td>2020-05-06</td><td>10596.77</td></tr>\n",
       "\t<tr><td>2020-05-07</td><td>10676.25</td></tr>\n",
       "\t<tr><td>2020-05-08</td><td>10695.59</td></tr>\n",
       "</tbody>\n",
       "</table>\n"
      ],
      "text/latex": [
       "A data.table: 6 × 2\n",
       "\\begin{tabular}{ll}\n",
       " date & Price\\\\\n",
       " <date> & <dbl>\\\\\n",
       "\\hline\n",
       "\t 2020-05-01 & 10449.01\\\\\n",
       "\t 2020-05-04 & 10516.09\\\\\n",
       "\t 2020-05-05 & 10551.16\\\\\n",
       "\t 2020-05-06 & 10596.77\\\\\n",
       "\t 2020-05-07 & 10676.25\\\\\n",
       "\t 2020-05-08 & 10695.59\\\\\n",
       "\\end{tabular}\n"
      ],
      "text/markdown": [
       "\n",
       "A data.table: 6 × 2\n",
       "\n",
       "| date &lt;date&gt; | Price &lt;dbl&gt; |\n",
       "|---|---|\n",
       "| 2020-05-01 | 10449.01 |\n",
       "| 2020-05-04 | 10516.09 |\n",
       "| 2020-05-05 | 10551.16 |\n",
       "| 2020-05-06 | 10596.77 |\n",
       "| 2020-05-07 | 10676.25 |\n",
       "| 2020-05-08 | 10695.59 |\n",
       "\n"
      ],
      "text/plain": [
       "  date       Price   \n",
       "1 2020-05-01 10449.01\n",
       "2 2020-05-04 10516.09\n",
       "3 2020-05-05 10551.16\n",
       "4 2020-05-06 10596.77\n",
       "5 2020-05-07 10676.25\n",
       "6 2020-05-08 10695.59"
      ]
     },
     "metadata": {},
     "output_type": "display_data"
    }
   ],
   "source": [
    "# Load data\n",
    "\n",
    "df2 = read.csv('^NZ50.csv')\n",
    "df2 %>% setDT\n",
    "df2 = df2[,.(date = as.Date(Date),\n",
    "                 Price = Adj.Close%>% as.character %>% as.numeric)]\n",
    "df2 = df2[date>='2019-05-04' & date <= '2020-05-08',]\n",
    "df2 = na.omit(df2)\n",
    "setkey(df2, date)\n",
    "df2 %>% tail"
   ]
  },
  {
   "cell_type": "code",
   "execution_count": 53,
   "metadata": {},
   "outputs": [
    {
     "data": {
      "text/html": [
       "<table>\n",
       "<caption>A data.table: 6 × 4</caption>\n",
       "<thead>\n",
       "\t<tr><th scope=col>date</th><th scope=col>Price.x</th><th scope=col>Price.y</th><th scope=col>Price</th></tr>\n",
       "\t<tr><th scope=col>&lt;date&gt;</th><th scope=col>&lt;dbl&gt;</th><th scope=col>&lt;dbl&gt;</th><th scope=col>&lt;dbl&gt;</th></tr>\n",
       "</thead>\n",
       "<tbody>\n",
       "\t<tr><td>2020-04-29</td><td>24643.59</td><td>10725.15</td><td>17684.37</td></tr>\n",
       "\t<tr><td>2020-05-04</td><td>23613.80</td><td>10516.09</td><td>17064.95</td></tr>\n",
       "\t<tr><td>2020-05-05</td><td>23868.66</td><td>10551.16</td><td>17209.91</td></tr>\n",
       "\t<tr><td>2020-05-06</td><td>24137.48</td><td>10596.77</td><td>17367.12</td></tr>\n",
       "\t<tr><td>2020-05-07</td><td>23980.63</td><td>10676.25</td><td>17328.44</td></tr>\n",
       "\t<tr><td>2020-05-08</td><td>24230.17</td><td>10695.59</td><td>17462.88</td></tr>\n",
       "</tbody>\n",
       "</table>\n"
      ],
      "text/latex": [
       "A data.table: 6 × 4\n",
       "\\begin{tabular}{llll}\n",
       " date & Price.x & Price.y & Price\\\\\n",
       " <date> & <dbl> & <dbl> & <dbl>\\\\\n",
       "\\hline\n",
       "\t 2020-04-29 & 24643.59 & 10725.15 & 17684.37\\\\\n",
       "\t 2020-05-04 & 23613.80 & 10516.09 & 17064.95\\\\\n",
       "\t 2020-05-05 & 23868.66 & 10551.16 & 17209.91\\\\\n",
       "\t 2020-05-06 & 24137.48 & 10596.77 & 17367.12\\\\\n",
       "\t 2020-05-07 & 23980.63 & 10676.25 & 17328.44\\\\\n",
       "\t 2020-05-08 & 24230.17 & 10695.59 & 17462.88\\\\\n",
       "\\end{tabular}\n"
      ],
      "text/markdown": [
       "\n",
       "A data.table: 6 × 4\n",
       "\n",
       "| date &lt;date&gt; | Price.x &lt;dbl&gt; | Price.y &lt;dbl&gt; | Price &lt;dbl&gt; |\n",
       "|---|---|---|---|\n",
       "| 2020-04-29 | 24643.59 | 10725.15 | 17684.37 |\n",
       "| 2020-05-04 | 23613.80 | 10516.09 | 17064.95 |\n",
       "| 2020-05-05 | 23868.66 | 10551.16 | 17209.91 |\n",
       "| 2020-05-06 | 24137.48 | 10596.77 | 17367.12 |\n",
       "| 2020-05-07 | 23980.63 | 10676.25 | 17328.44 |\n",
       "| 2020-05-08 | 24230.17 | 10695.59 | 17462.88 |\n",
       "\n"
      ],
      "text/plain": [
       "  date       Price.x  Price.y  Price   \n",
       "1 2020-04-29 24643.59 10725.15 17684.37\n",
       "2 2020-05-04 23613.80 10516.09 17064.95\n",
       "3 2020-05-05 23868.66 10551.16 17209.91\n",
       "4 2020-05-06 24137.48 10596.77 17367.12\n",
       "5 2020-05-07 23980.63 10676.25 17328.44\n",
       "6 2020-05-08 24230.17 10695.59 17462.88"
      ]
     },
     "metadata": {},
     "output_type": "display_data"
    }
   ],
   "source": [
    "df = merge(df1, df2, all=FALSE, by = 'date')\n",
    "df[, Price := 0.5*Price.x + 0.5*Price.y]\n",
    "df %>% tail"
   ]
  },
  {
   "cell_type": "code",
   "execution_count": 55,
   "metadata": {},
   "outputs": [
    {
     "data": {
      "image/png": "[encoded data removed]",
      "text/plain": [
       "plot without title"
      ]
     },
     "metadata": {
      "image/png": {
       "height": 420,
       "width": 420
      },
      "text/plain": {
       "height": 420,
       "width": 420
      }
     },
     "output_type": "display_data"
    }
   ],
   "source": [
    "# Graph of the index\n",
    "\n",
    "ggplot(df, aes(x=date)) + geom_line(aes(y=Price,color=\"Portfolio\"),lwd=1.2)+\n",
    "    geom_line(aes(y=Price.x,color=\"HSI\"),lwd=1.2) +\n",
    "     geom_line(aes(y=Price.y,color=\"NZ50\"),lwd=1.2)  +\n",
    "  theme(text = element_text(size=15)) +\n",
    "  scale_size_manual( values = c(4,2,2) )"
   ]
  },
  {
   "cell_type": "code",
   "execution_count": 56,
   "metadata": {
    "scrolled": false
   },
   "outputs": [
    {
     "data": {
      "image/png": "[encoded data removed]",
      "text/plain": [
       "Plot with title \"Series  df$Price\""
      ]
     },
     "metadata": {
      "image/png": {
       "height": 420,
       "width": 420
      },
      "text/plain": {
       "height": 420,
       "width": 420
      }
     },
     "output_type": "display_data"
    }
   ],
   "source": [
    "# ACFs and PACFs \n",
    "par(mfrow=c(2,1))\n",
    "\n",
    "Acf(df$Price, lag.max = 50)\n",
    "\n",
    "Pacf(df$Price, lag.max = 50)"
   ]
  },
  {
   "cell_type": "code",
   "execution_count": 57,
   "metadata": {},
   "outputs": [
    {
     "name": "stdout",
     "output_type": "stream",
     "text": [
      "Augmented Dickey-Fuller Test \n",
      "alternative: stationary \n",
      " \n",
      "Type 1: no drift no trend \n",
      "     lag    ADF p.value\n",
      "[1,]   0 -0.671   0.439\n",
      "[2,]   1 -0.768   0.404\n",
      "[3,]   2 -0.682   0.435\n",
      "[4,]   3 -0.474   0.508\n",
      "[5,]   4 -0.535   0.488\n",
      "Type 2: with drift no trend \n",
      "     lag   ADF p.value\n",
      "[1,]   0 -1.74   0.431\n",
      "[2,]   1 -1.54   0.507\n",
      "[3,]   2 -1.65   0.464\n",
      "[4,]   3 -2.06   0.303\n",
      "[5,]   4 -1.90   0.369\n",
      "Type 3: with drift and trend \n",
      "     lag   ADF p.value\n",
      "[1,]   0 -1.98   0.585\n",
      "[2,]   1 -1.75   0.681\n",
      "[3,]   2 -1.89   0.622\n",
      "[4,]   3 -2.38   0.416\n",
      "[5,]   4 -2.19   0.495\n",
      "---- \n",
      "Note: in fact, p.value = 0.01 means p.value <= 0.01 \n"
     ]
    }
   ],
   "source": [
    "# Augmented Dickey-Fuller Test\n",
    "\n",
    "aTSA::adf.test(df$Price, nlag = NULL, output = TRUE)"
   ]
  },
  {
   "cell_type": "markdown",
   "metadata": {},
   "source": [
    "From the graph and ACF plot, we can see the persistence of the price is very high. It brings the question whether it is nonstationary. Checking with Augmented Dickey-Fuller test, the p-values are all greater than 0.05, meaning we fail to reject the null hypothesis that the time series is non-stationary and unit root exists. So, we need to use log differences to make it mean stationary:\n",
    "$R_t = log(P_t) - log(P_{t-1})$"
   ]
  },
  {
   "cell_type": "code",
   "execution_count": 58,
   "metadata": {
    "scrolled": false
   },
   "outputs": [
    {
     "data": {
      "image/png": "[encoded data removed]",
      "text/plain": [
       "plot without title"
      ]
     },
     "metadata": {
      "image/png": {
       "height": 420,
       "width": 420
      },
      "text/plain": {
       "height": 420,
       "width": 420
      }
     },
     "output_type": "display_data"
    }
   ],
   "source": [
    "df[, price.lag.1:= shift(Price, type = 'lag', n=1) ]\n",
    "df[, price.log.diff := log(Price) - log(price.lag.1)]\n",
    "df = na.omit(df)\n",
    "ggplot(df, aes(x=date)) + geom_line(aes(y=price.log.diff,group=1))+ theme_minimal() "
   ]
  },
  {
   "cell_type": "code",
   "execution_count": 59,
   "metadata": {
    "scrolled": true
   },
   "outputs": [
    {
     "data": {
      "text/html": [
       "<dl class=dl-horizontal>\n",
       "\t<dt>nbr.val</dt>\n",
       "\t\t<dd>245</dd>\n",
       "\t<dt>nbr.null</dt>\n",
       "\t\t<dd>0</dd>\n",
       "\t<dt>nbr.na</dt>\n",
       "\t\t<dd>0</dd>\n",
       "\t<dt>min</dt>\n",
       "\t\t<dd>-0.058221364517717</dd>\n",
       "\t<dt>max</dt>\n",
       "\t\t<dd>0.0664746376737035</dd>\n",
       "\t<dt>range</dt>\n",
       "\t\t<dd>0.124696002191421</dd>\n",
       "\t<dt>sum</dt>\n",
       "\t\t<dd>-0.114697732556277</dd>\n",
       "\t<dt>median</dt>\n",
       "\t\t<dd>0.000667055095840752</dd>\n",
       "\t<dt>mean</dt>\n",
       "\t\t<dd>-0.000468154010433782</dd>\n",
       "\t<dt>SE.mean</dt>\n",
       "\t\t<dd>0.000850566450934549</dd>\n",
       "\t<dt>CI.mean.0.95</dt>\n",
       "\t\t<dd>0.00167538965109226</dd>\n",
       "\t<dt>var</dt>\n",
       "\t\t<dd>0.000177248505426572</dd>\n",
       "\t<dt>std.dev</dt>\n",
       "\t\t<dd>0.0133134708256927</dd>\n",
       "\t<dt>coef.var</dt>\n",
       "\t\t<dd>-28.4382287216909</dd>\n",
       "</dl>\n"
      ],
      "text/latex": [
       "\\begin{description*}\n",
       "\\item[nbr.val] 245\n",
       "\\item[nbr.null] 0\n",
       "\\item[nbr.na] 0\n",
       "\\item[min] -0.058221364517717\n",
       "\\item[max] 0.0664746376737035\n",
       "\\item[range] 0.124696002191421\n",
       "\\item[sum] -0.114697732556277\n",
       "\\item[median] 0.000667055095840752\n",
       "\\item[mean] -0.000468154010433782\n",
       "\\item[SE.mean] 0.000850566450934549\n",
       "\\item[CI.mean.0.95] 0.00167538965109226\n",
       "\\item[var] 0.000177248505426572\n",
       "\\item[std.dev] 0.0133134708256927\n",
       "\\item[coef.var] -28.4382287216909\n",
       "\\end{description*}\n"
      ],
      "text/markdown": [
       "nbr.val\n",
       ":   245nbr.null\n",
       ":   0nbr.na\n",
       ":   0min\n",
       ":   -0.058221364517717max\n",
       ":   0.0664746376737035range\n",
       ":   0.124696002191421sum\n",
       ":   -0.114697732556277median\n",
       ":   0.000667055095840752mean\n",
       ":   -0.000468154010433782SE.mean\n",
       ":   0.000850566450934549CI.mean.0.95\n",
       ":   0.00167538965109226var\n",
       ":   0.000177248505426572std.dev\n",
       ":   0.0133134708256927coef.var\n",
       ":   -28.4382287216909\n",
       "\n"
      ],
      "text/plain": [
       "      nbr.val      nbr.null        nbr.na           min           max \n",
       " 2.450000e+02  0.000000e+00  0.000000e+00 -5.822136e-02  6.647464e-02 \n",
       "        range           sum        median          mean       SE.mean \n",
       " 1.246960e-01 -1.146977e-01  6.670551e-04 -4.681540e-04  8.505665e-04 \n",
       " CI.mean.0.95           var       std.dev      coef.var \n",
       " 1.675390e-03  1.772485e-04  1.331347e-02 -2.843823e+01 "
      ]
     },
     "metadata": {},
     "output_type": "display_data"
    }
   ],
   "source": [
    "# Descriptive statistics \n",
    "\n",
    "stat.desc(df$price.log.diff)"
   ]
  },
  {
   "cell_type": "code",
   "execution_count": 60,
   "metadata": {},
   "outputs": [
    {
     "data": {
      "text/html": [
       "0.00559997314032756"
      ],
      "text/latex": [
       "0.00559997314032756"
      ],
      "text/markdown": [
       "0.00559997314032756"
      ],
      "text/plain": [
       "[1] 0.005599973"
      ]
     },
     "metadata": {},
     "output_type": "display_data"
    }
   ],
   "source": [
    "getmode <- function(v) {\n",
    "   uniqv <- unique(v)\n",
    "   uniqv[which.max(tabulate(match(v, uniqv)))]\n",
    "}\n",
    "getmode(df$price.log.diff)"
   ]
  },
  {
   "cell_type": "code",
   "execution_count": 61,
   "metadata": {},
   "outputs": [
    {
     "data": {
      "text/html": [
       "6.86555752595272"
      ],
      "text/latex": [
       "6.86555752595272"
      ],
      "text/markdown": [
       "6.86555752595272"
      ],
      "text/plain": [
       "[1] 6.865558\n",
       "attr(,\"method\")\n",
       "[1] \"excess\""
      ]
     },
     "metadata": {},
     "output_type": "display_data"
    }
   ],
   "source": [
    "kurtosis(df$price.log.diff)"
   ]
  },
  {
   "cell_type": "code",
   "execution_count": 62,
   "metadata": {
    "scrolled": true
   },
   "outputs": [
    {
     "data": {
      "text/html": [
       "-0.739737395587718"
      ],
      "text/latex": [
       "-0.739737395587718"
      ],
      "text/markdown": [
       "-0.739737395587718"
      ],
      "text/plain": [
       "[1] -0.7397374\n",
       "attr(,\"method\")\n",
       "[1] \"moment\""
      ]
     },
     "metadata": {},
     "output_type": "display_data"
    }
   ],
   "source": [
    "skewness(df$price.log.diff)"
   ]
  },
  {
   "cell_type": "code",
   "execution_count": 65,
   "metadata": {
    "scrolled": false
   },
   "outputs": [
    {
     "data": {
      "text/html": [
       "<ol class=list-inline>\n",
       "\t<li>1</li>\n",
       "\t<li>-0.157642230234338</li>\n",
       "\t<li>0.0950022737158707</li>\n",
       "\t<li>0.188380147131938</li>\n",
       "\t<li>-0.141209620458376</li>\n",
       "\t<li>0.183429150052596</li>\n",
       "\t<li>-0.135096943169756</li>\n",
       "\t<li>0.129887347761159</li>\n",
       "\t<li>-0.101952109422339</li>\n",
       "\t<li>-0.052831272249996</li>\n",
       "\t<li>0.075059128842705</li>\n",
       "\t<li>-0.103629566596324</li>\n",
       "\t<li>-0.0131925228126309</li>\n",
       "\t<li>-0.0273727215768247</li>\n",
       "\t<li>0.073940996788597</li>\n",
       "\t<li>0.0691733980618334</li>\n",
       "\t<li>-0.0318283721508313</li>\n",
       "\t<li>-0.00669051548602743</li>\n",
       "\t<li>-0.00393707816462028</li>\n",
       "\t<li>-0.0695757636065984</li>\n",
       "\t<li>-0.0372495279671415</li>\n",
       "\t<li>-0.0499862479711694</li>\n",
       "\t<li>-0.00447565214587134</li>\n",
       "\t<li>-0.165266644812401</li>\n",
       "\t<li>-0.0654638587485754</li>\n",
       "\t<li>0.0397484898098808</li>\n",
       "\t<li>-0.0565412841719801</li>\n",
       "\t<li>0.0327786312039887</li>\n",
       "\t<li>-0.0579149835359953</li>\n",
       "\t<li>0.0120377848089366</li>\n",
       "\t<li>0.0313024984678348</li>\n",
       "\t<li>-0.00446204036550489</li>\n",
       "\t<li>0.0712226860732174</li>\n",
       "\t<li>-0.0477548431515098</li>\n",
       "\t<li>0.0459284177094407</li>\n",
       "\t<li>0.0509472815600601</li>\n",
       "\t<li>0.0749020180160724</li>\n",
       "\t<li>-0.0576187630444108</li>\n",
       "\t<li>-0.0468613540801541</li>\n",
       "\t<li>0.0310820364429371</li>\n",
       "\t<li>-0.0673254011994213</li>\n",
       "\t<li>0.0179438980324557</li>\n",
       "\t<li>-0.0296056897780537</li>\n",
       "\t<li>-0.000543218325012862</li>\n",
       "\t<li>-0.0301196588337436</li>\n",
       "\t<li>0.00964012923180957</li>\n",
       "\t<li>-0.029193424820865</li>\n",
       "\t<li>-0.0684546622168016</li>\n",
       "\t<li>-0.00556360868392021</li>\n",
       "\t<li>0.0127937894214954</li>\n",
       "\t<li>0.0122457299580789</li>\n",
       "</ol>\n"
      ],
      "text/latex": [
       "\\begin{enumerate*}\n",
       "\\item 1\n",
       "\\item -0.157642230234338\n",
       "\\item 0.0950022737158707\n",
       "\\item 0.188380147131938\n",
       "\\item -0.141209620458376\n",
       "\\item 0.183429150052596\n",
       "\\item -0.135096943169756\n",
       "\\item 0.129887347761159\n",
       "\\item -0.101952109422339\n",
       "\\item -0.052831272249996\n",
       "\\item 0.075059128842705\n",
       "\\item -0.103629566596324\n",
       "\\item -0.0131925228126309\n",
       "\\item -0.0273727215768247\n",
       "\\item 0.073940996788597\n",
       "\\item 0.0691733980618334\n",
       "\\item -0.0318283721508313\n",
       "\\item -0.00669051548602743\n",
       "\\item -0.00393707816462028\n",
       "\\item -0.0695757636065984\n",
       "\\item -0.0372495279671415\n",
       "\\item -0.0499862479711694\n",
       "\\item -0.00447565214587134\n",
       "\\item -0.165266644812401\n",
       "\\item -0.0654638587485754\n",
       "\\item 0.0397484898098808\n",
       "\\item -0.0565412841719801\n",
       "\\item 0.0327786312039887\n",
       "\\item -0.0579149835359953\n",
       "\\item 0.0120377848089366\n",
       "\\item 0.0313024984678348\n",
       "\\item -0.00446204036550489\n",
       "\\item 0.0712226860732174\n",
       "\\item -0.0477548431515098\n",
       "\\item 0.0459284177094407\n",
       "\\item 0.0509472815600601\n",
       "\\item 0.0749020180160724\n",
       "\\item -0.0576187630444108\n",
       "\\item -0.0468613540801541\n",
       "\\item 0.0310820364429371\n",
       "\\item -0.0673254011994213\n",
       "\\item 0.0179438980324557\n",
       "\\item -0.0296056897780537\n",
       "\\item -0.000543218325012862\n",
       "\\item -0.0301196588337436\n",
       "\\item 0.00964012923180957\n",
       "\\item -0.029193424820865\n",
       "\\item -0.0684546622168016\n",
       "\\item -0.00556360868392021\n",
       "\\item 0.0127937894214954\n",
       "\\item 0.0122457299580789\n",
       "\\end{enumerate*}\n"
      ],
      "text/markdown": [
       "1. 1\n",
       "2. -0.157642230234338\n",
       "3. 0.0950022737158707\n",
       "4. 0.188380147131938\n",
       "5. -0.141209620458376\n",
       "6. 0.183429150052596\n",
       "7. -0.135096943169756\n",
       "8. 0.129887347761159\n",
       "9. -0.101952109422339\n",
       "10. -0.052831272249996\n",
       "11. 0.075059128842705\n",
       "12. -0.103629566596324\n",
       "13. -0.0131925228126309\n",
       "14. -0.0273727215768247\n",
       "15. 0.073940996788597\n",
       "16. 0.0691733980618334\n",
       "17. -0.0318283721508313\n",
       "18. -0.00669051548602743\n",
       "19. -0.00393707816462028\n",
       "20. -0.0695757636065984\n",
       "21. -0.0372495279671415\n",
       "22. -0.0499862479711694\n",
       "23. -0.00447565214587134\n",
       "24. -0.165266644812401\n",
       "25. -0.0654638587485754\n",
       "26. 0.0397484898098808\n",
       "27. -0.0565412841719801\n",
       "28. 0.0327786312039887\n",
       "29. -0.0579149835359953\n",
       "30. 0.0120377848089366\n",
       "31. 0.0313024984678348\n",
       "32. -0.00446204036550489\n",
       "33. 0.0712226860732174\n",
       "34. -0.0477548431515098\n",
       "35. 0.0459284177094407\n",
       "36. 0.0509472815600601\n",
       "37. 0.0749020180160724\n",
       "38. -0.0576187630444108\n",
       "39. -0.0468613540801541\n",
       "40. 0.0310820364429371\n",
       "41. -0.0673254011994213\n",
       "42. 0.0179438980324557\n",
       "43. -0.0296056897780537\n",
       "44. -0.000543218325012862\n",
       "45. -0.0301196588337436\n",
       "46. 0.00964012923180957\n",
       "47. -0.029193424820865\n",
       "48. -0.0684546622168016\n",
       "49. -0.00556360868392021\n",
       "50. 0.0127937894214954\n",
       "51. 0.0122457299580789\n",
       "\n",
       "\n"
      ],
      "text/plain": [
       ", , 1\n",
       "\n",
       "               [,1]\n",
       " [1,]  1.0000000000\n",
       " [2,] -0.1576422302\n",
       " [3,]  0.0950022737\n",
       " [4,]  0.1883801471\n",
       " [5,] -0.1412096205\n",
       " [6,]  0.1834291501\n",
       " [7,] -0.1350969432\n",
       " [8,]  0.1298873478\n",
       " [9,] -0.1019521094\n",
       "[10,] -0.0528312722\n",
       "[11,]  0.0750591288\n",
       "[12,] -0.1036295666\n",
       "[13,] -0.0131925228\n",
       "[14,] -0.0273727216\n",
       "[15,]  0.0739409968\n",
       "[16,]  0.0691733981\n",
       "[17,] -0.0318283722\n",
       "[18,] -0.0066905155\n",
       "[19,] -0.0039370782\n",
       "[20,] -0.0695757636\n",
       "[21,] -0.0372495280\n",
       "[22,] -0.0499862480\n",
       "[23,] -0.0044756521\n",
       "[24,] -0.1652666448\n",
       "[25,] -0.0654638587\n",
       "[26,]  0.0397484898\n",
       "[27,] -0.0565412842\n",
       "[28,]  0.0327786312\n",
       "[29,] -0.0579149835\n",
       "[30,]  0.0120377848\n",
       "[31,]  0.0313024985\n",
       "[32,] -0.0044620404\n",
       "[33,]  0.0712226861\n",
       "[34,] -0.0477548432\n",
       "[35,]  0.0459284177\n",
       "[36,]  0.0509472816\n",
       "[37,]  0.0749020180\n",
       "[38,] -0.0576187630\n",
       "[39,] -0.0468613541\n",
       "[40,]  0.0310820364\n",
       "[41,] -0.0673254012\n",
       "[42,]  0.0179438980\n",
       "[43,] -0.0296056898\n",
       "[44,] -0.0005432183\n",
       "[45,] -0.0301196588\n",
       "[46,]  0.0096401292\n",
       "[47,] -0.0291934248\n",
       "[48,] -0.0684546622\n",
       "[49,] -0.0055636087\n",
       "[50,]  0.0127937894\n",
       "[51,]  0.0122457300\n"
      ]
     },
     "metadata": {},
     "output_type": "display_data"
    },
    {
     "data": {
      "image/png": "[encoded data removed]",
      "text/plain": [
       "Plot with title \"PACF of Portfolio Return\""
      ]
     },
     "metadata": {
      "image/png": {
       "height": 420,
       "width": 420
      },
      "text/plain": {
       "height": 420,
       "width": 420
      }
     },
     "output_type": "display_data"
    }
   ],
   "source": [
    "# ACFs and PACFs \n",
    "par(mfrow=c(2,2))\n",
    "plot(df$price.log.diff, type=\"l\", main = \"Portfolio Return\")\n",
    "hist(df$price.log.diff, main = \"Histogram of Portfolio Return\")\n",
    "\n",
    "acf = Acf(df$price.log.diff, lag.max = 50, main = \"ACF of Portfolio Return\")\n",
    "acf$acf\n",
    "Pacf(df$price.log.diff, lag.max = 50, main = \"PACF of Portfolio Return\")"
   ]
  },
  {
   "cell_type": "markdown",
   "metadata": {},
   "source": [
    "### Time series sharing common information:\n",
    "Finding $\\gamma_1^{ij} = Cov(R_t^{NZ50}, R_{t-1}^{HSI})$\n",
    "Let i be NZ50, j be HSI,\n",
    "$\\gamma_1 = Cov(R_t, R_{t-1}) = Cov(\\frac{R_t^i+R_t^j}{2}, \\frac{R_{t-1}^i+R_{t-1}^j}{2})=\\frac{1}{4} [\\gamma_1^i + \\gamma_1^j + \\gamma_1^{ij} + \\gamma_1^{ji}] = -0.15764$\n",
    "Note that $\\gamma_1^j = 0$ as HSI return is white noise; $\\gamma_1^{ji}$ is assumed to be zero since there is no common news between the two returns;  $\\gamma_1^i = -0.41202$; Therefore, $\\gamma_1^{ij} = -0.41202$. \n",
    "$95\\% Confidence Interval = [\\pm \\frac{1.96}{\\sqrt{245}}] = [-0.1252, 0.1252]$\n",
    "Therefore, $\\gamma_1^{ij}$ is statistically significant, thus nonsynchronous trading is possible. "
   ]
  },
  {
   "cell_type": "code",
   "execution_count": 66,
   "metadata": {
    "scrolled": false
   },
   "outputs": [
    {
     "name": "stdout",
     "output_type": "stream",
     "text": [
      "Augmented Dickey-Fuller Test \n",
      "alternative: stationary \n",
      " \n",
      "Type 1: no drift no trend \n",
      "     lag    ADF p.value\n",
      "[1,]   0 -18.24    0.01\n",
      "[2,]   1 -10.96    0.01\n",
      "[3,]   2  -7.14    0.01\n",
      "[4,]   3  -7.06    0.01\n",
      "[5,]   4  -5.68    0.01\n",
      "Type 2: with drift no trend \n",
      "     lag    ADF p.value\n",
      "[1,]   0 -18.23    0.01\n",
      "[2,]   1 -10.96    0.01\n",
      "[3,]   2  -7.14    0.01\n",
      "[4,]   3  -7.06    0.01\n",
      "[5,]   4  -5.68    0.01\n",
      "Type 3: with drift and trend \n",
      "     lag    ADF p.value\n",
      "[1,]   0 -18.20    0.01\n",
      "[2,]   1 -10.94    0.01\n",
      "[3,]   2  -7.13    0.01\n",
      "[4,]   3  -7.06    0.01\n",
      "[5,]   4  -5.68    0.01\n",
      "---- \n",
      "Note: in fact, p.value = 0.01 means p.value <= 0.01 \n"
     ]
    }
   ],
   "source": [
    "# Augmented Dickey-Fuller Test\n",
    "\n",
    "aTSA::adf.test(df$price.log.diff, nlag = NULL, output = TRUE)"
   ]
  },
  {
   "cell_type": "code",
   "execution_count": 67,
   "metadata": {},
   "outputs": [
    {
     "data": {
      "text/plain": [
       "\n",
       "\tBox-Ljung test\n",
       "\n",
       "data:  df$price.log.diff\n",
       "X-squared = 75.097, df = 50, p-value = 0.01236\n"
      ]
     },
     "metadata": {},
     "output_type": "display_data"
    }
   ],
   "source": [
    "#  Ljung-Box Test\n",
    "Box.test(df$price.log.diff, lag = 50, type = \"Ljung-Box\")"
   ]
  },
  {
   "cell_type": "markdown",
   "metadata": {},
   "source": [
    "The return is seems mean stationary, however, is obviously variance non-stationary from the plot. From the Augmented Dickey-Fuller test, the coefficients are all negative in the three types of test, and the p-value is smaller than 0.01, indicating the data do not have unit root and is covariance stationary. From the ACF graph, it has spikes on the first few lags, and then a decay toward zero; PACF shows splike from first lag and a smooth decay toward zero. These are signs that the time zeries may be an ARMA process."
   ]
  },
  {
   "cell_type": "markdown",
   "metadata": {},
   "source": [
    "## Model Selection"
   ]
  },
  {
   "cell_type": "code",
   "execution_count": 68,
   "metadata": {
    "scrolled": true
   },
   "outputs": [
    {
     "name": "stdout",
     "output_type": "stream",
     "text": [
      "[1] \"Number of observations: 240\"\n"
     ]
    }
   ],
   "source": [
    "# prepare ts data\n",
    "\n",
    "df.ts = df[ date < '2020-05-04', list(date, price.log.diff)] \n",
    "tsdata = ts(df.ts$price.log.diff, start = df$date[1], frequency = 365)\n",
    "print(paste(\"Number of observations:\",length(tsdata)))"
   ]
  },
  {
   "cell_type": "code",
   "execution_count": 69,
   "metadata": {
    "scrolled": false
   },
   "outputs": [
    {
     "name": "stdout",
     "output_type": "stream",
     "text": [
      "\n",
      " Fitting models using approximations to speed things up...\n",
      "\n",
      " ARIMA(2,0,2)             with non-zero mean : -1400.247\n",
      " ARIMA(0,0,0)             with non-zero mean : -1392.358\n",
      " ARIMA(1,0,0)             with non-zero mean : -1395.413\n",
      " ARIMA(0,0,1)             with non-zero mean : -1394.889\n",
      " ARIMA(0,0,0)             with zero mean     : -1394.143\n",
      " ARIMA(1,0,2)             with non-zero mean : -1401.451\n",
      " ARIMA(0,0,2)             with non-zero mean : -1402.558\n",
      " ARIMA(0,0,3)             with non-zero mean : -1404.067\n",
      " ARIMA(1,0,3)             with non-zero mean : -1414.939\n",
      " ARIMA(2,0,3)             with non-zero mean : -1412.123\n",
      " ARIMA(1,0,4)             with non-zero mean : -1413.394\n",
      " ARIMA(0,0,4)             with non-zero mean : -1407.295\n",
      " ARIMA(2,0,4)             with non-zero mean : Inf\n",
      " ARIMA(1,0,3)             with zero mean     : -1416.878\n",
      " ARIMA(0,0,3)             with zero mean     : -1405.975\n",
      " ARIMA(1,0,2)             with zero mean     : -1403.339\n",
      " ARIMA(2,0,3)             with zero mean     : -1413.736\n",
      " ARIMA(1,0,4)             with zero mean     : -1415.317\n",
      " ARIMA(0,0,2)             with zero mean     : -1404.402\n",
      " ARIMA(0,0,4)             with zero mean     : -1409.148\n",
      " ARIMA(2,0,2)             with zero mean     : -1402.216\n",
      " ARIMA(2,0,4)             with zero mean     : Inf\n",
      "\n",
      " Now re-fitting the best model(s) without approximations...\n",
      "\n",
      " ARIMA(1,0,3)             with zero mean     : -1417.999\n",
      "\n",
      " Best model: ARIMA(1,0,3)             with zero mean     \n",
      "\n"
     ]
    },
    {
     "data": {
      "text/plain": [
       "Series: tsdata \n",
       "ARIMA(1,0,3) with zero mean \n",
       "\n",
       "Coefficients:\n",
       "          ar1     ma1     ma2     ma3\n",
       "      -0.6371  0.5523  0.0363  0.2977\n",
       "s.e.   0.0932  0.1002  0.0729  0.0589\n",
       "\n",
       "sigma^2 estimated as 0.0001547:  log likelihood=714.13\n",
       "AIC=-1418.26   AICc=-1418   BIC=-1400.85"
      ]
     },
     "metadata": {},
     "output_type": "display_data"
    }
   ],
   "source": [
    "#  fitting different ARMA models and compare with AIC\n",
    "\n",
    "auto.arima(tsdata, trace=TRUE)"
   ]
  },
  {
   "cell_type": "markdown",
   "metadata": {},
   "source": [
    "Using AIC as model selection criterion, the best model estimated is ARMA(1,3)"
   ]
  },
  {
   "cell_type": "markdown",
   "metadata": {},
   "source": [
    "#### ARMA(1,3)\n",
    "$R_t=\\delta+\\varphi_1R_{t-1}+\\varepsilon_t+\\theta_1\\varepsilon_{t-1}+\\theta_2\\varepsilon_{t-2}+\\theta_3\\varepsilon_{t-3}$"
   ]
  },
  {
   "cell_type": "code",
   "execution_count": 17,
   "metadata": {
    "scrolled": true
   },
   "outputs": [
    {
     "data": {
      "text/plain": [
       "\n",
       "z test of coefficients:\n",
       "\n",
       "             Estimate  Std. Error z value  Pr(>|z|)    \n",
       "ar1       -0.63739625  0.09315677 -6.8422 7.799e-12 ***\n",
       "ma1        0.55189381  0.10011798  5.5124 3.539e-08 ***\n",
       "ma2        0.03498287  0.07293616  0.4796    0.6315    \n",
       "ma3        0.29691070  0.05895942  5.0358 4.757e-07 ***\n",
       "intercept -0.00040842  0.00091637 -0.4457    0.6558    \n",
       "---\n",
       "Signif. codes:  0 '***' 0.001 '**' 0.01 '*' 0.05 '.' 0.1 ' ' 1\n"
      ]
     },
     "metadata": {},
     "output_type": "display_data"
    }
   ],
   "source": [
    "fitARIMA <- arima(tsdata, order=c(1,0,3),method=\"ML\")\n",
    "coeftest(fitARIMA)"
   ]
  },
  {
   "cell_type": "markdown",
   "metadata": {},
   "source": [
    "Although ARMA(1,3) has the lowest AIC. From the plot, all roots of characteristic polynomial lie inside unit circle and thus it is stationary and invertible. However, not all its coefficients are statistically significant. Therefore, we would take a look at other models with comparable AIC."
   ]
  },
  {
   "cell_type": "markdown",
   "metadata": {},
   "source": [
    "#### ARMA(1,2)"
   ]
  },
  {
   "cell_type": "code",
   "execution_count": 24,
   "metadata": {
    "scrolled": true
   },
   "outputs": [
    {
     "data": {
      "text/plain": [
       "\n",
       "z test of coefficients:\n",
       "\n",
       "             Estimate  Std. Error z value Pr(>|z|)    \n",
       "ar1        0.38188252  0.25030095  1.5257  0.12709    \n",
       "ma1       -0.54795404  0.24110074 -2.2727  0.02304 *  \n",
       "ma2        0.26820150  0.06396022  4.1933 2.75e-05 ***\n",
       "intercept -0.00039637  0.00095853 -0.4135  0.67923    \n",
       "---\n",
       "Signif. codes:  0 '***' 0.001 '**' 0.01 '*' 0.05 '.' 0.1 ' ' 1\n"
      ]
     },
     "metadata": {},
     "output_type": "display_data"
    }
   ],
   "source": [
    "fitARIMA <- arima(tsdata, order=c(1,0,2),method=\"ML\")\n",
    "coeftest(fitARIMA)"
   ]
  },
  {
   "cell_type": "markdown",
   "metadata": {},
   "source": [
    "#### ARMA(0,2)\n",
    "$R_t=\\delta+\\varepsilon_t+\\theta_1\\varepsilon_{t-1}+\\theta_2\\varepsilon_{t-2}$"
   ]
  },
  {
   "cell_type": "code",
   "execution_count": 25,
   "metadata": {
    "scrolled": true
   },
   "outputs": [
    {
     "data": {
      "text/plain": [
       "\n",
       "z test of coefficients:\n",
       "\n",
       "             Estimate  Std. Error z value Pr(>|z|)    \n",
       "ma1       -0.18789584  0.06421678 -2.9260 0.003434 ** \n",
       "ma2        0.22249976  0.06712252  3.3148 0.000917 ***\n",
       "intercept -0.00040688  0.00085655 -0.4750 0.634774    \n",
       "---\n",
       "Signif. codes:  0 '***' 0.001 '**' 0.01 '*' 0.05 '.' 0.1 ' ' 1\n"
      ]
     },
     "metadata": {},
     "output_type": "display_data"
    }
   ],
   "source": [
    "fitARIMA <- arima(tsdata, order=c(0,0,2),method=\"ML\")\n",
    "coeftest(fitARIMA)"
   ]
  },
  {
   "cell_type": "code",
   "execution_count": 26,
   "metadata": {},
   "outputs": [
    {
     "data": {
      "text/plain": [
       "\n",
       "z test of coefficients:\n",
       "\n",
       "     Estimate Std. Error z value  Pr(>|z|)    \n",
       "ma1 -0.187156   0.064220 -2.9143 0.0035651 ** \n",
       "ma2  0.223368   0.067029  3.3324 0.0008609 ***\n",
       "---\n",
       "Signif. codes:  0 '***' 0.001 '**' 0.01 '*' 0.05 '.' 0.1 ' ' 1\n"
      ]
     },
     "metadata": {},
     "output_type": "display_data"
    }
   ],
   "source": [
    "fitARIMA <- arima(tsdata, order=c(0,0,2),method=\"ML\", include.mean = FALSE)\n",
    "coeftest(fitARIMA)"
   ]
  },
  {
   "cell_type": "markdown",
   "metadata": {},
   "source": [
    "All coefficients are statistically significant."
   ]
  },
  {
   "cell_type": "code",
   "execution_count": 27,
   "metadata": {},
   "outputs": [
    {
     "data": {
      "image/png": "[encoded data removed]",
      "text/plain": [
       "plot without title"
      ]
     },
     "metadata": {
      "image/png": {
       "height": 420,
       "width": 420
      },
      "text/plain": {
       "height": 420,
       "width": 420
      }
     },
     "output_type": "display_data"
    }
   ],
   "source": [
    "# Inverse characteristic roots\n",
    "\n",
    "autoplot(fitARIMA)"
   ]
  },
  {
   "cell_type": "markdown",
   "metadata": {},
   "source": [
    "All roots lie inside unit circle, showing the model is stationary and invertible."
   ]
  },
  {
   "cell_type": "code",
   "execution_count": 28,
   "metadata": {},
   "outputs": [
    {
     "name": "stdout",
     "output_type": "stream",
     "text": [
      "\n",
      "\tLjung-Box test\n",
      "\n",
      "data:  Residuals from ARIMA(0,0,2) with zero mean\n",
      "Q* = 49.984, df = 46, p-value = 0.3181\n",
      "\n",
      "Model df: 2.   Total lags used: 48\n",
      "\n"
     ]
    },
    {
     "data": {
      "image/png": "[encoded data removed]",
      "text/plain": [
       "plot without title"
      ]
     },
     "metadata": {
      "image/png": {
       "height": 420,
       "width": 420
      },
      "text/plain": {
       "height": 420,
       "width": 420
      }
     },
     "output_type": "display_data"
    }
   ],
   "source": [
    "checkresiduals(fitARIMA)"
   ]
  },
  {
   "cell_type": "markdown",
   "metadata": {},
   "source": [
    "Since p-value > 0.05, we fail to reject the null hypothesis that all autocorrelations up to order 50 are equal to zero, meaning the residuals are independent at 95% level. Thus, ARMA(0,2) is a good fit as the residuals are seemingly white noise. However, it is obvious from the plot that the residuals have time-varying volatility."
   ]
  },
  {
   "cell_type": "code",
   "execution_count": 29,
   "metadata": {},
   "outputs": [
    {
     "data": {
      "image/png": "[encoded data removed]",
      "text/plain": [
       "Plot with title \"Series  res\""
      ]
     },
     "metadata": {
      "image/png": {
       "height": 420,
       "width": 420
      },
      "text/plain": {
       "height": 420,
       "width": 420
      }
     },
     "output_type": "display_data"
    }
   ],
   "source": [
    "res = residuals(fitARIMA)\n",
    "# ACFs and PACFs  of residuals \n",
    "par(mfrow=c(2,1))\n",
    "\n",
    "Acf(res, lag.max = 50)\n",
    "\n",
    "Pacf(res, lag.max = 50)"
   ]
  },
  {
   "cell_type": "code",
   "execution_count": 30,
   "metadata": {},
   "outputs": [
    {
     "data": {
      "image/png": "[encoded data removed]",
      "text/plain": [
       "Plot with title \"Series  res^2\""
      ]
     },
     "metadata": {
      "image/png": {
       "height": 420,
       "width": 420
      },
      "text/plain": {
       "height": 420,
       "width": 420
      }
     },
     "output_type": "display_data"
    }
   ],
   "source": [
    "res = residuals(fitARIMA)\n",
    "# ACFs and PACFs  of residuals \n",
    "par(mfrow=c(2,1))\n",
    "\n",
    "Acf(res^2, lag.max = 50)\n",
    "\n",
    "Pacf(res^2, lag.max = 50)"
   ]
  },
  {
   "cell_type": "markdown",
   "metadata": {},
   "source": [
    "From the ACF and PACF plot of squared residuals, we can see the residuals exhibit time-varying volatility as it has autocorrelations with high persistence form the ACF plot with some spikes. Therefore, we would use GARCH model to predict the volatility."
   ]
  },
  {
   "cell_type": "markdown",
   "metadata": {},
   "source": [
    "## Forecast with rolling scheme"
   ]
  },
  {
   "cell_type": "markdown",
   "metadata": {},
   "source": [
    "#### Forecast for May 4:"
   ]
  },
  {
   "cell_type": "code",
   "execution_count": 31,
   "metadata": {
    "scrolled": false
   },
   "outputs": [
    {
     "data": {
      "text/html": [
       "<dl>\n",
       "\t<dt>$pred</dt>\n",
       "\t\t<dd>A Time Series:<br>0.0050774568676682</dd>\n",
       "\t<dt>$se</dt>\n",
       "\t\t<dd>A Time Series:<br>0.0128079484098066</dd>\n",
       "</dl>\n"
      ],
      "text/latex": [
       "\\begin{description}\n",
       "\\item[\\$pred] A Time Series:\\\\0.0050774568676682\n",
       "\\item[\\$se] A Time Series:\\\\0.0128079484098066\n",
       "\\end{description}\n"
      ],
      "text/markdown": [
       "$pred\n",
       ":   A Time Series:  \n",
       "0.0050774568676682\n",
       "$se\n",
       ":   A Time Series:  \n",
       "0.0128079484098066\n",
       "\n",
       "\n"
      ],
      "text/plain": [
       "$pred\n",
       "Time Series:\n",
       "Start = c(18023, 241) \n",
       "End = c(18023, 241) \n",
       "Frequency = 365 \n",
       "[1] 0.005077457\n",
       "\n",
       "$se\n",
       "Time Series:\n",
       "Start = c(18023, 241) \n",
       "End = c(18023, 241) \n",
       "Frequency = 365 \n",
       "[1] 0.01280795\n"
      ]
     },
     "metadata": {},
     "output_type": "display_data"
    }
   ],
   "source": [
    "df.ts = df[ date < '2020-05-04', list(date, price.log.diff)]\n",
    "tsdata = ts(df.ts$price.log.diff, start = df$date[1], frequency = 365)\n",
    "fitARIMA <- arima(tsdata, order=c(0,0,2),method=\"ML\", include.mean = FALSE)\n",
    "# fitARIMA <- arima(tsdata, order=c(3,0,1),method=\"ML\", include.mean = TRUE)\n",
    "predict(fitARIMA, n.ahead=1)"
   ]
  },
  {
   "cell_type": "code",
   "execution_count": 32,
   "metadata": {},
   "outputs": [
    {
     "data": {
      "text/html": [
       "<dl class=dl-horizontal>\n",
       "\t<dt>ma1</dt>\n",
       "\t\t<dd>-0.187156022954587</dd>\n",
       "\t<dt>ma2</dt>\n",
       "\t\t<dd>0.223367702346503</dd>\n",
       "</dl>\n"
      ],
      "text/latex": [
       "\\begin{description*}\n",
       "\\item[ma1] -0.187156022954587\n",
       "\\item[ma2] 0.223367702346503\n",
       "\\end{description*}\n"
      ],
      "text/markdown": [
       "ma1\n",
       ":   -0.187156022954587ma2\n",
       ":   0.223367702346503\n",
       "\n"
      ],
      "text/plain": [
       "       ma1        ma2 \n",
       "-0.1871560  0.2233677 "
      ]
     },
     "metadata": {},
     "output_type": "display_data"
    }
   ],
   "source": [
    "coef(fitARIMA)"
   ]
  },
  {
   "cell_type": "code",
   "execution_count": 33,
   "metadata": {},
   "outputs": [
    {
     "name": "stdout",
     "output_type": "stream",
     "text": [
      "[1] \"The one-step ahead forecast is:  0.0050774568676682\"\n"
     ]
    }
   ],
   "source": [
    "# Manual calculation of one-step ahead forecast for May 4:\n",
    "# ar1 = coef(fitARIMA)['ar1']\n",
    "# ar2 = coef(fitARIMA)['ar2']\n",
    "# ar3 = coef(fitARIMA)['ar3']\n",
    "ma1 = coef(fitARIMA)['ma1']\n",
    "ma2 = coef(fitARIMA)['ma2']\n",
    "mu = coef(fitARIMA)['intercept']\n",
    "# y.series = df.ts$price.log.diff\n",
    "# y.t = y.series[length(y.series)-0]\n",
    "# y.t.1 = y.series[length(y.series)-1]\n",
    "# y.t.2 = y.series[length(y.series)-2]\n",
    "res = residuals(fitARIMA)\n",
    "eps.t = res[length(res)-0]\n",
    "eps.t.1 = res[length(res)-1]\n",
    "f.1 = ma1 * eps.t + ma2 * eps.t.1\n",
    "f.1.4 = f.1\n",
    "print(paste(\"The one-step ahead forecast is: \",f.1))"
   ]
  },
  {
   "cell_type": "code",
   "execution_count": 34,
   "metadata": {},
   "outputs": [
    {
     "name": "stdout",
     "output_type": "stream",
     "text": [
      "[1] \"The truth value is:  -0.035654827562654\"\n",
      "[1] \"The forecast error is: -0.0407322844303222\"\n"
     ]
    }
   ],
   "source": [
    "y.truth = df[date == \"2020-05-04\", list(date, price.log.diff)]$price.log.diff\n",
    "y.4 = y.truth\n",
    "print(paste(\"The truth value is: \",y.truth))\n",
    "eps.t.update = y.truth - f.1\n",
    "e.4 = eps.t.update\n",
    "print(paste(\"The forecast error is:\", eps.t.update))"
   ]
  },
  {
   "cell_type": "code",
   "execution_count": 35,
   "metadata": {
    "scrolled": false
   },
   "outputs": [
    {
     "data": {
      "text/plain": [
       "\n",
       "Call:\n",
       "garch(x = y, order = c(1, 1), trace = FALSE)\n",
       "\n",
       "Model:\n",
       "GARCH(1,1)\n",
       "\n",
       "Residuals:\n",
       "     Min       1Q   Median       3Q      Max \n",
       "-4.36909 -0.53389  0.03172  0.51432  3.73334 \n",
       "\n",
       "Coefficient(s):\n",
       "    Estimate  Std. Error  t value Pr(>|t|)    \n",
       "a0 1.466e-05   6.190e-06    2.368   0.0179 *  \n",
       "a1 2.092e-01   4.404e-02    4.749 2.04e-06 ***\n",
       "b1 6.880e-01   8.610e-02    7.991 1.33e-15 ***\n",
       "---\n",
       "Signif. codes:  0 '***' 0.001 '**' 0.01 '*' 0.05 '.' 0.1 ' ' 1\n",
       "\n",
       "Diagnostic Tests:\n",
       "\tJarque Bera Test\n",
       "\n",
       "data:  Residuals\n",
       "X-squared = 67.573, df = 2, p-value = 2.109e-15\n",
       "\n",
       "\n",
       "\tBox-Ljung test\n",
       "\n",
       "data:  Squared.Residuals\n",
       "X-squared = 0.00079924, df = 1, p-value = 0.9774\n"
      ]
     },
     "metadata": {},
     "output_type": "display_data"
    },
    {
     "data": {
      "image/png": "[encoded data removed]",
      "text/plain": [
       "Plot with title \"Residuals\""
      ]
     },
     "metadata": {
      "image/png": {
       "height": 420,
       "width": 420
      },
      "text/plain": {
       "height": 420,
       "width": 420
      }
     },
     "output_type": "display_data"
    },
    {
     "data": {
      "image/png": "[encoded data removed]",
      "text/plain": [
       "Plot with title \"Histogram of Residuals\""
      ]
     },
     "metadata": {
      "image/png": {
       "height": 420,
       "width": 420
      },
      "text/plain": {
       "height": 420,
       "width": 420
      }
     },
     "output_type": "display_data"
    },
    {
     "data": {
      "image/png": "[encoded data removed]",
      "text/plain": [
       "Plot with title \"Q-Q Plot of Residuals\""
      ]
     },
     "metadata": {
      "image/png": {
       "height": 420,
       "width": 420
      },
      "text/plain": {
       "height": 420,
       "width": 420
      }
     },
     "output_type": "display_data"
    },
    {
     "data": {
      "image/png": "[encoded data removed]",
      "text/plain": [
       "Plot with title \"ACF of Squared Residuals\""
      ]
     },
     "metadata": {
      "image/png": {
       "height": 420,
       "width": 420
      },
      "text/plain": {
       "height": 420,
       "width": 420
      }
     },
     "output_type": "display_data"
    }
   ],
   "source": [
    "y <- ts(res)\n",
    "garch.y <- garch(y, order = c(1,1), trace=FALSE)  # Fit GARCH(1,1)\n",
    "summary(garch.y)                     # Diagnostic tests\n",
    "\n",
    "plot(garch.y)"
   ]
  },
  {
   "cell_type": "code",
   "execution_count": 36,
   "metadata": {},
   "outputs": [
    {
     "data": {
      "image/png": "[encoded data removed]",
      "text/plain": [
       "Plot with title \"Time series plot of residuals with volatility predicted by GARCH(1,1)\""
      ]
     },
     "metadata": {
      "image/png": {
       "height": 420,
       "width": 420
      },
      "text/plain": {
       "height": 420,
       "width": 420
      }
     },
     "output_type": "display_data"
    }
   ],
   "source": [
    "u = predict(garch.y)\n",
    "u = u %>% na.omit\n",
    "plot(y, type=\"l\", xlab=\"Time\", main = \"Time series plot of residuals with volatility predicted by GARCH(1,1)\")\n",
    "lines(u[,1], col=\"blue\", lty=\"dashed\")\n",
    "lines(u[,2], col=\"blue\", lty=\"dashed\")"
   ]
  },
  {
   "cell_type": "code",
   "execution_count": 37,
   "metadata": {},
   "outputs": [
    {
     "name": "stdout",
     "output_type": "stream",
     "text": [
      "[1] \"omega: 1.47603299105427e-05\"\n",
      "[1] \"alpha 0.209416467176389\"\n",
      "[1] \"beta 0.686399060631445\"\n",
      "[1] \"sigma_{t|t-1}: 0.0164918985106105\"\n",
      "[1] \"epsilon_t: 0.00742547308391645\"\n",
      "[1] \"1 step ahead forecast sigma: 0.0145943736759628\"\n"
     ]
    }
   ],
   "source": [
    "fit = garchFit(formula~ garch(1,1), data=y,\n",
    "                        trace=F) \n",
    "omega = coef(fit)[2]\n",
    "print(paste(\"omega:\",omega))\n",
    "alpha = coef(fit)[3]\n",
    "print(paste(\"alpha\",alpha))\n",
    "beta = coef(fit)[4]\n",
    "print(paste(\"beta\",beta))\n",
    "sigma.t = last(volatility(fit))\n",
    "print(paste(\"sigma_{t|t-1}:\",sigma.t))\n",
    "epsilon.t = last(residuals(fit))\n",
    "print(paste(\"epsilon_t:\",epsilon.t))\n",
    "sigma = omega + alpha * (epsilon.t)^2 + beta * (sigma.t)^2\n",
    "s.4 = sigma^(1/2)\n",
    "print(paste('1 step ahead forecast sigma:',sigma^(1/2)))"
   ]
  },
  {
   "cell_type": "code",
   "execution_count": 38,
   "metadata": {
    "scrolled": true
   },
   "outputs": [
    {
     "data": {
      "text/html": [
       "<table>\n",
       "<caption>A data.frame: 1 × 3</caption>\n",
       "<thead>\n",
       "\t<tr><th scope=col>meanForecast</th><th scope=col>meanError</th><th scope=col>standardDeviation</th></tr>\n",
       "\t<tr><th scope=col>&lt;dbl&gt;</th><th scope=col>&lt;dbl&gt;</th><th scope=col>&lt;dbl&gt;</th></tr>\n",
       "</thead>\n",
       "<tbody>\n",
       "\t<tr><td>0.0001112955</td><td>0.01459437</td><td>0.01459437</td></tr>\n",
       "</tbody>\n",
       "</table>\n"
      ],
      "text/latex": [
       "A data.frame: 1 × 3\n",
       "\\begin{tabular}{lll}\n",
       " meanForecast & meanError & standardDeviation\\\\\n",
       " <dbl> & <dbl> & <dbl>\\\\\n",
       "\\hline\n",
       "\t 0.0001112955 & 0.01459437 & 0.01459437\\\\\n",
       "\\end{tabular}\n"
      ],
      "text/markdown": [
       "\n",
       "A data.frame: 1 × 3\n",
       "\n",
       "| meanForecast &lt;dbl&gt; | meanError &lt;dbl&gt; | standardDeviation &lt;dbl&gt; |\n",
       "|---|---|---|\n",
       "| 0.0001112955 | 0.01459437 | 0.01459437 |\n",
       "\n"
      ],
      "text/plain": [
       "  meanForecast meanError  standardDeviation\n",
       "1 0.0001112955 0.01459437 0.01459437       "
      ]
     },
     "metadata": {},
     "output_type": "display_data"
    }
   ],
   "source": [
    "garch.y.fit = garchFit(formula~ garch(1,1), data=y,\n",
    "                        trace=F) \n",
    "vol.pred = predict(garch.y.fit, n.ahead = 1)\n",
    "vol.pred"
   ]
  },
  {
   "cell_type": "code",
   "execution_count": 39,
   "metadata": {},
   "outputs": [
    {
     "name": "stdout",
     "output_type": "stream",
     "text": [
      "[1] \"Prediction lower bound: -0.023527515537219\"\n",
      "[1] \"Prediction upper bound: 0.0336824292725554\"\n",
      "[1] \"The truth value is:  -0.035654827562654\"\n"
     ]
    }
   ],
   "source": [
    "lower.ci = f.1 - 1.96 * sigma^(1/2)\n",
    "upper.ci = f.1 + 1.96 * sigma^(1/2)\n",
    "print(paste('Prediction lower bound:',lower.ci))\n",
    "print(paste('Prediction upper bound:',upper.ci))\n",
    "print(paste(\"The truth value is: \",y.truth))"
   ]
  },
  {
   "cell_type": "markdown",
   "metadata": {},
   "source": [
    "#### Forecast for May 4 to 8:"
   ]
  },
  {
   "cell_type": "code",
   "execution_count": 40,
   "metadata": {},
   "outputs": [],
   "source": [
    "begin.dates = c(\"2019-05-03\", \"2019-05-04\", \"2019-05-05\", \"2019-05-06\", \"2019-05-07\")\n",
    "end.dates = c(\"2020-05-04\", \"2020-05-05\", \"2020-05-06\", \"2020-05-07\", \"2020-05-08\")\n",
    "forecasts = rep(1:5)\n",
    "prog.forecasts = rep(1:5)\n",
    "sigma = rep(1:5)\n",
    "prog.sigma = rep(1:5)\n",
    "real.ret = df[ date >= \"2020-05-04\" & date <= \"2020-05-08\", list(date, price.log.diff)]\n",
    "\n",
    "for( i in 1:5){\n",
    "    df.ts = df[ date >= begin.dates[i] & date < end.dates[i], list(date, price.log.diff)]\n",
    "    tsdata = ts(df.ts$price.log.diff, start = df$date[1], frequency = 365)\n",
    "    fitARIMA <- arima(tsdata, order=c(0,0,2),method=\"ML\", include.mean = FALSE)\n",
    "    prog.forecasts[i] = predict(fitARIMA, n.ahead=1)$pred\n",
    "\n",
    "    # Manual calculation of one-step ahead forecast:\n",
    "#     ar1 = coef(fitARIMA)['ar1']\n",
    "#     ar2 = coef(fitARIMA)['ar2']\n",
    "    # ar3 = coef(fitARIMA)['ar3']\n",
    "    ma1 = coef(fitARIMA)['ma1']\n",
    "    ma2 = coef(fitARIMA)['ma2']\n",
    "#     mu = coef(fitARIMA)['intercept']\n",
    "#     y.series = df.ts$price.log.diff\n",
    "#     y.t = y.series[length(y.series)-0]\n",
    "#     y.t.1 = y.series[length(y.series)-1]\n",
    "    # y.t.2 = y.series[length(y.series)-2]\n",
    "    res = residuals(fitARIMA)\n",
    "    eps.t = res[length(res)-0]\n",
    "    eps.t.1 = res[length(res)-1]\n",
    "    forecasts[i] =  ma1 * eps.t + ma2 * eps.t.1\n",
    "\n",
    "    # Variance forecast\n",
    "    res = residuals(fitARIMA)\n",
    "    y <- ts(res)\n",
    "\n",
    "    fit = garchFit(formula~ garch(1,1), data=y,\n",
    "                    trace=F) \n",
    "    omega = coef(fit)[2]\n",
    "#     print(paste(\"omega:\",omega))\n",
    "    alpha = coef(fit)[3]\n",
    "#     print(paste(\"alpha\",alpha))\n",
    "    beta = coef(fit)[4]\n",
    "#     print(paste(\"beta\",beta))\n",
    "    sigma.t = last(volatility(fit))\n",
    "#     print(paste(\"sigma_{t|t-1}:\",sigma.t))\n",
    "    epsilon.t = last(residuals(fit))\n",
    "#     print(paste(\"epsilon_t:\",epsilon.t))\n",
    "    sigma[i] = sqrt(omega + alpha * (epsilon.t)^2 + beta * (sigma.t)^2)\n",
    "\n",
    "    prog.sigma[i] = predict(fit, n.ahead = 1)$standardDeviation        \n",
    "}"
   ]
  },
  {
   "cell_type": "code",
   "execution_count": 41,
   "metadata": {},
   "outputs": [
    {
     "data": {
      "text/html": [
       "<table>\n",
       "<caption>A data.table: 5 × 11</caption>\n",
       "<thead>\n",
       "\t<tr><th scope=col>date</th><th scope=col>price.log.diff</th><th scope=col>forecast</th><th scope=col>prog.forecast</th><th scope=col>sigma</th><th scope=col>prog.sigma</th><th scope=col>upper.ci</th><th scope=col>lower.ci</th><th scope=col>error</th><th scope=col>sq.error</th><th scope=col>abs.error</th></tr>\n",
       "\t<tr><th scope=col>&lt;date&gt;</th><th scope=col>&lt;dbl&gt;</th><th scope=col>&lt;dbl&gt;</th><th scope=col>&lt;dbl&gt;</th><th scope=col>&lt;dbl&gt;</th><th scope=col>&lt;dbl&gt;</th><th scope=col>&lt;dbl&gt;</th><th scope=col>&lt;dbl&gt;</th><th scope=col>&lt;dbl&gt;</th><th scope=col>&lt;dbl&gt;</th><th scope=col>&lt;dbl&gt;</th></tr>\n",
       "</thead>\n",
       "<tbody>\n",
       "\t<tr><td>2020-05-04</td><td>-0.035654828</td><td> 0.005077457</td><td> 0.005077457</td><td>0.01459437</td><td>0.01459437</td><td>0.03368243</td><td>-0.02352752</td><td>-0.0407322844</td><td>1.659119e-03</td><td>0.0407322844</td></tr>\n",
       "\t<tr><td>2020-05-05</td><td> 0.008459012</td><td> 0.009137065</td><td> 0.009137065</td><td>0.02321899</td><td>0.02321899</td><td>0.05464628</td><td>-0.03637215</td><td>-0.0006780527</td><td>4.597555e-07</td><td>0.0006780527</td></tr>\n",
       "\t<tr><td>2020-05-06</td><td> 0.009093662</td><td>-0.007748531</td><td>-0.007748531</td><td>0.01937460</td><td>0.01937460</td><td>0.03022568</td><td>-0.04572274</td><td> 0.0168421928</td><td>2.836595e-04</td><td>0.0168421928</td></tr>\n",
       "\t<tr><td>2020-05-07</td><td>-0.002229944</td><td>-0.003092788</td><td>-0.003092788</td><td>0.01802358</td><td>0.01802358</td><td>0.03223342</td><td>-0.03841900</td><td> 0.0008628434</td><td>7.444987e-07</td><td>0.0008628434</td></tr>\n",
       "\t<tr><td>2020-05-08</td><td> 0.007728371</td><td> 0.002712427</td><td> 0.002712427</td><td>0.01537622</td><td>0.01537622</td><td>0.03284981</td><td>-0.02742496</td><td> 0.0050159441</td><td>2.515969e-05</td><td>0.0050159441</td></tr>\n",
       "</tbody>\n",
       "</table>\n"
      ],
      "text/latex": [
       "A data.table: 5 × 11\n",
       "\\begin{tabular}{lllllllllll}\n",
       " date & price.log.diff & forecast & prog.forecast & sigma & prog.sigma & upper.ci & lower.ci & error & sq.error & abs.error\\\\\n",
       " <date> & <dbl> & <dbl> & <dbl> & <dbl> & <dbl> & <dbl> & <dbl> & <dbl> & <dbl> & <dbl>\\\\\n",
       "\\hline\n",
       "\t 2020-05-04 & -0.035654828 &  0.005077457 &  0.005077457 & 0.01459437 & 0.01459437 & 0.03368243 & -0.02352752 & -0.0407322844 & 1.659119e-03 & 0.0407322844\\\\\n",
       "\t 2020-05-05 &  0.008459012 &  0.009137065 &  0.009137065 & 0.02321899 & 0.02321899 & 0.05464628 & -0.03637215 & -0.0006780527 & 4.597555e-07 & 0.0006780527\\\\\n",
       "\t 2020-05-06 &  0.009093662 & -0.007748531 & -0.007748531 & 0.01937460 & 0.01937460 & 0.03022568 & -0.04572274 &  0.0168421928 & 2.836595e-04 & 0.0168421928\\\\\n",
       "\t 2020-05-07 & -0.002229944 & -0.003092788 & -0.003092788 & 0.01802358 & 0.01802358 & 0.03223342 & -0.03841900 &  0.0008628434 & 7.444987e-07 & 0.0008628434\\\\\n",
       "\t 2020-05-08 &  0.007728371 &  0.002712427 &  0.002712427 & 0.01537622 & 0.01537622 & 0.03284981 & -0.02742496 &  0.0050159441 & 2.515969e-05 & 0.0050159441\\\\\n",
       "\\end{tabular}\n"
      ],
      "text/markdown": [
       "\n",
       "A data.table: 5 × 11\n",
       "\n",
       "| date &lt;date&gt; | price.log.diff &lt;dbl&gt; | forecast &lt;dbl&gt; | prog.forecast &lt;dbl&gt; | sigma &lt;dbl&gt; | prog.sigma &lt;dbl&gt; | upper.ci &lt;dbl&gt; | lower.ci &lt;dbl&gt; | error &lt;dbl&gt; | sq.error &lt;dbl&gt; | abs.error &lt;dbl&gt; |\n",
       "|---|---|---|---|---|---|---|---|---|---|---|\n",
       "| 2020-05-04 | -0.035654828 |  0.005077457 |  0.005077457 | 0.01459437 | 0.01459437 | 0.03368243 | -0.02352752 | -0.0407322844 | 1.659119e-03 | 0.0407322844 |\n",
       "| 2020-05-05 |  0.008459012 |  0.009137065 |  0.009137065 | 0.02321899 | 0.02321899 | 0.05464628 | -0.03637215 | -0.0006780527 | 4.597555e-07 | 0.0006780527 |\n",
       "| 2020-05-06 |  0.009093662 | -0.007748531 | -0.007748531 | 0.01937460 | 0.01937460 | 0.03022568 | -0.04572274 |  0.0168421928 | 2.836595e-04 | 0.0168421928 |\n",
       "| 2020-05-07 | -0.002229944 | -0.003092788 | -0.003092788 | 0.01802358 | 0.01802358 | 0.03223342 | -0.03841900 |  0.0008628434 | 7.444987e-07 | 0.0008628434 |\n",
       "| 2020-05-08 |  0.007728371 |  0.002712427 |  0.002712427 | 0.01537622 | 0.01537622 | 0.03284981 | -0.02742496 |  0.0050159441 | 2.515969e-05 | 0.0050159441 |\n",
       "\n"
      ],
      "text/plain": [
       "  date       price.log.diff forecast     prog.forecast sigma      prog.sigma\n",
       "1 2020-05-04 -0.035654828    0.005077457  0.005077457  0.01459437 0.01459437\n",
       "2 2020-05-05  0.008459012    0.009137065  0.009137065  0.02321899 0.02321899\n",
       "3 2020-05-06  0.009093662   -0.007748531 -0.007748531  0.01937460 0.01937460\n",
       "4 2020-05-07 -0.002229944   -0.003092788 -0.003092788  0.01802358 0.01802358\n",
       "5 2020-05-08  0.007728371    0.002712427  0.002712427  0.01537622 0.01537622\n",
       "  upper.ci   lower.ci    error         sq.error     abs.error   \n",
       "1 0.03368243 -0.02352752 -0.0407322844 1.659119e-03 0.0407322844\n",
       "2 0.05464628 -0.03637215 -0.0006780527 4.597555e-07 0.0006780527\n",
       "3 0.03022568 -0.04572274  0.0168421928 2.836595e-04 0.0168421928\n",
       "4 0.03223342 -0.03841900  0.0008628434 7.444987e-07 0.0008628434\n",
       "5 0.03284981 -0.02742496  0.0050159441 2.515969e-05 0.0050159441"
      ]
     },
     "metadata": {},
     "output_type": "display_data"
    }
   ],
   "source": [
    "df.est = data.table(real.ret)\n",
    "df.est[, forecast := forecasts]\n",
    "df.est[, prog.forecast := prog.forecasts]\n",
    "df.est[, sigma := sigma]\n",
    "df.est[, prog.sigma:=prog.sigma]\n",
    "df.est[, upper.ci := forecast + 1.96*sigma]\n",
    "df.est[, lower.ci := forecast - 1.96*sigma]\n",
    "df.est[, error := price.log.diff\t - forecast]\n",
    "df.est[, sq.error := error^2]\n",
    "df.est[, abs.error := abs(error)]\n",
    "\n",
    "df.est"
   ]
  },
  {
   "cell_type": "code",
   "execution_count": 42,
   "metadata": {},
   "outputs": [
    {
     "name": "stdout",
     "output_type": "stream",
     "text": [
      "[1] \"MSE:  0.000393828480453087\"\n",
      "[1] \"MAE:  0.0128262634779509\"\n"
     ]
    }
   ],
   "source": [
    "mse = mean(df.est$sq.error)\n",
    "print(paste(\"MSE: \", mse))\n",
    "mae = mean(df.est$abs.error)\n",
    "print(paste(\"MAE: \", mae))"
   ]
  },
  {
   "cell_type": "code",
   "execution_count": 43,
   "metadata": {},
   "outputs": [
    {
     "data": {
      "image/png": "[encoded data removed]",
      "text/plain": [
       "plot without title"
      ]
     },
     "metadata": {
      "image/png": {
       "height": 360,
       "width": 600
      },
      "text/plain": {
       "height": 360,
       "width": 600
      }
     },
     "output_type": "display_data"
    }
   ],
   "source": [
    "fig <- function(width, heigth){\n",
    "     options(repr.plot.width = width, repr.plot.height = heigth)\n",
    "}\n",
    "# fig(10,6)\n",
    "ggplot(data = df.est , aes(x=date))+\n",
    "    geom_line(aes(y = forecast, color = \"forecast\"),lwd=1.5) +\n",
    "    geom_line(aes(y = price.log.diff, color = \"real return\"),lwd=1.5) +\n",
    "    geom_line(aes(y = lower.ci, color = \"lower bound\"), linetype = \"twodash\",lwd=1.5) +\n",
    "    geom_line(aes(y = upper.ci, color = \"upper bound\"), linetype = \"twodash\",lwd=1.5) +\n",
    "    theme(text = element_text(size=18)) +\n",
    "    scale_size_manual( values = c(4,2,2) )"
   ]
  },
  {
   "cell_type": "code",
   "execution_count": null,
   "metadata": {},
   "outputs": [],
   "source": []
  }
 ],
 "metadata": {
  "kernelspec": {
   "display_name": "R",
   "language": "R",
   "name": "ir"
  },
  "language_info": {
   "codemirror_mode": "r",
   "file_extension": ".r",
   "mimetype": "text/x-r-source",
   "name": "R",
   "pygments_lexer": "r",
   "version": "3.6.1"
  }
 },
 "nbformat": 4,
 "nbformat_minor": 4
}
