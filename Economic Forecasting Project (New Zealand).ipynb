{
 "cells": [
  {
   "cell_type": "markdown",
   "metadata": {},
   "source": [
    "# Getting started"
   ]
  },
  {
   "cell_type": "code",
   "execution_count": 80,
   "metadata": {},
   "outputs": [],
   "source": [
    "### Load packages\n",
    "library(data.table)\n",
    "library(readxl)\n",
    "library(stringr)\n",
    "library(dplyr)\n",
    "library(forecast)\n",
    "library(ggplot2)\n",
    "library(tseries)\n",
    "library(stats)\n",
    "library(psych)\n",
    "library(fUnitRoots)\n",
    "library(lmtest)\n",
    "library(pastecs)\n",
    "library(FitAR)\n",
    "library(aTSA)\n",
    "library(itsmr)\n",
    "library(pracma)\n",
    "library(arfima)\n",
    "library(dse)\n",
    "library(smooth)\n",
    "library(fGarch)"
   ]
  },
  {
   "cell_type": "code",
   "execution_count": 81,
   "metadata": {
    "scrolled": true
   },
   "outputs": [
    {
     "data": {
      "text/html": [
       "<ol class=list-inline>\n",
       "\t<li>'^BSESN.csv'</li>\n",
       "\t<li>'^GSPC.csv'</li>\n",
       "\t<li>'^HSI.csv'</li>\n",
       "\t<li>'^JKSE.csv'</li>\n",
       "\t<li>'^MERV.csv'</li>\n",
       "\t<li>'^N225.csv'</li>\n",
       "\t<li>'^NSEI.csv'</li>\n",
       "\t<li>'^NZ50.csv'</li>\n",
       "\t<li>'^STOXX50E.csv'</li>\n",
       "\t<li>'000001.SS.csv'</li>\n",
       "</ol>\n"
      ],
      "text/latex": [
       "\\begin{enumerate*}\n",
       "\\item '\\textasciicircum{}BSESN.csv'\n",
       "\\item '\\textasciicircum{}GSPC.csv'\n",
       "\\item '\\textasciicircum{}HSI.csv'\n",
       "\\item '\\textasciicircum{}JKSE.csv'\n",
       "\\item '\\textasciicircum{}MERV.csv'\n",
       "\\item '\\textasciicircum{}N225.csv'\n",
       "\\item '\\textasciicircum{}NSEI.csv'\n",
       "\\item '\\textasciicircum{}NZ50.csv'\n",
       "\\item '\\textasciicircum{}STOXX50E.csv'\n",
       "\\item '000001.SS.csv'\n",
       "\\end{enumerate*}\n"
      ],
      "text/markdown": [
       "1. '^BSESN.csv'\n",
       "2. '^GSPC.csv'\n",
       "3. '^HSI.csv'\n",
       "4. '^JKSE.csv'\n",
       "5. '^MERV.csv'\n",
       "6. '^N225.csv'\n",
       "7. '^NSEI.csv'\n",
       "8. '^NZ50.csv'\n",
       "9. '^STOXX50E.csv'\n",
       "10. '000001.SS.csv'\n",
       "\n",
       "\n"
      ],
      "text/plain": [
       " [1] \"^BSESN.csv\"    \"^GSPC.csv\"     \"^HSI.csv\"      \"^JKSE.csv\"    \n",
       " [5] \"^MERV.csv\"     \"^N225.csv\"     \"^NSEI.csv\"     \"^NZ50.csv\"    \n",
       " [9] \"^STOXX50E.csv\" \"000001.SS.csv\""
      ]
     },
     "metadata": {},
     "output_type": "display_data"
    }
   ],
   "source": [
    "list.files(pattern = \".csv\")"
   ]
  },
  {
   "cell_type": "markdown",
   "metadata": {},
   "source": [
    "# Stock 2 \n",
    "## About S&P/NZX 50 Gross Index\n",
    "Contrasting to HSI, NZ50 is only having a 49,914,886 30 day average volume. It is believed that it is a less efficient market, thus may show more autocorrelation in data.\n",
    "## NZ50 – Data Exploration"
   ]
  },
  {
   "cell_type": "code",
   "execution_count": 82,
   "metadata": {
    "scrolled": true
   },
   "outputs": [
    {
     "name": "stderr",
     "output_type": "stream",
     "text": [
      "Warning message in function_list[[k]](value):\n",
      "\"NAs introduced by coercion\"\n"
     ]
    },
    {
     "data": {
      "text/html": [
       "<table>\n",
       "<caption>A data.table: 6 × 2</caption>\n",
       "<thead>\n",
       "\t<tr><th scope=col>date</th><th scope=col>Price</th></tr>\n",
       "\t<tr><th scope=col>&lt;date&gt;</th><th scope=col>&lt;dbl&gt;</th></tr>\n",
       "</thead>\n",
       "<tbody>\n",
       "\t<tr><td>2020-05-01</td><td>10449.01</td></tr>\n",
       "\t<tr><td>2020-05-04</td><td>10516.09</td></tr>\n",
       "\t<tr><td>2020-05-05</td><td>10551.16</td></tr>\n",
       "\t<tr><td>2020-05-06</td><td>10596.77</td></tr>\n",
       "\t<tr><td>2020-05-07</td><td>10676.25</td></tr>\n",
       "\t<tr><td>2020-05-08</td><td>10695.59</td></tr>\n",
       "</tbody>\n",
       "</table>\n"
      ],
      "text/latex": [
       "A data.table: 6 × 2\n",
       "\\begin{tabular}{ll}\n",
       " date & Price\\\\\n",
       " <date> & <dbl>\\\\\n",
       "\\hline\n",
       "\t 2020-05-01 & 10449.01\\\\\n",
       "\t 2020-05-04 & 10516.09\\\\\n",
       "\t 2020-05-05 & 10551.16\\\\\n",
       "\t 2020-05-06 & 10596.77\\\\\n",
       "\t 2020-05-07 & 10676.25\\\\\n",
       "\t 2020-05-08 & 10695.59\\\\\n",
       "\\end{tabular}\n"
      ],
      "text/markdown": [
       "\n",
       "A data.table: 6 × 2\n",
       "\n",
       "| date &lt;date&gt; | Price &lt;dbl&gt; |\n",
       "|---|---|\n",
       "| 2020-05-01 | 10449.01 |\n",
       "| 2020-05-04 | 10516.09 |\n",
       "| 2020-05-05 | 10551.16 |\n",
       "| 2020-05-06 | 10596.77 |\n",
       "| 2020-05-07 | 10676.25 |\n",
       "| 2020-05-08 | 10695.59 |\n",
       "\n"
      ],
      "text/plain": [
       "  date       Price   \n",
       "1 2020-05-01 10449.01\n",
       "2 2020-05-04 10516.09\n",
       "3 2020-05-05 10551.16\n",
       "4 2020-05-06 10596.77\n",
       "5 2020-05-07 10676.25\n",
       "6 2020-05-08 10695.59"
      ]
     },
     "metadata": {},
     "output_type": "display_data"
    }
   ],
   "source": [
    "# Load data\n",
    "\n",
    "df = read.csv('^NZ50.csv')\n",
    "df %>% setDT\n",
    "df = df[,.(date = as.Date(Date),\n",
    "                 Price = Adj.Close%>% as.character %>% as.numeric)]\n",
    "df = df[date>='2019-05-04' & date <= '2020-05-08',]\n",
    "df = na.omit(df)\n",
    "setkey(df, date)\n",
    "df %>% tail"
   ]
  },
  {
   "cell_type": "code",
   "execution_count": 83,
   "metadata": {},
   "outputs": [
    {
     "data": {
      "image/png": "[encoded data removed]",
      "text/plain": [
       "plot without title"
      ]
     },
     "metadata": {
      "image/png": {
       "height": 420,
       "width": 420
      },
      "text/plain": {
       "height": 420,
       "width": 420
      }
     },
     "output_type": "display_data"
    }
   ],
   "source": [
    "# Graph of the index\n",
    "\n",
    "ggplot(df, aes(x=date)) + geom_line(aes(y=Price,group=1))+ theme_minimal()"
   ]
  },
  {
   "cell_type": "code",
   "execution_count": 84,
   "metadata": {
    "scrolled": false
   },
   "outputs": [
    {
     "data": {
      "image/png": "[encoded data removed]",
      "text/plain": [
       "Plot with title \"Series  df$Price\""
      ]
     },
     "metadata": {
      "image/png": {
       "height": 420,
       "width": 420
      },
      "text/plain": {
       "height": 420,
       "width": 420
      }
     },
     "output_type": "display_data"
    }
   ],
   "source": [
    "# ACFs and PACFs \n",
    "par(mfrow=c(2,1))\n",
    "\n",
    "Acf(df$Price, lag.max = 50)\n",
    "\n",
    "Pacf(df$Price, lag.max = 50)"
   ]
  },
  {
   "cell_type": "code",
   "execution_count": 85,
   "metadata": {},
   "outputs": [
    {
     "name": "stdout",
     "output_type": "stream",
     "text": [
      "Augmented Dickey-Fuller Test \n",
      "alternative: stationary \n",
      " \n",
      "Type 1: no drift no trend \n",
      "     lag    ADF p.value\n",
      "[1,]   0 0.0866   0.669\n",
      "[2,]   1 0.2189   0.707\n",
      "[3,]   2 0.1659   0.692\n",
      "[4,]   3 0.1010   0.673\n",
      "[5,]   4 0.1445   0.685\n",
      "Type 2: with drift no trend \n",
      "     lag   ADF p.value\n",
      "[1,]   0 -2.71  0.0785\n",
      "[2,]   1 -1.96  0.3451\n",
      "[3,]   2 -2.07  0.3001\n",
      "[4,]   3 -2.32  0.2001\n",
      "[5,]   4 -2.10  0.2876\n",
      "Type 3: with drift and trend \n",
      "     lag   ADF p.value\n",
      "[1,]   0 -2.65   0.303\n",
      "[2,]   1 -1.81   0.655\n",
      "[3,]   2 -1.96   0.594\n",
      "[4,]   3 -2.26   0.468\n",
      "[5,]   4 -2.00   0.577\n",
      "---- \n",
      "Note: in fact, p.value = 0.01 means p.value <= 0.01 \n"
     ]
    }
   ],
   "source": [
    "# Augmented Dickey-Fuller Test\n",
    "\n",
    "aTSA::adf.test(df$Price, nlag = NULL, output = TRUE)"
   ]
  },
  {
   "cell_type": "markdown",
   "metadata": {},
   "source": [
    "From the graph and ACF plot, we can see the persistence of the price is very high. It brings the question whether it is nonstationary. Checking with Augmented Dickey-Fuller test, the p-values are all greater than 0.05, meaning we fail to reject the null hypothesis that the time series is non-stationary and unit root exists. So, we need to use log differences to make it mean stationary:\n",
    "$R_t = log(P_t) - log(P_{t-1})$"
   ]
  },
  {
   "cell_type": "code",
   "execution_count": 86,
   "metadata": {
    "scrolled": false
   },
   "outputs": [
    {
     "data": {
      "image/png": "[encoded data removed]",
      "text/plain": [
       "plot without title"
      ]
     },
     "metadata": {
      "image/png": {
       "height": 420,
       "width": 420
      },
      "text/plain": {
       "height": 420,
       "width": 420
      }
     },
     "output_type": "display_data"
    }
   ],
   "source": [
    "df[, price.lag.1:= shift(Price, type = 'lag', n=1) ]\n",
    "df[, price.log.diff := log(Price) - log(price.lag.1)]\n",
    "df = na.omit(df)\n",
    "ggplot(df, aes(x=date)) + geom_line(aes(y=price.log.diff,group=1))+ theme_minimal() "
   ]
  },
  {
   "cell_type": "code",
   "execution_count": 87,
   "metadata": {
    "scrolled": true
   },
   "outputs": [
    {
     "data": {
      "text/html": [
       "<dl class=dl-horizontal>\n",
       "\t<dt>nbr.val</dt>\n",
       "\t\t<dd>254</dd>\n",
       "\t<dt>nbr.null</dt>\n",
       "\t\t<dd>0</dd>\n",
       "\t<dt>nbr.na</dt>\n",
       "\t\t<dd>0</dd>\n",
       "\t<dt>min</dt>\n",
       "\t\t<dd>-0.103373138865175</dd>\n",
       "\t<dt>max</dt>\n",
       "\t\t<dd>0.122573791527484</dd>\n",
       "\t<dt>range</dt>\n",
       "\t\t<dd>0.225946930392659</dd>\n",
       "\t<dt>sum</dt>\n",
       "\t\t<dd>0.0711921619913785</dd>\n",
       "\t<dt>median</dt>\n",
       "\t\t<dd>0.00112616038920255</dd>\n",
       "\t<dt>mean</dt>\n",
       "\t\t<dd>0.000280284102328262</dd>\n",
       "\t<dt>SE.mean</dt>\n",
       "\t\t<dd>0.00121209811625257</dd>\n",
       "\t<dt>CI.mean.0.95</dt>\n",
       "\t\t<dd>0.00238708761137222</dd>\n",
       "\t<dt>var</dt>\n",
       "\t\t<dd>0.000373172188229448</dd>\n",
       "\t<dt>std.dev</dt>\n",
       "\t\t<dd>0.0193176651857684</dd>\n",
       "\t<dt>coef.var</dt>\n",
       "\t\t<dd>68.9217298637367</dd>\n",
       "</dl>\n"
      ],
      "text/latex": [
       "\\begin{description*}\n",
       "\\item[nbr.val] 254\n",
       "\\item[nbr.null] 0\n",
       "\\item[nbr.na] 0\n",
       "\\item[min] -0.103373138865175\n",
       "\\item[max] 0.122573791527484\n",
       "\\item[range] 0.225946930392659\n",
       "\\item[sum] 0.0711921619913785\n",
       "\\item[median] 0.00112616038920255\n",
       "\\item[mean] 0.000280284102328262\n",
       "\\item[SE.mean] 0.00121209811625257\n",
       "\\item[CI.mean.0.95] 0.00238708761137222\n",
       "\\item[var] 0.000373172188229448\n",
       "\\item[std.dev] 0.0193176651857684\n",
       "\\item[coef.var] 68.9217298637367\n",
       "\\end{description*}\n"
      ],
      "text/markdown": [
       "nbr.val\n",
       ":   254nbr.null\n",
       ":   0nbr.na\n",
       ":   0min\n",
       ":   -0.103373138865175max\n",
       ":   0.122573791527484range\n",
       ":   0.225946930392659sum\n",
       ":   0.0711921619913785median\n",
       ":   0.00112616038920255mean\n",
       ":   0.000280284102328262SE.mean\n",
       ":   0.00121209811625257CI.mean.0.95\n",
       ":   0.00238708761137222var\n",
       ":   0.000373172188229448std.dev\n",
       ":   0.0193176651857684coef.var\n",
       ":   68.9217298637367\n",
       "\n"
      ],
      "text/plain": [
       "      nbr.val      nbr.null        nbr.na           min           max \n",
       " 2.540000e+02  0.000000e+00  0.000000e+00 -1.033731e-01  1.225738e-01 \n",
       "        range           sum        median          mean       SE.mean \n",
       " 2.259469e-01  7.119216e-02  1.126160e-03  2.802841e-04  1.212098e-03 \n",
       " CI.mean.0.95           var       std.dev      coef.var \n",
       " 2.387088e-03  3.731722e-04  1.931767e-02  6.892173e+01 "
      ]
     },
     "metadata": {},
     "output_type": "display_data"
    }
   ],
   "source": [
    "# Descriptive statistics \n",
    "\n",
    "stat.desc(df$price.log.diff)"
   ]
  },
  {
   "cell_type": "code",
   "execution_count": 88,
   "metadata": {},
   "outputs": [
    {
     "data": {
      "text/html": [
       "0.0066809832637329"
      ],
      "text/latex": [
       "0.0066809832637329"
      ],
      "text/markdown": [
       "0.0066809832637329"
      ],
      "text/plain": [
       "[1] 0.006680983"
      ]
     },
     "metadata": {},
     "output_type": "display_data"
    }
   ],
   "source": [
    "getmode <- function(v) {\n",
    "   uniqv <- unique(v)\n",
    "   uniqv[which.max(tabulate(match(v, uniqv)))]\n",
    "}\n",
    "getmode(df$price.log.diff)"
   ]
  },
  {
   "cell_type": "code",
   "execution_count": 89,
   "metadata": {},
   "outputs": [
    {
     "data": {
      "text/html": [
       "15.6486556450958"
      ],
      "text/latex": [
       "15.6486556450958"
      ],
      "text/markdown": [
       "15.6486556450958"
      ],
      "text/plain": [
       "[1] 15.64866\n",
       "attr(,\"method\")\n",
       "[1] \"excess\""
      ]
     },
     "metadata": {},
     "output_type": "display_data"
    }
   ],
   "source": [
    "kurtosis(df$price.log.diff)"
   ]
  },
  {
   "cell_type": "code",
   "execution_count": 90,
   "metadata": {
    "scrolled": true
   },
   "outputs": [
    {
     "data": {
      "text/html": [
       "-0.124372993876247"
      ],
      "text/latex": [
       "-0.124372993876247"
      ],
      "text/markdown": [
       "-0.124372993876247"
      ],
      "text/plain": [
       "[1] -0.124373\n",
       "attr(,\"method\")\n",
       "[1] \"moment\""
      ]
     },
     "metadata": {},
     "output_type": "display_data"
    }
   ],
   "source": [
    "skewness(df$price.log.diff)"
   ]
  },
  {
   "cell_type": "code",
   "execution_count": 91,
   "metadata": {
    "scrolled": false
   },
   "outputs": [
    {
     "data": {
      "text/html": [
       "<ol class=list-inline>\n",
       "\t<li>1</li>\n",
       "\t<li>-0.412021525268079</li>\n",
       "\t<li>0.24417723067746</li>\n",
       "\t<li>-0.00978888629877063</li>\n",
       "\t<li>-0.150118877952678</li>\n",
       "\t<li>0.312328181450815</li>\n",
       "\t<li>-0.306562163694964</li>\n",
       "\t<li>0.331302864434734</li>\n",
       "\t<li>-0.31520583943675</li>\n",
       "\t<li>0.10078873129273</li>\n",
       "\t<li>0.0255635721151023</li>\n",
       "\t<li>-0.0634695031969874</li>\n",
       "\t<li>0.0429456140033045</li>\n",
       "\t<li>-0.0652155567873197</li>\n",
       "\t<li>0.0953838092608599</li>\n",
       "\t<li>-0.00455366519477189</li>\n",
       "\t<li>-0.00871353441994682</li>\n",
       "\t<li>-0.011609944046751</li>\n",
       "\t<li>0.0156314390906059</li>\n",
       "\t<li>-0.0558419966404778</li>\n",
       "\t<li>0.0335852348342735</li>\n",
       "\t<li>-0.0786001575520357</li>\n",
       "\t<li>-0.0146268624239036</li>\n",
       "\t<li>-0.076944672238454</li>\n",
       "\t<li>-0.0269282561458466</li>\n",
       "\t<li>-0.0492899199405886</li>\n",
       "\t<li>0.00119798132501293</li>\n",
       "\t<li>0.0821996361605548</li>\n",
       "\t<li>-0.0592879990537644</li>\n",
       "\t<li>0.0971292239668012</li>\n",
       "\t<li>-0.0485686242254367</li>\n",
       "\t<li>0.00808004464628818</li>\n",
       "\t<li>0.050391140412969</li>\n",
       "\t<li>-0.00428110141505976</li>\n",
       "\t<li>-0.00664032761487751</li>\n",
       "\t<li>-0.0711058875179685</li>\n",
       "\t<li>0.0680956177265167</li>\n",
       "\t<li>-0.0566499834452472</li>\n",
       "\t<li>-0.00371339032793748</li>\n",
       "\t<li>0.0150937728402935</li>\n",
       "\t<li>-0.060875870947715</li>\n",
       "\t<li>-0.00454103342607424</li>\n",
       "\t<li>-0.00842691438712386</li>\n",
       "\t<li>0.00444863948542912</li>\n",
       "\t<li>-0.00916534227860756</li>\n",
       "\t<li>0.0209853011294899</li>\n",
       "\t<li>-0.00260781482932296</li>\n",
       "\t<li>0.0194453977306483</li>\n",
       "\t<li>-0.0269580527880407</li>\n",
       "\t<li>0.0247201593859606</li>\n",
       "\t<li>0.0017568257228476</li>\n",
       "</ol>\n"
      ],
      "text/latex": [
       "\\begin{enumerate*}\n",
       "\\item 1\n",
       "\\item -0.412021525268079\n",
       "\\item 0.24417723067746\n",
       "\\item -0.00978888629877063\n",
       "\\item -0.150118877952678\n",
       "\\item 0.312328181450815\n",
       "\\item -0.306562163694964\n",
       "\\item 0.331302864434734\n",
       "\\item -0.31520583943675\n",
       "\\item 0.10078873129273\n",
       "\\item 0.0255635721151023\n",
       "\\item -0.0634695031969874\n",
       "\\item 0.0429456140033045\n",
       "\\item -0.0652155567873197\n",
       "\\item 0.0953838092608599\n",
       "\\item -0.00455366519477189\n",
       "\\item -0.00871353441994682\n",
       "\\item -0.011609944046751\n",
       "\\item 0.0156314390906059\n",
       "\\item -0.0558419966404778\n",
       "\\item 0.0335852348342735\n",
       "\\item -0.0786001575520357\n",
       "\\item -0.0146268624239036\n",
       "\\item -0.076944672238454\n",
       "\\item -0.0269282561458466\n",
       "\\item -0.0492899199405886\n",
       "\\item 0.00119798132501293\n",
       "\\item 0.0821996361605548\n",
       "\\item -0.0592879990537644\n",
       "\\item 0.0971292239668012\n",
       "\\item -0.0485686242254367\n",
       "\\item 0.00808004464628818\n",
       "\\item 0.050391140412969\n",
       "\\item -0.00428110141505976\n",
       "\\item -0.00664032761487751\n",
       "\\item -0.0711058875179685\n",
       "\\item 0.0680956177265167\n",
       "\\item -0.0566499834452472\n",
       "\\item -0.00371339032793748\n",
       "\\item 0.0150937728402935\n",
       "\\item -0.060875870947715\n",
       "\\item -0.00454103342607424\n",
       "\\item -0.00842691438712386\n",
       "\\item 0.00444863948542912\n",
       "\\item -0.00916534227860756\n",
       "\\item 0.0209853011294899\n",
       "\\item -0.00260781482932296\n",
       "\\item 0.0194453977306483\n",
       "\\item -0.0269580527880407\n",
       "\\item 0.0247201593859606\n",
       "\\item 0.0017568257228476\n",
       "\\end{enumerate*}\n"
      ],
      "text/markdown": [
       "1. 1\n",
       "2. -0.412021525268079\n",
       "3. 0.24417723067746\n",
       "4. -0.00978888629877063\n",
       "5. -0.150118877952678\n",
       "6. 0.312328181450815\n",
       "7. -0.306562163694964\n",
       "8. 0.331302864434734\n",
       "9. -0.31520583943675\n",
       "10. 0.10078873129273\n",
       "11. 0.0255635721151023\n",
       "12. -0.0634695031969874\n",
       "13. 0.0429456140033045\n",
       "14. -0.0652155567873197\n",
       "15. 0.0953838092608599\n",
       "16. -0.00455366519477189\n",
       "17. -0.00871353441994682\n",
       "18. -0.011609944046751\n",
       "19. 0.0156314390906059\n",
       "20. -0.0558419966404778\n",
       "21. 0.0335852348342735\n",
       "22. -0.0786001575520357\n",
       "23. -0.0146268624239036\n",
       "24. -0.076944672238454\n",
       "25. -0.0269282561458466\n",
       "26. -0.0492899199405886\n",
       "27. 0.00119798132501293\n",
       "28. 0.0821996361605548\n",
       "29. -0.0592879990537644\n",
       "30. 0.0971292239668012\n",
       "31. -0.0485686242254367\n",
       "32. 0.00808004464628818\n",
       "33. 0.050391140412969\n",
       "34. -0.00428110141505976\n",
       "35. -0.00664032761487751\n",
       "36. -0.0711058875179685\n",
       "37. 0.0680956177265167\n",
       "38. -0.0566499834452472\n",
       "39. -0.00371339032793748\n",
       "40. 0.0150937728402935\n",
       "41. -0.060875870947715\n",
       "42. -0.00454103342607424\n",
       "43. -0.00842691438712386\n",
       "44. 0.00444863948542912\n",
       "45. -0.00916534227860756\n",
       "46. 0.0209853011294899\n",
       "47. -0.00260781482932296\n",
       "48. 0.0194453977306483\n",
       "49. -0.0269580527880407\n",
       "50. 0.0247201593859606\n",
       "51. 0.0017568257228476\n",
       "\n",
       "\n"
      ],
      "text/plain": [
       ", , 1\n",
       "\n",
       "              [,1]\n",
       " [1,]  1.000000000\n",
       " [2,] -0.412021525\n",
       " [3,]  0.244177231\n",
       " [4,] -0.009788886\n",
       " [5,] -0.150118878\n",
       " [6,]  0.312328181\n",
       " [7,] -0.306562164\n",
       " [8,]  0.331302864\n",
       " [9,] -0.315205839\n",
       "[10,]  0.100788731\n",
       "[11,]  0.025563572\n",
       "[12,] -0.063469503\n",
       "[13,]  0.042945614\n",
       "[14,] -0.065215557\n",
       "[15,]  0.095383809\n",
       "[16,] -0.004553665\n",
       "[17,] -0.008713534\n",
       "[18,] -0.011609944\n",
       "[19,]  0.015631439\n",
       "[20,] -0.055841997\n",
       "[21,]  0.033585235\n",
       "[22,] -0.078600158\n",
       "[23,] -0.014626862\n",
       "[24,] -0.076944672\n",
       "[25,] -0.026928256\n",
       "[26,] -0.049289920\n",
       "[27,]  0.001197981\n",
       "[28,]  0.082199636\n",
       "[29,] -0.059287999\n",
       "[30,]  0.097129224\n",
       "[31,] -0.048568624\n",
       "[32,]  0.008080045\n",
       "[33,]  0.050391140\n",
       "[34,] -0.004281101\n",
       "[35,] -0.006640328\n",
       "[36,] -0.071105888\n",
       "[37,]  0.068095618\n",
       "[38,] -0.056649983\n",
       "[39,] -0.003713390\n",
       "[40,]  0.015093773\n",
       "[41,] -0.060875871\n",
       "[42,] -0.004541033\n",
       "[43,] -0.008426914\n",
       "[44,]  0.004448639\n",
       "[45,] -0.009165342\n",
       "[46,]  0.020985301\n",
       "[47,] -0.002607815\n",
       "[48,]  0.019445398\n",
       "[49,] -0.026958053\n",
       "[50,]  0.024720159\n",
       "[51,]  0.001756826\n"
      ]
     },
     "metadata": {},
     "output_type": "display_data"
    },
    {
     "data": {
      "image/png": "[encoded data removed]",
      "text/plain": [
       "Plot with title \"Series  df$price.log.diff\""
      ]
     },
     "metadata": {
      "image/png": {
       "height": 420,
       "width": 420
      },
      "text/plain": {
       "height": 420,
       "width": 420
      }
     },
     "output_type": "display_data"
    }
   ],
   "source": [
    "# ACFs and PACFs \n",
    "par(mfrow=c(2,1))\n",
    "\n",
    "acf = Acf(df$price.log.diff, lag.max = 50)\n",
    "acf$acf\n",
    "\n",
    "Pacf(df$price.log.diff, lag.max = 50)"
   ]
  },
  {
   "cell_type": "code",
   "execution_count": 92,
   "metadata": {
    "scrolled": false
   },
   "outputs": [
    {
     "name": "stdout",
     "output_type": "stream",
     "text": [
      "Augmented Dickey-Fuller Test \n",
      "alternative: stationary \n",
      " \n",
      "Type 1: no drift no trend \n",
      "     lag    ADF p.value\n",
      "[1,]   0 -24.60    0.01\n",
      "[2,]   1 -12.14    0.01\n",
      "[3,]   2  -8.29    0.01\n",
      "[4,]   3  -8.59    0.01\n",
      "[5,]   4  -5.99    0.01\n",
      "Type 2: with drift no trend \n",
      "     lag    ADF p.value\n",
      "[1,]   0 -24.56    0.01\n",
      "[2,]   1 -12.12    0.01\n",
      "[3,]   2  -8.28    0.01\n",
      "[4,]   3  -8.57    0.01\n",
      "[5,]   4  -5.98    0.01\n",
      "Type 3: with drift and trend \n",
      "     lag    ADF p.value\n",
      "[1,]   0 -24.55    0.01\n",
      "[2,]   1 -12.13    0.01\n",
      "[3,]   2  -8.28    0.01\n",
      "[4,]   3  -8.59    0.01\n",
      "[5,]   4  -5.98    0.01\n",
      "---- \n",
      "Note: in fact, p.value = 0.01 means p.value <= 0.01 \n"
     ]
    }
   ],
   "source": [
    "# Augmented Dickey-Fuller Test\n",
    "\n",
    "aTSA::adf.test(df$price.log.diff, nlag = NULL, output = TRUE)"
   ]
  },
  {
   "cell_type": "markdown",
   "metadata": {},
   "source": [
    "The return seems mean stationary, however, is obviously variance non-stationary from the plot. From the Augmented Dickey-Fuller test , the coefficients are all negative in the three types of test, and the p-value is smaller than 0.01, indicating the data do not have unit root and is covariance stationary. From the ACF graph, it has spikes on the first few lags, and then a decay toward zero; PACF shows splike from first lag and a smooth decay toward zero. These are signs that the time zeries may be an ARMA process."
   ]
  },
  {
   "cell_type": "markdown",
   "metadata": {},
   "source": [
    "## Model Selection"
   ]
  },
  {
   "cell_type": "code",
   "execution_count": 93,
   "metadata": {
    "scrolled": true
   },
   "outputs": [
    {
     "name": "stdout",
     "output_type": "stream",
     "text": [
      "[1] \"Number of observations: 249\"\n"
     ]
    }
   ],
   "source": [
    "# prepare ts data\n",
    "\n",
    "df.ts = df[ date < '2020-05-04', list(date, price.log.diff)] \n",
    "tsdata = ts(df.ts$price.log.diff, start = df$date[1], frequency = 365)\n",
    "print(paste(\"Number of observations:\",length(tsdata)))"
   ]
  },
  {
   "cell_type": "code",
   "execution_count": 94,
   "metadata": {
    "scrolled": false
   },
   "outputs": [
    {
     "name": "stdout",
     "output_type": "stream",
     "text": [
      "\n",
      " Fitting models using approximations to speed things up...\n",
      "\n",
      " ARIMA(2,0,2)             with non-zero mean : -1327.669\n",
      " ARIMA(0,0,0)             with non-zero mean : -1251.14\n",
      " ARIMA(1,0,0)             with non-zero mean : -1294.763\n",
      " ARIMA(0,0,1)             with non-zero mean : -1282.902\n",
      " ARIMA(0,0,0)             with zero mean     : -1253.148\n",
      " ARIMA(1,0,2)             with non-zero mean : -1296.429\n",
      " ARIMA(2,0,1)             with non-zero mean : -1293.807\n",
      " ARIMA(3,0,2)             with non-zero mean : -1331.181\n",
      " ARIMA(3,0,1)             with non-zero mean : -1331.468\n",
      " ARIMA(3,0,0)             with non-zero mean : -1296.21\n",
      " ARIMA(4,0,1)             with non-zero mean : -1329.683\n",
      " ARIMA(2,0,0)             with non-zero mean : -1293.813\n",
      " ARIMA(4,0,0)             with non-zero mean : -1299.713\n",
      " ARIMA(4,0,2)             with non-zero mean : -1327.752\n",
      " ARIMA(3,0,1)             with zero mean     : -1333.553\n",
      " ARIMA(2,0,1)             with zero mean     : -1295.877\n",
      " ARIMA(3,0,0)             with zero mean     : -1298.28\n",
      " ARIMA(4,0,1)             with zero mean     : -1331.743\n",
      " ARIMA(3,0,2)             with zero mean     : -1333.224\n",
      " ARIMA(2,0,0)             with zero mean     : -1295.846\n",
      " ARIMA(2,0,2)             with zero mean     : -1328.908\n",
      " ARIMA(4,0,0)             with zero mean     : -1301.791\n",
      " ARIMA(4,0,2)             with zero mean     : -1329.793\n",
      "\n",
      " Now re-fitting the best model(s) without approximations...\n",
      "\n",
      " ARIMA(3,0,1)             with zero mean     : -1334.65\n",
      "\n",
      " Best model: ARIMA(3,0,1)             with zero mean     \n",
      "\n"
     ]
    },
    {
     "data": {
      "text/plain": [
       "Series: tsdata \n",
       "ARIMA(3,0,1) with zero mean \n",
       "\n",
       "Coefficients:\n",
       "          ar1      ar2    ar3     ma1\n",
       "      -1.1728  -0.1242  0.275  0.9262\n",
       "s.e.   0.0638   0.0968  0.062  0.0254\n",
       "\n",
       "sigma^2 estimated as 0.000267:  log likelihood=672.45\n",
       "AIC=-1334.9   AICc=-1334.65   BIC=-1317.31"
      ]
     },
     "metadata": {},
     "output_type": "display_data"
    }
   ],
   "source": [
    "#  fitting different ARMA models and compare with AIC\n",
    "\n",
    "auto.arima(tsdata, trace=TRUE)"
   ]
  },
  {
   "cell_type": "markdown",
   "metadata": {},
   "source": [
    "Using AIC as model selection criterion, the best model estimated is ARMA(3,1)"
   ]
  },
  {
   "cell_type": "markdown",
   "metadata": {},
   "source": [
    "#### ARMA(3,1)\n",
    "$R_t = \\delta + \\varphi_1 R_{t-1} +\\varphi_2 R_{t-2} +\\varphi_3 R_{t-3} + \\varepsilon_t + \\theta \\varepsilon_{t-1}$"
   ]
  },
  {
   "cell_type": "code",
   "execution_count": 95,
   "metadata": {
    "scrolled": true
   },
   "outputs": [
    {
     "data": {
      "text/plain": [
       "\n",
       "z test of coefficients:\n",
       "\n",
       "             Estimate  Std. Error  z value  Pr(>|z|)    \n",
       "ar1       -1.17306032  0.06384683 -18.3730 < 2.2e-16 ***\n",
       "ar2       -0.12464305  0.09684232  -1.2871    0.1981    \n",
       "ar3        0.27479133  0.06198933   4.4329 9.298e-06 ***\n",
       "ma1        0.92620773  0.02541507  36.4433 < 2.2e-16 ***\n",
       "intercept  0.00018827  0.00097931   0.1923    0.8475    \n",
       "---\n",
       "Signif. codes:  0 '***' 0.001 '**' 0.01 '*' 0.05 '.' 0.1 ' ' 1\n"
      ]
     },
     "metadata": {},
     "output_type": "display_data"
    }
   ],
   "source": [
    "fitARIMA <- arima(tsdata, order=c(3,0,1),method=\"ML\")\n",
    "coeftest(fitARIMA)"
   ]
  },
  {
   "cell_type": "markdown",
   "metadata": {},
   "source": [
    "Although ARMA(3,1) has the lowest AIC. From the plot, all roots of characteristic polynomial lie inside unit circle and thus it is stationary and invertible. However, not all its coefficients are statistically significant. Therefore, we would take a look at other models with comparable AIC."
   ]
  },
  {
   "cell_type": "markdown",
   "metadata": {},
   "source": [
    "#### ARMA(2,2)\n",
    "$R_t = \\delta + \\varphi_1 R_{t-1} +\\varphi_2 R_{t-2} + \\varepsilon_t + \\theta_1 \\varepsilon_{t-1}+ \\theta_2 \\varepsilon_{t-2}$"
   ]
  },
  {
   "cell_type": "code",
   "execution_count": 96,
   "metadata": {
    "scrolled": true
   },
   "outputs": [
    {
     "data": {
      "text/plain": [
       "\n",
       "z test of coefficients:\n",
       "\n",
       "             Estimate  Std. Error  z value  Pr(>|z|)    \n",
       "ar1       -1.66567942  0.05823392 -28.6033 < 2.2e-16 ***\n",
       "ar2       -0.81154472  0.05377596 -15.0912 < 2.2e-16 ***\n",
       "ma1        1.42053031  0.08823512  16.0994 < 2.2e-16 ***\n",
       "ma2        0.47108322  0.08484572   5.5522  2.82e-08 ***\n",
       "intercept  0.00020262  0.00085506   0.2370    0.8127    \n",
       "---\n",
       "Signif. codes:  0 '***' 0.001 '**' 0.01 '*' 0.05 '.' 0.1 ' ' 1\n"
      ]
     },
     "metadata": {},
     "output_type": "display_data"
    }
   ],
   "source": [
    "fitARIMA <- arima(tsdata, order=c(2,0,2),method=\"ML\")\n",
    "coeftest(fitARIMA)"
   ]
  },
  {
   "cell_type": "markdown",
   "metadata": {},
   "source": [
    "All coefficients are statistically significant."
   ]
  },
  {
   "cell_type": "code",
   "execution_count": 97,
   "metadata": {},
   "outputs": [
    {
     "data": {
      "image/png": "[encoded data removed]",
      "text/plain": [
       "plot without title"
      ]
     },
     "metadata": {
      "image/png": {
       "height": 420,
       "width": 420
      },
      "text/plain": {
       "height": 420,
       "width": 420
      }
     },
     "output_type": "display_data"
    }
   ],
   "source": [
    "autoplot(fitARIMA)"
   ]
  },
  {
   "cell_type": "markdown",
   "metadata": {},
   "source": [
    "All roots lie inside unit circle, showing the model is stationary and invertible."
   ]
  },
  {
   "cell_type": "code",
   "execution_count": 98,
   "metadata": {},
   "outputs": [
    {
     "name": "stdout",
     "output_type": "stream",
     "text": [
      "\n",
      "\tLjung-Box test\n",
      "\n",
      "data:  Residuals from ARIMA(2,0,2) with non-zero mean\n",
      "Q* = 43.438, df = 45, p-value = 0.5383\n",
      "\n",
      "Model df: 5.   Total lags used: 50\n",
      "\n"
     ]
    },
    {
     "data": {
      "image/png": "[encoded data removed]",
      "text/plain": [
       "plot without title"
      ]
     },
     "metadata": {
      "image/png": {
       "height": 420,
       "width": 420
      },
      "text/plain": {
       "height": 420,
       "width": 420
      }
     },
     "output_type": "display_data"
    }
   ],
   "source": [
    "checkresiduals(fitARIMA)"
   ]
  },
  {
   "cell_type": "markdown",
   "metadata": {},
   "source": [
    "Since p-value > 0.05, we fail to reject the null hypothesis that all autocorrelations up to order 50 are equal to zero, meaning the residuals are independent at 95% level. Thus, ARMA(2,2) is a good fit as the residuals are seemingly white noise. However, it is obvious from the plot that the residuals have time-varying volatility."
   ]
  },
  {
   "cell_type": "code",
   "execution_count": 99,
   "metadata": {},
   "outputs": [
    {
     "data": {
      "image/png": "[encoded data removed]",
      "text/plain": [
       "Plot with title \"Series  res\""
      ]
     },
     "metadata": {
      "image/png": {
       "height": 420,
       "width": 420
      },
      "text/plain": {
       "height": 420,
       "width": 420
      }
     },
     "output_type": "display_data"
    }
   ],
   "source": [
    "res = residuals(fitARIMA)\n",
    "# ACFs and PACFs  of residuals \n",
    "par(mfrow=c(2,1))\n",
    "\n",
    "Acf(res, lag.max = 50)\n",
    "\n",
    "Pacf(res, lag.max = 50)"
   ]
  },
  {
   "cell_type": "code",
   "execution_count": 100,
   "metadata": {},
   "outputs": [
    {
     "data": {
      "image/png": "[encoded data removed]",
      "text/plain": [
       "Plot with title \"Series  res^2\""
      ]
     },
     "metadata": {
      "image/png": {
       "height": 420,
       "width": 420
      },
      "text/plain": {
       "height": 420,
       "width": 420
      }
     },
     "output_type": "display_data"
    }
   ],
   "source": [
    "res = residuals(fitARIMA)\n",
    "# ACFs and PACFs  of residuals \n",
    "par(mfrow=c(2,1))\n",
    "\n",
    "Acf(res^2, lag.max = 50)\n",
    "\n",
    "Pacf(res^2, lag.max = 50)"
   ]
  },
  {
   "cell_type": "markdown",
   "metadata": {},
   "source": [
    "From the ACF and PACF plot of squared residuals, we can see the residuals exhibit time-varying volatility as it has autocorrelations with high persistence form the ACF plot with some spikes up to lag 10. Therefore, we would use GARCH model to predict the volatility."
   ]
  },
  {
   "cell_type": "markdown",
   "metadata": {},
   "source": [
    "## Forecast with rolling scheme"
   ]
  },
  {
   "cell_type": "markdown",
   "metadata": {},
   "source": [
    "#### Forecast for May 4:"
   ]
  },
  {
   "cell_type": "code",
   "execution_count": 62,
   "metadata": {
    "scrolled": false
   },
   "outputs": [
    {
     "data": {
      "text/html": [
       "<dl>\n",
       "\t<dt>$pred</dt>\n",
       "\t\t<dd>A Time Series:<br>0.00538486581613136</dd>\n",
       "\t<dt>$se</dt>\n",
       "\t\t<dd>A Time Series:<br>0.0161719805298865</dd>\n",
       "</dl>\n"
      ],
      "text/latex": [
       "\\begin{description}\n",
       "\\item[\\$pred] A Time Series:\\\\0.00538486581613136\n",
       "\\item[\\$se] A Time Series:\\\\0.0161719805298865\n",
       "\\end{description}\n"
      ],
      "text/markdown": [
       "$pred\n",
       ":   A Time Series:  \n",
       "0.00538486581613136\n",
       "$se\n",
       ":   A Time Series:  \n",
       "0.0161719805298865\n",
       "\n",
       "\n"
      ],
      "text/plain": [
       "$pred\n",
       "Time Series:\n",
       "Start = c(18023, 250) \n",
       "End = c(18023, 250) \n",
       "Frequency = 365 \n",
       "[1] 0.005384866\n",
       "\n",
       "$se\n",
       "Time Series:\n",
       "Start = c(18023, 250) \n",
       "End = c(18023, 250) \n",
       "Frequency = 365 \n",
       "[1] 0.01617198\n"
      ]
     },
     "metadata": {},
     "output_type": "display_data"
    }
   ],
   "source": [
    "df.ts = df[ date < '2020-05-04', list(date, price.log.diff)]\n",
    "tsdata = ts(df.ts$price.log.diff, start = df$date[1], frequency = 365)\n",
    "fitARIMA <- arima(tsdata, order=c(2,0,2),method=\"ML\", include.mean = TRUE)\n",
    "# fitARIMA <- arima(tsdata, order=c(3,0,1),method=\"ML\", include.mean = TRUE)\n",
    "predict(fitARIMA, n.ahead=1)"
   ]
  },
  {
   "cell_type": "markdown",
   "metadata": {},
   "source": [
    "$R_{t+1}=\\delta+\\varphi_1R_{t}+\\varphi_2R_{t-1}+\\varepsilon_t+\\theta_1\\varepsilon_{t}+\\theta_2\\varepsilon_{t-1}$"
   ]
  },
  {
   "cell_type": "code",
   "execution_count": 63,
   "metadata": {},
   "outputs": [
    {
     "name": "stdout",
     "output_type": "stream",
     "text": [
      "[1] \"The one-step ahead forecast is:  0.00538486581613136\"\n"
     ]
    }
   ],
   "source": [
    "# Manual calculation of one-step ahead forecast for May 4:\n",
    "ar1 = coef(fitARIMA)['ar1']\n",
    "ar2 = coef(fitARIMA)['ar2']\n",
    "# ar3 = coef(fitARIMA)['ar3']\n",
    "ma1 = coef(fitARIMA)['ma1']\n",
    "ma2 = coef(fitARIMA)['ma2']\n",
    "mu = coef(fitARIMA)['intercept']\n",
    "y.series = df.ts$price.log.diff\n",
    "y.t = y.series[length(y.series)-0]\n",
    "y.t.1 = y.series[length(y.series)-1]\n",
    "# y.t.2 = y.series[length(y.series)-2]\n",
    "res = residuals(fitARIMA)\n",
    "eps.t = res[length(res)-0]\n",
    "eps.t.1 = res[length(res)-1]\n",
    "f.1 = mu + ar1 * (y.t-mu) + ar2 * (y.t.1-mu) + ma1 * eps.t + ma2 * eps.t.1\n",
    "f.1.4 = f.1\n",
    "print(paste(\"The one-step ahead forecast is: \",f.1))"
   ]
  },
  {
   "cell_type": "code",
   "execution_count": 64,
   "metadata": {},
   "outputs": [
    {
     "name": "stdout",
     "output_type": "stream",
     "text": [
      "[1] \"The truth value is:  0.00639923569738876\"\n",
      "[1] \"The forecast error is: 0.0010143698812574\"\n"
     ]
    }
   ],
   "source": [
    "y.truth = df[date == \"2020-05-04\", list(date, price.log.diff)]$price.log.diff\n",
    "y.4 = y.truth\n",
    "print(paste(\"The truth value is: \",y.truth))\n",
    "eps.t.update = y.truth - f.1\n",
    "e.4 = eps.t.update\n",
    "print(paste(\"The forecast error is:\", eps.t.update))"
   ]
  },
  {
   "cell_type": "code",
   "execution_count": 65,
   "metadata": {
    "scrolled": false
   },
   "outputs": [
    {
     "data": {
      "text/plain": [
       "\n",
       "Call:\n",
       "garch(x = y, order = c(1, 1), trace = FALSE)\n",
       "\n",
       "Model:\n",
       "GARCH(1,1)\n",
       "\n",
       "Residuals:\n",
       "    Min      1Q  Median      3Q     Max \n",
       "-6.6059 -0.4830  0.1643  0.5865  1.9551 \n",
       "\n",
       "Coefficient(s):\n",
       "    Estimate  Std. Error  t value Pr(>|t|)    \n",
       "a0 8.276e-06   3.139e-06    2.636  0.00838 ** \n",
       "a1 1.034e-01   2.972e-02    3.481  0.00050 ***\n",
       "b1 8.139e-01   5.960e-02   13.656  < 2e-16 ***\n",
       "---\n",
       "Signif. codes:  0 '***' 0.001 '**' 0.01 '*' 0.05 '.' 0.1 ' ' 1\n",
       "\n",
       "Diagnostic Tests:\n",
       "\tJarque Bera Test\n",
       "\n",
       "data:  Residuals\n",
       "X-squared = 801.26, df = 2, p-value < 2.2e-16\n",
       "\n",
       "\n",
       "\tBox-Ljung test\n",
       "\n",
       "data:  Squared.Residuals\n",
       "X-squared = 0.056589, df = 1, p-value = 0.812\n"
      ]
     },
     "metadata": {},
     "output_type": "display_data"
    },
    {
     "data": {
      "image/png": "[encoded data removed]",
      "text/plain": [
       "Plot with title \"Residuals\""
      ]
     },
     "metadata": {
      "image/png": {
       "height": 420,
       "width": 420
      },
      "text/plain": {
       "height": 420,
       "width": 420
      }
     },
     "output_type": "display_data"
    },
    {
     "data": {
      "image/png": "[encoded data removed]",
      "text/plain": [
       "Plot with title \"Histogram of Residuals\""
      ]
     },
     "metadata": {
      "image/png": {
       "height": 420,
       "width": 420
      },
      "text/plain": {
       "height": 420,
       "width": 420
      }
     },
     "output_type": "display_data"
    },
    {
     "data": {
      "image/png": "[encoded data removed]",
      "text/plain": [
       "Plot with title \"Q-Q Plot of Residuals\""
      ]
     },
     "metadata": {
      "image/png": {
       "height": 420,
       "width": 420
      },
      "text/plain": {
       "height": 420,
       "width": 420
      }
     },
     "output_type": "display_data"
    },
    {
     "data": {
      "image/png": "[encoded data removed]",
      "text/plain": [
       "Plot with title \"ACF of Squared Residuals\""
      ]
     },
     "metadata": {
      "image/png": {
       "height": 420,
       "width": 420
      },
      "text/plain": {
       "height": 420,
       "width": 420
      }
     },
     "output_type": "display_data"
    }
   ],
   "source": [
    "y <- ts(res)\n",
    "garch.y <- garch(y, order = c(1,1), trace=FALSE)  # Fit GARCH(1,1)\n",
    "summary(garch.y)                     # Diagnostic tests\n",
    "\n",
    "plot(garch.y)"
   ]
  },
  {
   "cell_type": "code",
   "execution_count": 66,
   "metadata": {},
   "outputs": [
    {
     "data": {
      "image/png": "[encoded data removed]",
      "text/plain": [
       "Plot with title \"Time series plot of residuals with volatility predicted by GARCH(1,1)\""
      ]
     },
     "metadata": {
      "image/png": {
       "height": 420,
       "width": 420
      },
      "text/plain": {
       "height": 420,
       "width": 420
      }
     },
     "output_type": "display_data"
    }
   ],
   "source": [
    "u = predict(garch.y)\n",
    "u = u %>% na.omit\n",
    "plot(y, type=\"l\", xlab=\"Time\", main = \"Time series plot of residuals with volatility predicted by GARCH(1,1)\")\n",
    "lines(u[,1], col=\"blue\", lty=\"dashed\")\n",
    "lines(u[,2], col=\"blue\", lty=\"dashed\")"
   ]
  },
  {
   "cell_type": "code",
   "execution_count": 67,
   "metadata": {},
   "outputs": [
    {
     "name": "stdout",
     "output_type": "stream",
     "text": [
      "[1] \"omega: 8.01794395483014e-06\"\n",
      "[1] \"alpha 0.21193207718508\"\n",
      "[1] \"beta 0.757502059125593\"\n",
      "[1] \"sigma_{t|t-1}: 0.0196626869690167\"\n",
      "[1] \"epsilon_t: -0.00797343094436574\"\n",
      "[1] \"1 step ahead forecast sigma: 0.0177301453127844\"\n"
     ]
    }
   ],
   "source": [
    "fit = garchFit(formula~ garch(1,1), data=y,\n",
    "                        trace=F) \n",
    "omega = coef(fit)[2]\n",
    "print(paste(\"omega:\",omega))\n",
    "alpha = coef(fit)[3]\n",
    "print(paste(\"alpha\",alpha))\n",
    "beta = coef(fit)[4]\n",
    "print(paste(\"beta\",beta))\n",
    "sigma.t = last(volatility(fit))\n",
    "print(paste(\"sigma_{t|t-1}:\",sigma.t))\n",
    "epsilon.t = last(residuals(fit))\n",
    "print(paste(\"epsilon_t:\",epsilon.t))\n",
    "sigma = omega + alpha * (epsilon.t)^2 + beta * (sigma.t)^2\n",
    "s.4 = sigma^(1/2)\n",
    "print(paste('1 step ahead forecast sigma:',sigma^(1/2)))"
   ]
  },
  {
   "cell_type": "code",
   "execution_count": 68,
   "metadata": {
    "scrolled": true
   },
   "outputs": [
    {
     "data": {
      "text/html": [
       "<table>\n",
       "<caption>A data.frame: 1 × 3</caption>\n",
       "<thead>\n",
       "\t<tr><th scope=col>meanForecast</th><th scope=col>meanError</th><th scope=col>standardDeviation</th></tr>\n",
       "\t<tr><th scope=col>&lt;dbl&gt;</th><th scope=col>&lt;dbl&gt;</th><th scope=col>&lt;dbl&gt;</th></tr>\n",
       "</thead>\n",
       "<tbody>\n",
       "\t<tr><td>1.534721e-05</td><td>0.01773015</td><td>0.01773015</td></tr>\n",
       "</tbody>\n",
       "</table>\n"
      ],
      "text/latex": [
       "A data.frame: 1 × 3\n",
       "\\begin{tabular}{lll}\n",
       " meanForecast & meanError & standardDeviation\\\\\n",
       " <dbl> & <dbl> & <dbl>\\\\\n",
       "\\hline\n",
       "\t 1.534721e-05 & 0.01773015 & 0.01773015\\\\\n",
       "\\end{tabular}\n"
      ],
      "text/markdown": [
       "\n",
       "A data.frame: 1 × 3\n",
       "\n",
       "| meanForecast &lt;dbl&gt; | meanError &lt;dbl&gt; | standardDeviation &lt;dbl&gt; |\n",
       "|---|---|---|\n",
       "| 1.534721e-05 | 0.01773015 | 0.01773015 |\n",
       "\n"
      ],
      "text/plain": [
       "  meanForecast meanError  standardDeviation\n",
       "1 1.534721e-05 0.01773015 0.01773015       "
      ]
     },
     "metadata": {},
     "output_type": "display_data"
    }
   ],
   "source": [
    "garch.y.fit = garchFit(formula~ garch(1,1), data=y,\n",
    "                        trace=F) \n",
    "vol.pred = predict(garch.y.fit, n.ahead = 1)\n",
    "vol.pred"
   ]
  },
  {
   "cell_type": "code",
   "execution_count": 69,
   "metadata": {},
   "outputs": [
    {
     "name": "stdout",
     "output_type": "stream",
     "text": [
      "[1] \"Prediction lower bound: -0.0293662189969261\"\n",
      "[1] \"Prediction upper bound: 0.0401359506291889\"\n",
      "[1] \"The truth value is:  0.00639923569738876\"\n"
     ]
    }
   ],
   "source": [
    "lower.ci = f.1 - 1.96 * sigma^(1/2)\n",
    "upper.ci = f.1 + 1.96 * sigma^(1/2)\n",
    "print(paste('Prediction lower bound:',lower.ci))\n",
    "print(paste('Prediction upper bound:',upper.ci))\n",
    "print(paste(\"The truth value is: \",y.truth))"
   ]
  },
  {
   "cell_type": "markdown",
   "metadata": {},
   "source": [
    "#### Forecast for May 4 to 8:"
   ]
  },
  {
   "cell_type": "code",
   "execution_count": 70,
   "metadata": {},
   "outputs": [],
   "source": [
    "begin.dates = c(\"2019-05-03\", \"2019-05-04\", \"2019-05-05\", \"2019-05-06\", \"2019-05-07\")\n",
    "end.dates = c(\"2020-05-04\", \"2020-05-05\", \"2020-05-06\", \"2020-05-07\", \"2020-05-08\")\n",
    "forecasts = rep(1:5)\n",
    "prog.forecasts = rep(1:5)\n",
    "sigma = rep(1:5)\n",
    "prog.sigma = rep(1:5)\n",
    "real.ret = df[ date >= \"2020-05-04\" & date <= \"2020-05-08\", list(date, price.log.diff)]\n",
    "\n",
    "for( i in 1:5){\n",
    "    df.ts = df[ date >= begin.dates[i] & date < end.dates[i], list(date, price.log.diff)]\n",
    "    tsdata = ts(df.ts$price.log.diff, start = df$date[1], frequency = 365)\n",
    "    fitARIMA <- arima(tsdata, order=c(2,0,2),method=\"ML\", include.mean = TRUE)\n",
    "    prog.forecasts[i] = predict(fitARIMA, n.ahead=1)$pred\n",
    "\n",
    "    # Manual calculation of one-step ahead forecast:\n",
    "    ar1 = coef(fitARIMA)['ar1']\n",
    "    ar2 = coef(fitARIMA)['ar2']\n",
    "    # ar3 = coef(fitARIMA)['ar3']\n",
    "    ma1 = coef(fitARIMA)['ma1']\n",
    "    ma2 = coef(fitARIMA)['ma2']\n",
    "    mu = coef(fitARIMA)['intercept']\n",
    "    y.series = df.ts$price.log.diff\n",
    "    y.t = y.series[length(y.series)-0]\n",
    "    y.t.1 = y.series[length(y.series)-1]\n",
    "    # y.t.2 = y.series[length(y.series)-2]\n",
    "    res = residuals(fitARIMA)\n",
    "    eps.t = res[length(res)-0]\n",
    "    eps.t.1 = res[length(res)-1]\n",
    "    forecasts[i] = mu + ar1 * (y.t-mu) + ar2 * (y.t.1-mu) + ma1 * eps.t + ma2 * eps.t.1\n",
    "\n",
    "    # Variance forecast\n",
    "    res = residuals(fitARIMA)\n",
    "    y <- ts(res)\n",
    "\n",
    "    fit = garchFit(formula~ garch(1,1), data=y,\n",
    "                    trace=F) \n",
    "    omega = coef(fit)[2]\n",
    "#     print(paste(\"omega:\",omega))\n",
    "    alpha = coef(fit)[3]\n",
    "#     print(paste(\"alpha\",alpha))\n",
    "    beta = coef(fit)[4]\n",
    "#     print(paste(\"beta\",beta))\n",
    "    sigma.t = last(volatility(fit))\n",
    "#     print(paste(\"sigma_{t|t-1}:\",sigma.t))\n",
    "    epsilon.t = last(residuals(fit))\n",
    "#     print(paste(\"epsilon_t:\",epsilon.t))\n",
    "    sigma[i] = sqrt(omega + alpha * (epsilon.t)^2 + beta * (sigma.t)^2)\n",
    "\n",
    "    prog.sigma[i] = predict(fit, n.ahead = 1)$standardDeviation        \n",
    "}"
   ]
  },
  {
   "cell_type": "code",
   "execution_count": 75,
   "metadata": {},
   "outputs": [
    {
     "data": {
      "text/html": [
       "<table>\n",
       "<caption>A data.table: 5 × 11</caption>\n",
       "<thead>\n",
       "\t<tr><th scope=col>date</th><th scope=col>price.log.diff</th><th scope=col>forecast</th><th scope=col>prog.forecast</th><th scope=col>sigma</th><th scope=col>prog.sigma</th><th scope=col>upper.ci</th><th scope=col>lower.ci</th><th scope=col>error</th><th scope=col>rsq.error</th><th scope=col>abs.error</th></tr>\n",
       "\t<tr><th scope=col>&lt;date&gt;</th><th scope=col>&lt;dbl&gt;</th><th scope=col>&lt;dbl&gt;</th><th scope=col>&lt;dbl&gt;</th><th scope=col>&lt;dbl&gt;</th><th scope=col>&lt;dbl&gt;</th><th scope=col>&lt;dbl&gt;</th><th scope=col>&lt;dbl&gt;</th><th scope=col>&lt;dbl&gt;</th><th scope=col>&lt;dbl&gt;</th><th scope=col>&lt;dbl&gt;</th></tr>\n",
       "</thead>\n",
       "<tbody>\n",
       "\t<tr><td>2020-05-04</td><td>0.006399236</td><td> 0.0053848658</td><td> 0.0053848658</td><td>0.01773015</td><td>0.01773015</td><td>0.04013595</td><td>-0.02936622</td><td>0.001014370</td><td>0.001014370</td><td>0.001014370</td></tr>\n",
       "\t<tr><td>2020-05-05</td><td>0.003329371</td><td>-0.0048296887</td><td>-0.0048296887</td><td>0.01561543</td><td>0.01561543</td><td>0.02577655</td><td>-0.03543592</td><td>0.008159060</td><td>0.008159060</td><td>0.008159060</td></tr>\n",
       "\t<tr><td>2020-05-06</td><td>0.004313372</td><td> 0.0020585630</td><td> 0.0020585630</td><td>0.01429396</td><td>0.01429396</td><td>0.03007473</td><td>-0.02595760</td><td>0.002254809</td><td>0.002254809</td><td>0.002254809</td></tr>\n",
       "\t<tr><td>2020-05-07</td><td>0.007472455</td><td>-0.0020528736</td><td>-0.0020528736</td><td>0.01268188</td><td>0.01268188</td><td>0.02280362</td><td>-0.02690936</td><td>0.009525328</td><td>0.009525328</td><td>0.009525328</td></tr>\n",
       "\t<tr><td>2020-05-08</td><td>0.001809844</td><td>-0.0004967034</td><td>-0.0004967034</td><td>0.01211624</td><td>0.01211624</td><td>0.02325112</td><td>-0.02424452</td><td>0.002306548</td><td>0.002306548</td><td>0.002306548</td></tr>\n",
       "</tbody>\n",
       "</table>\n"
      ],
      "text/latex": [
       "A data.table: 5 × 11\n",
       "\\begin{tabular}{lllllllllll}\n",
       " date & price.log.diff & forecast & prog.forecast & sigma & prog.sigma & upper.ci & lower.ci & error & rsq.error & abs.error\\\\\n",
       " <date> & <dbl> & <dbl> & <dbl> & <dbl> & <dbl> & <dbl> & <dbl> & <dbl> & <dbl> & <dbl>\\\\\n",
       "\\hline\n",
       "\t 2020-05-04 & 0.006399236 &  0.0053848658 &  0.0053848658 & 0.01773015 & 0.01773015 & 0.04013595 & -0.02936622 & 0.001014370 & 0.001014370 & 0.001014370\\\\\n",
       "\t 2020-05-05 & 0.003329371 & -0.0048296887 & -0.0048296887 & 0.01561543 & 0.01561543 & 0.02577655 & -0.03543592 & 0.008159060 & 0.008159060 & 0.008159060\\\\\n",
       "\t 2020-05-06 & 0.004313372 &  0.0020585630 &  0.0020585630 & 0.01429396 & 0.01429396 & 0.03007473 & -0.02595760 & 0.002254809 & 0.002254809 & 0.002254809\\\\\n",
       "\t 2020-05-07 & 0.007472455 & -0.0020528736 & -0.0020528736 & 0.01268188 & 0.01268188 & 0.02280362 & -0.02690936 & 0.009525328 & 0.009525328 & 0.009525328\\\\\n",
       "\t 2020-05-08 & 0.001809844 & -0.0004967034 & -0.0004967034 & 0.01211624 & 0.01211624 & 0.02325112 & -0.02424452 & 0.002306548 & 0.002306548 & 0.002306548\\\\\n",
       "\\end{tabular}\n"
      ],
      "text/markdown": [
       "\n",
       "A data.table: 5 × 11\n",
       "\n",
       "| date &lt;date&gt; | price.log.diff &lt;dbl&gt; | forecast &lt;dbl&gt; | prog.forecast &lt;dbl&gt; | sigma &lt;dbl&gt; | prog.sigma &lt;dbl&gt; | upper.ci &lt;dbl&gt; | lower.ci &lt;dbl&gt; | error &lt;dbl&gt; | rsq.error &lt;dbl&gt; | abs.error &lt;dbl&gt; |\n",
       "|---|---|---|---|---|---|---|---|---|---|---|\n",
       "| 2020-05-04 | 0.006399236 |  0.0053848658 |  0.0053848658 | 0.01773015 | 0.01773015 | 0.04013595 | -0.02936622 | 0.001014370 | 0.001014370 | 0.001014370 |\n",
       "| 2020-05-05 | 0.003329371 | -0.0048296887 | -0.0048296887 | 0.01561543 | 0.01561543 | 0.02577655 | -0.03543592 | 0.008159060 | 0.008159060 | 0.008159060 |\n",
       "| 2020-05-06 | 0.004313372 |  0.0020585630 |  0.0020585630 | 0.01429396 | 0.01429396 | 0.03007473 | -0.02595760 | 0.002254809 | 0.002254809 | 0.002254809 |\n",
       "| 2020-05-07 | 0.007472455 | -0.0020528736 | -0.0020528736 | 0.01268188 | 0.01268188 | 0.02280362 | -0.02690936 | 0.009525328 | 0.009525328 | 0.009525328 |\n",
       "| 2020-05-08 | 0.001809844 | -0.0004967034 | -0.0004967034 | 0.01211624 | 0.01211624 | 0.02325112 | -0.02424452 | 0.002306548 | 0.002306548 | 0.002306548 |\n",
       "\n"
      ],
      "text/plain": [
       "  date       price.log.diff forecast      prog.forecast sigma      prog.sigma\n",
       "1 2020-05-04 0.006399236     0.0053848658  0.0053848658 0.01773015 0.01773015\n",
       "2 2020-05-05 0.003329371    -0.0048296887 -0.0048296887 0.01561543 0.01561543\n",
       "3 2020-05-06 0.004313372     0.0020585630  0.0020585630 0.01429396 0.01429396\n",
       "4 2020-05-07 0.007472455    -0.0020528736 -0.0020528736 0.01268188 0.01268188\n",
       "5 2020-05-08 0.001809844    -0.0004967034 -0.0004967034 0.01211624 0.01211624\n",
       "  upper.ci   lower.ci    error       rsq.error   abs.error  \n",
       "1 0.04013595 -0.02936622 0.001014370 0.001014370 0.001014370\n",
       "2 0.02577655 -0.03543592 0.008159060 0.008159060 0.008159060\n",
       "3 0.03007473 -0.02595760 0.002254809 0.002254809 0.002254809\n",
       "4 0.02280362 -0.02690936 0.009525328 0.009525328 0.009525328\n",
       "5 0.02325112 -0.02424452 0.002306548 0.002306548 0.002306548"
      ]
     },
     "metadata": {},
     "output_type": "display_data"
    }
   ],
   "source": [
    "df.est = data.table(real.ret)\n",
    "df.est[, forecast := forecasts]\n",
    "df.est[, prog.forecast := prog.forecasts]\n",
    "df.est[, sigma := sigma]\n",
    "df.est[, prog.sigma:=prog.sigma]\n",
    "df.est[, upper.ci := forecast + 1.96*sigma]\n",
    "df.est[, lower.ci := forecast - 1.96*sigma]\n",
    "df.est[, error := price.log.diff\t - forecast]\n",
    "df.est[, rsq.error := error^2%>%sqrt]\n",
    "df.est[, abs.error := abs(error)]\n",
    "\n",
    "df.est"
   ]
  },
  {
   "cell_type": "code",
   "execution_count": 76,
   "metadata": {},
   "outputs": [
    {
     "name": "stdout",
     "output_type": "stream",
     "text": [
      "[1] \"RMSE:  0.00465202292077624\"\n",
      "[1] \"MAE:  0.00465202292077624\"\n"
     ]
    }
   ],
   "source": [
    "rmse = mean(df.est$rsq.error) \n",
    "print(paste(\"RMSE: \", rmse))\n",
    "mae = mean(df.est$abs.error)\n",
    "print(paste(\"MAE: \", mae))"
   ]
  },
  {
   "cell_type": "code",
   "execution_count": 73,
   "metadata": {},
   "outputs": [
    {
     "data": {
      "image/png": "[encoded data removed]",
      "text/plain": [
       "plot without title"
      ]
     },
     "metadata": {
      "image/png": {
       "height": 360,
       "width": 600
      },
      "text/plain": {
       "height": 360,
       "width": 600
      }
     },
     "output_type": "display_data"
    }
   ],
   "source": [
    "fig <- function(width, heigth){\n",
    "     options(repr.plot.width = width, repr.plot.height = heigth)\n",
    "}\n",
    "fig(10,6)\n",
    "ggplot(data = df.est , aes(x=date))+\n",
    "    geom_line(aes(y = forecast, color = \"forecast\"),lwd=1.5) +\n",
    "    geom_line(aes(y = price.log.diff, color = \"real return\"),lwd=1.5) +\n",
    "    geom_line(aes(y = lower.ci, color = \"lower bound\"), linetype = \"twodash\",lwd=1.5) +\n",
    "    geom_line(aes(y = upper.ci, color = \"upper bound\"), linetype = \"twodash\",lwd=1.5) +\n",
    "    theme(text = element_text(size=15)) +\n",
    "    scale_size_manual( values = c(4,2,2) )"
   ]
  }
 ],
 "metadata": {
  "kernelspec": {
   "display_name": "R",
   "language": "R",
   "name": "ir"
  },
  "language_info": {
   "codemirror_mode": "r",
   "file_extension": ".r",
   "mimetype": "text/x-r-source",
   "name": "R",
   "pygments_lexer": "r",
   "version": "3.6.1"
  }
 },
 "nbformat": 4,
 "nbformat_minor": 4
}
