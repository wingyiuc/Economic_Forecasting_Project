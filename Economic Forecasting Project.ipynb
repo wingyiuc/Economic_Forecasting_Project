{
 "cells": [
  {
   "cell_type": "markdown",
   "metadata": {},
   "source": [
    "# References:\n",
    "### Global Investigation of Return Autocorrelation and Its Determinants\n",
    "https://papers.ssrn.com/sol3/papers.cfm?abstract_id=2963414\n",
    "\n",
    "//return autocorrelation is significantly larger in emerging markets than in developed markets.//\n",
    "\n",
    "### Time Series Analysis Using ARIMA Model In R\n",
    "https://datascienceplus.com/time-series-analysis-using-arima-model-in-r/\n",
    "### Formal ways to compare forecasting models: Rolling windows\n",
    "https://www.r-bloggers.com/formal-ways-to-compare-forecasting-models-rolling-windows/\n",
    "### construct an appropriate time series model\n",
    "http://rstudio-pubs-static.s3.amazonaws.com/248109_7aba6341a24f4da5853613830f3e71b1.html\n",
    "### Autoregressive Moving Average ARMA(p, q) Models for Time Series Analysis - Part 3\n",
    "https://www.quantstart.com/articles/Autoregressive-Moving-Average-ARMA-p-q-Models-for-Time-Series-Analysis-Part-3/"
   ]
  },
  {
   "cell_type": "markdown",
   "metadata": {},
   "source": [
    "# Getting started"
   ]
  },
  {
   "cell_type": "code",
   "execution_count": 19,
   "metadata": {},
   "outputs": [
    {
     "data": {
      "text/html": [
       "'C:/Users/Chan WingYiu/Documents/ECON3283 Economic Forecasting/Project'"
      ],
      "text/latex": [
       "'C:/Users/Chan WingYiu/Documents/ECON3283 Economic Forecasting/Project'"
      ],
      "text/markdown": [
       "'C:/Users/Chan WingYiu/Documents/ECON3283 Economic Forecasting/Project'"
      ],
      "text/plain": [
       "[1] \"C:/Users/Chan WingYiu/Documents/ECON3283 Economic Forecasting/Project\""
      ]
     },
     "metadata": {},
     "output_type": "display_data"
    }
   ],
   "source": [
    "pwd()"
   ]
  },
  {
   "cell_type": "code",
   "execution_count": 18,
   "metadata": {},
   "outputs": [
    {
     "name": "stderr",
     "output_type": "stream",
     "text": [
      "Installing package into 'C:/Users/Chan WingYiu/Documents/R/win-library/3.6'\n",
      "(as 'lib' is unspecified)\n",
      "\n"
     ]
    },
    {
     "name": "stdout",
     "output_type": "stream",
     "text": [
      "package 'arfima' successfully unpacked and MD5 sums checked\n",
      "\n",
      "The downloaded binary packages are in\n",
      "\tC:\\Users\\Public\\Documents\\Wondershare\\CreatorTemp\\Rtmp213gUA\\downloaded_packages\n"
     ]
    }
   ],
   "source": [
    "# install.packages(\"arfima\")"
   ]
  },
  {
   "cell_type": "code",
   "execution_count": 23,
   "metadata": {},
   "outputs": [],
   "source": [
    "### Load packages\n",
    "library(data.table)\n",
    "library(readxl)\n",
    "library(stringr)\n",
    "library(dplyr)\n",
    "library(forecast)\n",
    "library(ggplot2)\n",
    "library(tseries)\n",
    "library(stats)\n",
    "library(psych)\n",
    "library(fUnitRoots)\n",
    "library(lmtest)\n",
    "library(pastecs)\n",
    "library(FitAR)\n",
    "library(aTSA)\n",
    "library(itsmr)\n",
    "library(pracma)\n",
    "library(arfima)\n",
    "library(dse)\n",
    "library(smooth)\n",
    "library(fGarch)"
   ]
  },
  {
   "cell_type": "code",
   "execution_count": 3,
   "metadata": {
    "scrolled": true
   },
   "outputs": [
    {
     "data": {
      "text/html": [
       "<ol class=list-inline>\n",
       "\t<li>'^GSPC.csv'</li>\n",
       "\t<li>'^NZ50.csv'</li>\n",
       "\t<li>'^STOXX50E.csv'</li>\n",
       "\t<li>'000001.SS.csv'</li>\n",
       "</ol>\n"
      ],
      "text/latex": [
       "\\begin{enumerate*}\n",
       "\\item '\\textasciicircum{}GSPC.csv'\n",
       "\\item '\\textasciicircum{}NZ50.csv'\n",
       "\\item '\\textasciicircum{}STOXX50E.csv'\n",
       "\\item '000001.SS.csv'\n",
       "\\end{enumerate*}\n"
      ],
      "text/markdown": [
       "1. '^GSPC.csv'\n",
       "2. '^NZ50.csv'\n",
       "3. '^STOXX50E.csv'\n",
       "4. '000001.SS.csv'\n",
       "\n",
       "\n"
      ],
      "text/plain": [
       "[1] \"^GSPC.csv\"     \"^NZ50.csv\"     \"^STOXX50E.csv\" \"000001.SS.csv\""
      ]
     },
     "metadata": {},
     "output_type": "display_data"
    }
   ],
   "source": [
    "list.files(pattern = \".csv\")"
   ]
  },
  {
   "cell_type": "markdown",
   "metadata": {},
   "source": [
    "# Stock 1 \n",
    "## About S&P/NZX 50 Gross Index\n",
    "The New Zealand Exchange 50 Gross Index is a modified market capitalization weighted index. This index consists of the top 50 companies by free float adjusted market capitalization that are listed on the New Zealand Exchange Limited. (Bloomberg)\n",
    "\n",
    "As we all know, the return of HSI is a white noise. By Market Efficency Hypothesis, it is possible that HSI is too exploited, as it is too frequenly traded by investors. In fact, its 30 day average volume is 1,774,525,972 (Bloomberg). Conversely, the New Zealand Exchange 50 Gross Index is only having a 49,914,886 30 day average volume. It is believed that it is a less efficient market, thus may show more autocorrelation in data.\n",
    "## Inspecting the data"
   ]
  },
  {
   "cell_type": "code",
   "execution_count": 4,
   "metadata": {
    "scrolled": true
   },
   "outputs": [
    {
     "name": "stderr",
     "output_type": "stream",
     "text": [
      "Warning message in function_list[[k]](value):\n",
      "\"NAs introduced by coercion\"\n"
     ]
    },
    {
     "data": {
      "text/html": [
       "<table>\n",
       "<caption>A data.table: 6 × 2</caption>\n",
       "<thead>\n",
       "\t<tr><th scope=col>date</th><th scope=col>Price</th></tr>\n",
       "\t<tr><th scope=col>&lt;date&gt;</th><th scope=col>&lt;dbl&gt;</th></tr>\n",
       "</thead>\n",
       "<tbody>\n",
       "\t<tr><td>2020-05-01</td><td>10449.01</td></tr>\n",
       "\t<tr><td>2020-05-04</td><td>10516.09</td></tr>\n",
       "\t<tr><td>2020-05-05</td><td>10551.16</td></tr>\n",
       "\t<tr><td>2020-05-06</td><td>10596.77</td></tr>\n",
       "\t<tr><td>2020-05-07</td><td>10676.25</td></tr>\n",
       "\t<tr><td>2020-05-08</td><td>10695.59</td></tr>\n",
       "</tbody>\n",
       "</table>\n"
      ],
      "text/latex": [
       "A data.table: 6 × 2\n",
       "\\begin{tabular}{ll}\n",
       " date & Price\\\\\n",
       " <date> & <dbl>\\\\\n",
       "\\hline\n",
       "\t 2020-05-01 & 10449.01\\\\\n",
       "\t 2020-05-04 & 10516.09\\\\\n",
       "\t 2020-05-05 & 10551.16\\\\\n",
       "\t 2020-05-06 & 10596.77\\\\\n",
       "\t 2020-05-07 & 10676.25\\\\\n",
       "\t 2020-05-08 & 10695.59\\\\\n",
       "\\end{tabular}\n"
      ],
      "text/markdown": [
       "\n",
       "A data.table: 6 × 2\n",
       "\n",
       "| date &lt;date&gt; | Price &lt;dbl&gt; |\n",
       "|---|---|\n",
       "| 2020-05-01 | 10449.01 |\n",
       "| 2020-05-04 | 10516.09 |\n",
       "| 2020-05-05 | 10551.16 |\n",
       "| 2020-05-06 | 10596.77 |\n",
       "| 2020-05-07 | 10676.25 |\n",
       "| 2020-05-08 | 10695.59 |\n",
       "\n"
      ],
      "text/plain": [
       "  date       Price   \n",
       "1 2020-05-01 10449.01\n",
       "2 2020-05-04 10516.09\n",
       "3 2020-05-05 10551.16\n",
       "4 2020-05-06 10596.77\n",
       "5 2020-05-07 10676.25\n",
       "6 2020-05-08 10695.59"
      ]
     },
     "metadata": {},
     "output_type": "display_data"
    }
   ],
   "source": [
    "# Load data\n",
    "\n",
    "df = read.csv('^NZ50.csv')\n",
    "df %>% setDT\n",
    "df = df[,.(date = as.Date(Date),\n",
    "                 Price = Adj.Close%>% as.character %>% as.numeric)]\n",
    "df = df[date>='2019-05-04' & date <= '2020-05-08',]\n",
    "df = na.omit(df)\n",
    "setkey(df, date)\n",
    "df %>% tail"
   ]
  },
  {
   "cell_type": "code",
   "execution_count": 5,
   "metadata": {},
   "outputs": [
    {
     "data": {
      "image/png": "[encoded data removed]",
      "text/plain": [
       "plot without title"
      ]
     },
     "metadata": {
      "image/png": {
       "height": 420,
       "width": 420
      },
      "text/plain": {
       "height": 420,
       "width": 420
      }
     },
     "output_type": "display_data"
    }
   ],
   "source": [
    "# Graph of the index\n",
    "\n",
    "ggplot(df, aes(x=date)) + geom_line(aes(y=Price,group=1))+ theme_minimal()"
   ]
  },
  {
   "cell_type": "code",
   "execution_count": 6,
   "metadata": {
    "scrolled": false
   },
   "outputs": [
    {
     "data": {
      "image/png": "[encoded data removed]",
      "text/plain": [
       "Plot with title \"Series  df$Price\""
      ]
     },
     "metadata": {
      "image/png": {
       "height": 420,
       "width": 420
      },
      "text/plain": {
       "height": 420,
       "width": 420
      }
     },
     "output_type": "display_data"
    }
   ],
   "source": [
    "# ACFs and PACFs \n",
    "par(mfrow=c(2,1))\n",
    "\n",
    "Acf(df$Price, lag.max = 50)\n",
    "\n",
    "Pacf(df$Price, lag.max = 50)"
   ]
  },
  {
   "cell_type": "markdown",
   "metadata": {},
   "source": [
    "Obviously, the time series data is non-stationary. So, we need to use log differences to make it mean stationary:\n",
    "$R_t = log(P_t) - log(P_{t-1})$"
   ]
  },
  {
   "cell_type": "code",
   "execution_count": 7,
   "metadata": {
    "scrolled": false
   },
   "outputs": [
    {
     "data": {
      "image/png": "[encoded data removed]",
      "text/plain": [
       "plot without title"
      ]
     },
     "metadata": {
      "image/png": {
       "height": 420,
       "width": 420
      },
      "text/plain": {
       "height": 420,
       "width": 420
      }
     },
     "output_type": "display_data"
    }
   ],
   "source": [
    "df[, price.lag.1:= shift(Price, type = 'lag', n=1) ]\n",
    "df[, price.log.diff := log(Price) - log(price.lag.1)]\n",
    "df = na.omit(df)\n",
    "ggplot(df, aes(x=date)) + geom_line(aes(y=price.log.diff,group=1))+ theme_minimal() "
   ]
  },
  {
   "cell_type": "code",
   "execution_count": 8,
   "metadata": {
    "scrolled": true
   },
   "outputs": [
    {
     "data": {
      "text/html": [
       "<dl class=dl-horizontal>\n",
       "\t<dt>nbr.val</dt>\n",
       "\t\t<dd>254</dd>\n",
       "\t<dt>nbr.null</dt>\n",
       "\t\t<dd>0</dd>\n",
       "\t<dt>nbr.na</dt>\n",
       "\t\t<dd>0</dd>\n",
       "\t<dt>min</dt>\n",
       "\t\t<dd>-0.103373138865175</dd>\n",
       "\t<dt>max</dt>\n",
       "\t\t<dd>0.122573791527484</dd>\n",
       "\t<dt>range</dt>\n",
       "\t\t<dd>0.225946930392659</dd>\n",
       "\t<dt>sum</dt>\n",
       "\t\t<dd>0.0711921619913785</dd>\n",
       "\t<dt>median</dt>\n",
       "\t\t<dd>0.00112616038920255</dd>\n",
       "\t<dt>mean</dt>\n",
       "\t\t<dd>0.000280284102328262</dd>\n",
       "\t<dt>SE.mean</dt>\n",
       "\t\t<dd>0.00121209811625257</dd>\n",
       "\t<dt>CI.mean.0.95</dt>\n",
       "\t\t<dd>0.00238708761137222</dd>\n",
       "\t<dt>var</dt>\n",
       "\t\t<dd>0.000373172188229448</dd>\n",
       "\t<dt>std.dev</dt>\n",
       "\t\t<dd>0.0193176651857684</dd>\n",
       "\t<dt>coef.var</dt>\n",
       "\t\t<dd>68.9217298637367</dd>\n",
       "</dl>\n"
      ],
      "text/latex": [
       "\\begin{description*}\n",
       "\\item[nbr.val] 254\n",
       "\\item[nbr.null] 0\n",
       "\\item[nbr.na] 0\n",
       "\\item[min] -0.103373138865175\n",
       "\\item[max] 0.122573791527484\n",
       "\\item[range] 0.225946930392659\n",
       "\\item[sum] 0.0711921619913785\n",
       "\\item[median] 0.00112616038920255\n",
       "\\item[mean] 0.000280284102328262\n",
       "\\item[SE.mean] 0.00121209811625257\n",
       "\\item[CI.mean.0.95] 0.00238708761137222\n",
       "\\item[var] 0.000373172188229448\n",
       "\\item[std.dev] 0.0193176651857684\n",
       "\\item[coef.var] 68.9217298637367\n",
       "\\end{description*}\n"
      ],
      "text/markdown": [
       "nbr.val\n",
       ":   254nbr.null\n",
       ":   0nbr.na\n",
       ":   0min\n",
       ":   -0.103373138865175max\n",
       ":   0.122573791527484range\n",
       ":   0.225946930392659sum\n",
       ":   0.0711921619913785median\n",
       ":   0.00112616038920255mean\n",
       ":   0.000280284102328262SE.mean\n",
       ":   0.00121209811625257CI.mean.0.95\n",
       ":   0.00238708761137222var\n",
       ":   0.000373172188229448std.dev\n",
       ":   0.0193176651857684coef.var\n",
       ":   68.9217298637367\n",
       "\n"
      ],
      "text/plain": [
       "      nbr.val      nbr.null        nbr.na           min           max \n",
       " 2.540000e+02  0.000000e+00  0.000000e+00 -1.033731e-01  1.225738e-01 \n",
       "        range           sum        median          mean       SE.mean \n",
       " 2.259469e-01  7.119216e-02  1.126160e-03  2.802841e-04  1.212098e-03 \n",
       " CI.mean.0.95           var       std.dev      coef.var \n",
       " 2.387088e-03  3.731722e-04  1.931767e-02  6.892173e+01 "
      ]
     },
     "metadata": {},
     "output_type": "display_data"
    }
   ],
   "source": [
    "# Descriptive statistics \n",
    "\n",
    "stat.desc(df$price.log.diff)"
   ]
  },
  {
   "cell_type": "code",
   "execution_count": 9,
   "metadata": {
    "scrolled": false
   },
   "outputs": [
    {
     "data": {
      "image/png": "[encoded data removed]",
      "text/plain": [
       "Plot with title \"Series  df$price.log.diff\""
      ]
     },
     "metadata": {
      "image/png": {
       "height": 420,
       "width": 420
      },
      "text/plain": {
       "height": 420,
       "width": 420
      }
     },
     "output_type": "display_data"
    }
   ],
   "source": [
    "# ACFs and PACFs \n",
    "par(mfrow=c(2,1))\n",
    "\n",
    "Acf(df$price.log.diff, lag.max = 50)\n",
    "\n",
    "Pacf(df$price.log.diff, lag.max = 50)"
   ]
  },
  {
   "cell_type": "code",
   "execution_count": 24,
   "metadata": {
    "scrolled": false
   },
   "outputs": [
    {
     "name": "stdout",
     "output_type": "stream",
     "text": [
      "Augmented Dickey-Fuller Test \n",
      "alternative: stationary \n",
      " \n",
      "Type 1: no drift no trend \n",
      "     lag    ADF p.value\n",
      "[1,]   0 -24.60    0.01\n",
      "[2,]   1 -12.14    0.01\n",
      "[3,]   2  -8.29    0.01\n",
      "[4,]   3  -8.59    0.01\n",
      "[5,]   4  -5.99    0.01\n",
      "Type 2: with drift no trend \n",
      "     lag    ADF p.value\n",
      "[1,]   0 -24.56    0.01\n",
      "[2,]   1 -12.12    0.01\n",
      "[3,]   2  -8.28    0.01\n",
      "[4,]   3  -8.57    0.01\n",
      "[5,]   4  -5.98    0.01\n",
      "Type 3: with drift and trend \n",
      "     lag    ADF p.value\n",
      "[1,]   0 -24.55    0.01\n",
      "[2,]   1 -12.13    0.01\n",
      "[3,]   2  -8.28    0.01\n",
      "[4,]   3  -8.59    0.01\n",
      "[5,]   4  -5.98    0.01\n",
      "---- \n",
      "Note: in fact, p.value = 0.01 means p.value <= 0.01 \n"
     ]
    }
   ],
   "source": [
    "# Augmented Dickey-Fuller Test\n",
    "\n",
    "aTSA::adf.test(df$price.log.diff, nlag = NULL, output = TRUE)"
   ]
  },
  {
   "cell_type": "markdown",
   "metadata": {},
   "source": [
    "The return is seems mean stationary, however, is obviously variance non-stationary from the plot. From the Augmented Dickey-Fuller test, the coefficients are all negative in the three types of test, and the p-value is smaller than 0.01, indicating the data do not have unit root and is stationary. From the ACF graph, it has spikes on the first few lags, and then a decay toward zero; PACF shows splike from first lag and a smooth decay toward zero. These are signs that the time zeries may be an ARMA process."
   ]
  },
  {
   "cell_type": "markdown",
   "metadata": {},
   "source": [
    "## Model Selection"
   ]
  },
  {
   "cell_type": "code",
   "execution_count": 28,
   "metadata": {
    "scrolled": true
   },
   "outputs": [
    {
     "name": "stdout",
     "output_type": "stream",
     "text": [
      "[1] \"Number of observations: 249\"\n"
     ]
    }
   ],
   "source": [
    "# prepare ts data\n",
    "\n",
    "df.ts = df[ date < '2020-05-04', list(date, price.log.diff)]\n",
    "tsdata = ts(df.ts$price.log.diff, start = df$date[1], frequency = 365)\n",
    "print(paste(\"Number of observations:\",length(tsdata)))"
   ]
  },
  {
   "cell_type": "code",
   "execution_count": 29,
   "metadata": {
    "scrolled": false
   },
   "outputs": [
    {
     "name": "stdout",
     "output_type": "stream",
     "text": [
      "\n",
      " Fitting models using approximations to speed things up...\n",
      "\n",
      " ARIMA(2,0,2)             with non-zero mean : -1327.669\n",
      " ARIMA(0,0,0)             with non-zero mean : -1251.14\n",
      " ARIMA(1,0,0)             with non-zero mean : -1294.763\n",
      " ARIMA(0,0,1)             with non-zero mean : -1282.902\n",
      " ARIMA(0,0,0)             with zero mean     : -1253.148\n",
      " ARIMA(1,0,2)             with non-zero mean : -1296.429\n",
      " ARIMA(2,0,1)             with non-zero mean : -1293.807\n",
      " ARIMA(3,0,2)             with non-zero mean : -1331.181\n",
      " ARIMA(3,0,1)             with non-zero mean : -1331.468\n",
      " ARIMA(3,0,0)             with non-zero mean : -1296.21\n",
      " ARIMA(4,0,1)             with non-zero mean : -1329.683\n",
      " ARIMA(2,0,0)             with non-zero mean : -1293.813\n",
      " ARIMA(4,0,0)             with non-zero mean : -1299.713\n",
      " ARIMA(4,0,2)             with non-zero mean : -1327.752\n",
      " ARIMA(3,0,1)             with zero mean     : -1333.553\n",
      " ARIMA(2,0,1)             with zero mean     : -1295.877\n",
      " ARIMA(3,0,0)             with zero mean     : -1298.28\n",
      " ARIMA(4,0,1)             with zero mean     : -1331.743\n",
      " ARIMA(3,0,2)             with zero mean     : -1333.224\n",
      " ARIMA(2,0,0)             with zero mean     : -1295.846\n",
      " ARIMA(2,0,2)             with zero mean     : -1328.908\n",
      " ARIMA(4,0,0)             with zero mean     : -1301.791\n",
      " ARIMA(4,0,2)             with zero mean     : -1329.793\n",
      "\n",
      " Now re-fitting the best model(s) without approximations...\n",
      "\n",
      " ARIMA(3,0,1)             with zero mean     : -1334.65\n",
      "\n",
      " Best model: ARIMA(3,0,1)             with zero mean     \n",
      "\n"
     ]
    },
    {
     "data": {
      "text/plain": [
       "Series: tsdata \n",
       "ARIMA(3,0,1) with zero mean \n",
       "\n",
       "Coefficients:\n",
       "          ar1      ar2    ar3     ma1\n",
       "      -1.1728  -0.1242  0.275  0.9262\n",
       "s.e.   0.0638   0.0968  0.062  0.0254\n",
       "\n",
       "sigma^2 estimated as 0.000267:  log likelihood=672.45\n",
       "AIC=-1334.9   AICc=-1334.65   BIC=-1317.31"
      ]
     },
     "metadata": {},
     "output_type": "display_data"
    }
   ],
   "source": [
    "#  fitting different ARMA models and compare with AIC\n",
    "\n",
    "auto.arima(tsdata, trace=TRUE)"
   ]
  },
  {
   "cell_type": "markdown",
   "metadata": {},
   "source": [
    "Using AIC as model selection criterion, the best model estimated is ARMA(3,1)"
   ]
  },
  {
   "cell_type": "markdown",
   "metadata": {},
   "source": [
    "#### ARMA(3,1)"
   ]
  },
  {
   "cell_type": "code",
   "execution_count": 30,
   "metadata": {
    "scrolled": true
   },
   "outputs": [
    {
     "data": {
      "text/plain": [
       "\n",
       "z test of coefficients:\n",
       "\n",
       "             Estimate  Std. Error  z value  Pr(>|z|)    \n",
       "ar1       -1.17306032  0.06384683 -18.3730 < 2.2e-16 ***\n",
       "ar2       -0.12464305  0.09684232  -1.2871    0.1981    \n",
       "ar3        0.27479133  0.06198933   4.4329 9.298e-06 ***\n",
       "ma1        0.92620773  0.02541507  36.4433 < 2.2e-16 ***\n",
       "intercept  0.00018827  0.00097931   0.1923    0.8475    \n",
       "---\n",
       "Signif. codes:  0 '***' 0.001 '**' 0.01 '*' 0.05 '.' 0.1 ' ' 1\n"
      ]
     },
     "metadata": {},
     "output_type": "display_data"
    }
   ],
   "source": [
    "fitARIMA <- arima(tsdata, order=c(3,0,1),method=\"ML\")\n",
    "coeftest(fitARIMA)"
   ]
  },
  {
   "cell_type": "code",
   "execution_count": 31,
   "metadata": {
    "scrolled": false
   },
   "outputs": [
    {
     "data": {
      "text/html": [
       "<dl class=dl-horizontal>\n",
       "\t<dt>ar1</dt>\n",
       "\t\t<dd>-1.17306032177733</dd>\n",
       "\t<dt>ar2</dt>\n",
       "\t\t<dd>-0.124643053480175</dd>\n",
       "\t<dt>ar3</dt>\n",
       "\t\t<dd>0.274791325401656</dd>\n",
       "\t<dt>ma1</dt>\n",
       "\t\t<dd>0.926207732517539</dd>\n",
       "\t<dt>intercept</dt>\n",
       "\t\t<dd>0.000188274651135724</dd>\n",
       "</dl>\n"
      ],
      "text/latex": [
       "\\begin{description*}\n",
       "\\item[ar1] -1.17306032177733\n",
       "\\item[ar2] -0.124643053480175\n",
       "\\item[ar3] 0.274791325401656\n",
       "\\item[ma1] 0.926207732517539\n",
       "\\item[intercept] 0.000188274651135724\n",
       "\\end{description*}\n"
      ],
      "text/markdown": [
       "ar1\n",
       ":   -1.17306032177733ar2\n",
       ":   -0.124643053480175ar3\n",
       ":   0.274791325401656ma1\n",
       ":   0.926207732517539intercept\n",
       ":   0.000188274651135724\n",
       "\n"
      ],
      "text/plain": [
       "          ar1           ar2           ar3           ma1     intercept \n",
       "-1.1730603218 -0.1246430535  0.2747913254  0.9262077325  0.0001882747 "
      ]
     },
     "metadata": {},
     "output_type": "display_data"
    }
   ],
   "source": [
    "coefficients(fitARIMA)"
   ]
  },
  {
   "cell_type": "code",
   "execution_count": 32,
   "metadata": {
    "scrolled": false
   },
   "outputs": [
    {
     "data": {
      "text/html": [
       "<table>\n",
       "<caption>A matrix: 5 × 2 of type dbl</caption>\n",
       "<thead>\n",
       "\t<tr><th></th><th scope=col>2.5 %</th><th scope=col>97.5 %</th></tr>\n",
       "</thead>\n",
       "<tbody>\n",
       "\t<tr><th scope=row>ar1</th><td>-1.298197801</td><td>-1.047922843</td></tr>\n",
       "\t<tr><th scope=row>ar2</th><td>-0.314450516</td><td> 0.065164409</td></tr>\n",
       "\t<tr><th scope=row>ar3</th><td> 0.153294481</td><td> 0.396288170</td></tr>\n",
       "\t<tr><th scope=row>ma1</th><td> 0.876395117</td><td> 0.976020348</td></tr>\n",
       "\t<tr><th scope=row>intercept</th><td>-0.001731147</td><td> 0.002107696</td></tr>\n",
       "</tbody>\n",
       "</table>\n"
      ],
      "text/latex": [
       "A matrix: 5 × 2 of type dbl\n",
       "\\begin{tabular}{r|ll}\n",
       "  & 2.5 \\% & 97.5 \\%\\\\\n",
       "\\hline\n",
       "\tar1 & -1.298197801 & -1.047922843\\\\\n",
       "\tar2 & -0.314450516 &  0.065164409\\\\\n",
       "\tar3 &  0.153294481 &  0.396288170\\\\\n",
       "\tma1 &  0.876395117 &  0.976020348\\\\\n",
       "\tintercept & -0.001731147 &  0.002107696\\\\\n",
       "\\end{tabular}\n"
      ],
      "text/markdown": [
       "\n",
       "A matrix: 5 × 2 of type dbl\n",
       "\n",
       "| <!--/--> | 2.5 % | 97.5 % |\n",
       "|---|---|---|\n",
       "| ar1 | -1.298197801 | -1.047922843 |\n",
       "| ar2 | -0.314450516 |  0.065164409 |\n",
       "| ar3 |  0.153294481 |  0.396288170 |\n",
       "| ma1 |  0.876395117 |  0.976020348 |\n",
       "| intercept | -0.001731147 |  0.002107696 |\n",
       "\n"
      ],
      "text/plain": [
       "          2.5 %        97.5 %      \n",
       "ar1       -1.298197801 -1.047922843\n",
       "ar2       -0.314450516  0.065164409\n",
       "ar3        0.153294481  0.396288170\n",
       "ma1        0.876395117  0.976020348\n",
       "intercept -0.001731147  0.002107696"
      ]
     },
     "metadata": {},
     "output_type": "display_data"
    }
   ],
   "source": [
    "confint(fitARIMA)"
   ]
  },
  {
   "cell_type": "code",
   "execution_count": 33,
   "metadata": {},
   "outputs": [
    {
     "data": {
      "image/png": "[encoded data removed]",
      "text/plain": [
       "plot without title"
      ]
     },
     "metadata": {
      "image/png": {
       "height": 420,
       "width": 420
      },
      "text/plain": {
       "height": 420,
       "width": 420
      }
     },
     "output_type": "display_data"
    }
   ],
   "source": [
    "autoplot(fitARIMA)"
   ]
  },
  {
   "cell_type": "markdown",
   "metadata": {},
   "source": [
    "Although ARMA(3,1) has the lowest AIC, and is stationary and invertible, not all its coefficients are statistically significant. Therefore, we would take a look at other models with comparable AIC."
   ]
  },
  {
   "cell_type": "code",
   "execution_count": 34,
   "metadata": {},
   "outputs": [
    {
     "data": {
      "image/png": "[encoded data removed]",
      "text/plain": [
       "Plot with title \"Series  res\""
      ]
     },
     "metadata": {
      "image/png": {
       "height": 420,
       "width": 420
      },
      "text/plain": {
       "height": 420,
       "width": 420
      }
     },
     "output_type": "display_data"
    }
   ],
   "source": [
    "res = residuals(fitARIMA)\n",
    "# ACFs and PACFs  of residuals \n",
    "par(mfrow=c(2,1))\n",
    "\n",
    "Acf(res, lag.max = 50)\n",
    "\n",
    "Pacf(res, lag.max = 50)"
   ]
  },
  {
   "cell_type": "code",
   "execution_count": 35,
   "metadata": {
    "scrolled": true
   },
   "outputs": [
    {
     "data": {
      "text/plain": [
       "\n",
       "\tBox-Ljung test\n",
       "\n",
       "data:  res\n",
       "X-squared = 45.238, df = 50, p-value = 0.6646\n"
      ]
     },
     "metadata": {},
     "output_type": "display_data"
    }
   ],
   "source": [
    "#  Ljung-Box Test\n",
    "Box.test(res, lag = 50, type = \"Ljung-Box\")"
   ]
  },
  {
   "cell_type": "markdown",
   "metadata": {},
   "source": [
    "Since p-value > 0.05, it means the residuals are independent at 95% level, thus ARMA(3,1) is a good fit"
   ]
  },
  {
   "cell_type": "code",
   "execution_count": 36,
   "metadata": {
    "scrolled": false
   },
   "outputs": [
    {
     "name": "stdout",
     "output_type": "stream",
     "text": [
      "\n",
      "\tLjung-Box test\n",
      "\n",
      "data:  Residuals from ARIMA(3,0,1) with non-zero mean\n",
      "Q* = 45.238, df = 45, p-value = 0.462\n",
      "\n",
      "Model df: 5.   Total lags used: 50\n",
      "\n"
     ]
    },
    {
     "data": {
      "image/png": "[encoded data removed]",
      "text/plain": [
       "plot without title"
      ]
     },
     "metadata": {
      "image/png": {
       "height": 420,
       "width": 420
      },
      "text/plain": {
       "height": 420,
       "width": 420
      }
     },
     "output_type": "display_data"
    }
   ],
   "source": [
    "checkresiduals(fitARIMA)"
   ]
  },
  {
   "cell_type": "markdown",
   "metadata": {},
   "source": [
    "#### ARMA(3,2)"
   ]
  },
  {
   "cell_type": "code",
   "execution_count": 37,
   "metadata": {
    "scrolled": true
   },
   "outputs": [
    {
     "data": {
      "text/plain": [
       "\n",
       "z test of coefficients:\n",
       "\n",
       "             Estimate  Std. Error z value  Pr(>|z|)    \n",
       "ar1       -1.46814365  0.20410174 -7.1932 6.329e-13 ***\n",
       "ar2       -0.51788489  0.28911340 -1.7913   0.07325 .  \n",
       "ar3        0.13216630  0.12449292  1.0616   0.28840    \n",
       "ma1        1.24604893  0.20179328  6.1749 6.621e-10 ***\n",
       "ma2        0.30808172  0.19128706  1.6106   0.10727    \n",
       "intercept  0.00019714  0.00091761  0.2148   0.82989    \n",
       "---\n",
       "Signif. codes:  0 '***' 0.001 '**' 0.01 '*' 0.05 '.' 0.1 ' ' 1\n"
      ]
     },
     "metadata": {},
     "output_type": "display_data"
    }
   ],
   "source": [
    "fitARIMA <- arima(tsdata, order=c(3,0,2),method=\"ML\")\n",
    "coeftest(fitARIMA)"
   ]
  },
  {
   "cell_type": "code",
   "execution_count": 38,
   "metadata": {
    "scrolled": true
   },
   "outputs": [
    {
     "data": {
      "text/html": [
       "FALSE"
      ],
      "text/latex": [
       "FALSE"
      ],
      "text/markdown": [
       "FALSE"
      ],
      "text/plain": [
       "[1] FALSE"
      ]
     },
     "metadata": {},
     "output_type": "display_data"
    }
   ],
   "source": [
    "coef = coefficients(fitARIMA)\n",
    "IdentInvertQ(phi = c(coef['ar1'], coef['ar2'], coef['ar3']), theta = c(coef['ma1']))"
   ]
  },
  {
   "cell_type": "markdown",
   "metadata": {},
   "source": [
    "#### ARMA(2,2)"
   ]
  },
  {
   "cell_type": "code",
   "execution_count": 39,
   "metadata": {
    "scrolled": true
   },
   "outputs": [
    {
     "data": {
      "text/plain": [
       "\n",
       "z test of coefficients:\n",
       "\n",
       "             Estimate  Std. Error  z value  Pr(>|z|)    \n",
       "ar1       -1.66567942  0.05823392 -28.6033 < 2.2e-16 ***\n",
       "ar2       -0.81154472  0.05377596 -15.0912 < 2.2e-16 ***\n",
       "ma1        1.42053031  0.08823512  16.0994 < 2.2e-16 ***\n",
       "ma2        0.47108322  0.08484572   5.5522  2.82e-08 ***\n",
       "intercept  0.00020262  0.00085506   0.2370    0.8127    \n",
       "---\n",
       "Signif. codes:  0 '***' 0.001 '**' 0.01 '*' 0.05 '.' 0.1 ' ' 1\n"
      ]
     },
     "metadata": {},
     "output_type": "display_data"
    }
   ],
   "source": [
    "fitARIMA <- arima(tsdata, order=c(2,0,2),method=\"ML\")\n",
    "coeftest(fitARIMA)"
   ]
  },
  {
   "cell_type": "markdown",
   "metadata": {},
   "source": [
    "All coefficients are statistically significant."
   ]
  },
  {
   "cell_type": "code",
   "execution_count": 40,
   "metadata": {},
   "outputs": [
    {
     "data": {
      "image/png": "[encoded data removed]",
      "text/plain": [
       "plot without title"
      ]
     },
     "metadata": {
      "image/png": {
       "height": 420,
       "width": 420
      },
      "text/plain": {
       "height": 420,
       "width": 420
      }
     },
     "output_type": "display_data"
    }
   ],
   "source": [
    "autoplot(fitARIMA)"
   ]
  },
  {
   "cell_type": "markdown",
   "metadata": {},
   "source": [
    "All roots lie inside unit circle, showing the model is stationary and invertible."
   ]
  },
  {
   "cell_type": "code",
   "execution_count": 42,
   "metadata": {},
   "outputs": [
    {
     "name": "stdout",
     "output_type": "stream",
     "text": [
      "\n",
      "\tLjung-Box test\n",
      "\n",
      "data:  Residuals from ARIMA(2,0,2) with non-zero mean\n",
      "Q* = 43.438, df = 45, p-value = 0.5383\n",
      "\n",
      "Model df: 5.   Total lags used: 50\n",
      "\n"
     ]
    },
    {
     "data": {
      "image/png": "[encoded data removed]",
      "text/plain": [
       "plot without title"
      ]
     },
     "metadata": {
      "image/png": {
       "height": 420,
       "width": 420
      },
      "text/plain": {
       "height": 420,
       "width": 420
      }
     },
     "output_type": "display_data"
    }
   ],
   "source": [
    "checkresiduals(fitARIMA)"
   ]
  },
  {
   "cell_type": "markdown",
   "metadata": {},
   "source": [
    "Since p-value > 0.05, we fail to reject the null hypothesis that all autocorrelations up to order 50 are equal to zero, meaning the residuals are independent at 95% level. Thus, ARMA(2,2) is a good fit as the residuals are seemingly white noise. However, it is obvious from the plot that the residuals have time-varying volatility."
   ]
  },
  {
   "cell_type": "code",
   "execution_count": 43,
   "metadata": {},
   "outputs": [
    {
     "data": {
      "image/png": "[encoded data removed]",
      "text/plain": [
       "Plot with title \"Series  res\""
      ]
     },
     "metadata": {
      "image/png": {
       "height": 420,
       "width": 420
      },
      "text/plain": {
       "height": 420,
       "width": 420
      }
     },
     "output_type": "display_data"
    }
   ],
   "source": [
    "res = residuals(fitARIMA)\n",
    "# ACFs and PACFs  of residuals \n",
    "par(mfrow=c(2,1))\n",
    "\n",
    "Acf(res, lag.max = 50)\n",
    "\n",
    "Pacf(res, lag.max = 50)"
   ]
  },
  {
   "cell_type": "code",
   "execution_count": 44,
   "metadata": {},
   "outputs": [
    {
     "data": {
      "image/png": "[encoded data removed]",
      "text/plain": [
       "Plot with title \"Series  res^2\""
      ]
     },
     "metadata": {
      "image/png": {
       "height": 420,
       "width": 420
      },
      "text/plain": {
       "height": 420,
       "width": 420
      }
     },
     "output_type": "display_data"
    }
   ],
   "source": [
    "res = residuals(fitARIMA)\n",
    "# ACFs and PACFs  of residuals \n",
    "par(mfrow=c(2,1))\n",
    "\n",
    "Acf(res^2, lag.max = 50)\n",
    "\n",
    "Pacf(res^2, lag.max = 50)"
   ]
  },
  {
   "cell_type": "markdown",
   "metadata": {},
   "source": [
    "From the ACF and PACF plot of squared residuals, we can see the residuals exhibit time-varying volatility as it has autocorrelations. Therefore, we would use GARCH model to predict the volatility."
   ]
  },
  {
   "cell_type": "markdown",
   "metadata": {},
   "source": [
    "#### ARMA(3,0)"
   ]
  },
  {
   "cell_type": "code",
   "execution_count": 144,
   "metadata": {
    "scrolled": false
   },
   "outputs": [
    {
     "data": {
      "text/plain": [
       "\n",
       "z test of coefficients:\n",
       "\n",
       "            Estimate Std. Error z value  Pr(>|z|)    \n",
       "ar1       -0.3872109  0.0626369 -6.1818 6.336e-10 ***\n",
       "ar2        0.1448684  0.0668144  2.1682   0.03014 *  \n",
       "ar3        0.1456109  0.0625598  2.3275   0.01994 *  \n",
       "intercept  0.0001792  0.0010097  0.1775   0.85914    \n",
       "---\n",
       "Signif. codes:  0 '***' 0.001 '**' 0.01 '*' 0.05 '.' 0.1 ' ' 1\n"
      ]
     },
     "metadata": {},
     "output_type": "display_data"
    }
   ],
   "source": [
    "fitARIMA <- arima(tsdata, order=c(3,0,0),method=\"ML\")\n",
    "coeftest(fitARIMA)"
   ]
  },
  {
   "cell_type": "code",
   "execution_count": 145,
   "metadata": {
    "scrolled": false
   },
   "outputs": [
    {
     "data": {
      "text/html": [
       "TRUE"
      ],
      "text/latex": [
       "TRUE"
      ],
      "text/markdown": [
       "TRUE"
      ],
      "text/plain": [
       "[1] TRUE"
      ]
     },
     "metadata": {},
     "output_type": "display_data"
    }
   ],
   "source": [
    "coef = coefficients(fitARIMA)\n",
    "IdentInvertQ(phi = c(coef['ar1'], coef['ar2'], coef['ar3']), theta = numeric(0))"
   ]
  },
  {
   "cell_type": "code",
   "execution_count": 146,
   "metadata": {},
   "outputs": [
    {
     "data": {
      "image/png": "[encoded data removed]",
      "text/plain": [
       "Plot with title \"Series  res\""
      ]
     },
     "metadata": {
      "image/png": {
       "height": 420,
       "width": 420
      },
      "text/plain": {
       "height": 420,
       "width": 420
      }
     },
     "output_type": "display_data"
    }
   ],
   "source": [
    "res = residuals(fitARIMA)\n",
    "# ACFs and PACFs  of residuals \n",
    "par(mfrow=c(2,1))\n",
    "\n",
    "Acf(res, lag.max = 50)\n",
    "\n",
    "Pacf(res, lag.max = 50)"
   ]
  },
  {
   "cell_type": "code",
   "execution_count": 147,
   "metadata": {
    "scrolled": true
   },
   "outputs": [
    {
     "data": {
      "text/plain": [
       "\n",
       "\tBox-Ljung test\n",
       "\n",
       "data:  res\n",
       "X-squared = 63.063, df = 50, p-value = 0.1016\n"
      ]
     },
     "metadata": {},
     "output_type": "display_data"
    }
   ],
   "source": [
    "#  Ljung-Box Test\n",
    "Box.test(res, lag = 50, type = \"Ljung-Box\")"
   ]
  },
  {
   "cell_type": "markdown",
   "metadata": {},
   "source": [
    "#### ARMA(2,1)"
   ]
  },
  {
   "cell_type": "code",
   "execution_count": 148,
   "metadata": {
    "scrolled": false
   },
   "outputs": [
    {
     "data": {
      "text/plain": [
       "\n",
       "z test of coefficients:\n",
       "\n",
       "             Estimate  Std. Error z value Pr(>|z|)   \n",
       "ar1        0.17112019  0.27735844  0.6170 0.537258   \n",
       "ar2        0.32740357  0.10962359  2.9866 0.002821 **\n",
       "ma1       -0.54740952  0.28537747 -1.9182 0.055086 . \n",
       "intercept  0.00018804  0.00100575  0.1870 0.851685   \n",
       "---\n",
       "Signif. codes:  0 '***' 0.001 '**' 0.01 '*' 0.05 '.' 0.1 ' ' 1\n"
      ]
     },
     "metadata": {},
     "output_type": "display_data"
    }
   ],
   "source": [
    "fitARIMA <- arima(tsdata, order=c(2,0,1),method=\"ML\")\n",
    "coeftest(fitARIMA)"
   ]
  },
  {
   "cell_type": "code",
   "execution_count": 149,
   "metadata": {
    "scrolled": true
   },
   "outputs": [
    {
     "data": {
      "text/html": [
       "TRUE"
      ],
      "text/latex": [
       "TRUE"
      ],
      "text/markdown": [
       "TRUE"
      ],
      "text/plain": [
       "[1] TRUE"
      ]
     },
     "metadata": {},
     "output_type": "display_data"
    }
   ],
   "source": [
    "coef = coefficients(fitARIMA)\n",
    "IdentInvertQ(phi = c(coef['ar1'], coef['ar2']), theta = c(coef['ma1']))"
   ]
  },
  {
   "cell_type": "code",
   "execution_count": 150,
   "metadata": {},
   "outputs": [
    {
     "data": {
      "image/png": "[encoded data removed]",
      "text/plain": [
       "Plot with title \"Series  res\""
      ]
     },
     "metadata": {
      "image/png": {
       "height": 420,
       "width": 420
      },
      "text/plain": {
       "height": 420,
       "width": 420
      }
     },
     "output_type": "display_data"
    }
   ],
   "source": [
    "res = residuals(fitARIMA)\n",
    "# ACFs and PACFs  of residuals \n",
    "par(mfrow=c(2,1))\n",
    "\n",
    "Acf(res, lag.max = 50)\n",
    "\n",
    "Pacf(res, lag.max = 50)"
   ]
  },
  {
   "cell_type": "code",
   "execution_count": 151,
   "metadata": {
    "scrolled": true
   },
   "outputs": [
    {
     "data": {
      "text/plain": [
       "\n",
       "\tBox-Ljung test\n",
       "\n",
       "data:  res\n",
       "X-squared = 65.368, df = 50, p-value = 0.07107\n"
      ]
     },
     "metadata": {},
     "output_type": "display_data"
    }
   ],
   "source": [
    "#  Ljung-Box Test\n",
    "Box.test(res, lag = 50, type = \"Ljung-Box\")"
   ]
  },
  {
   "cell_type": "markdown",
   "metadata": {},
   "source": [
    "## Forecast with rolling scheme"
   ]
  },
  {
   "cell_type": "markdown",
   "metadata": {},
   "source": [
    "#### Forecast for May 4:"
   ]
  },
  {
   "cell_type": "code",
   "execution_count": 152,
   "metadata": {
    "scrolled": false
   },
   "outputs": [
    {
     "data": {
      "text/html": [
       "<dl>\n",
       "\t<dt>$pred</dt>\n",
       "\t\t<dd>A Time Series:<br>0.00538486581613136</dd>\n",
       "\t<dt>$se</dt>\n",
       "\t\t<dd>A Time Series:<br>0.0161719805298865</dd>\n",
       "</dl>\n"
      ],
      "text/latex": [
       "\\begin{description}\n",
       "\\item[\\$pred] A Time Series:\\\\0.00538486581613136\n",
       "\\item[\\$se] A Time Series:\\\\0.0161719805298865\n",
       "\\end{description}\n"
      ],
      "text/markdown": [
       "$pred\n",
       ":   A Time Series:  \n",
       "0.00538486581613136\n",
       "$se\n",
       ":   A Time Series:  \n",
       "0.0161719805298865\n",
       "\n",
       "\n"
      ],
      "text/plain": [
       "$pred\n",
       "Time Series:\n",
       "Start = c(18023, 250) \n",
       "End = c(18023, 250) \n",
       "Frequency = 365 \n",
       "[1] 0.005384866\n",
       "\n",
       "$se\n",
       "Time Series:\n",
       "Start = c(18023, 250) \n",
       "End = c(18023, 250) \n",
       "Frequency = 365 \n",
       "[1] 0.01617198\n"
      ]
     },
     "metadata": {},
     "output_type": "display_data"
    }
   ],
   "source": [
    "df.ts = df[ date < '2020-05-04', list(date, price.log.diff)]\n",
    "tsdata = ts(df.ts$price.log.diff, start = df$date[1], frequency = 365)\n",
    "fitARIMA <- arima(tsdata, order=c(2,0,2),method=\"ML\", include.mean = TRUE)\n",
    "# fitARIMA <- arima(tsdata, order=c(3,0,1),method=\"ML\", include.mean = TRUE)\n",
    "predict(fitARIMA, n.ahead=1)"
   ]
  },
  {
   "cell_type": "code",
   "execution_count": 153,
   "metadata": {},
   "outputs": [
    {
     "name": "stdout",
     "output_type": "stream",
     "text": [
      "[1] \"The one-step ahead forecast is:  0.00538486581613136\"\n"
     ]
    }
   ],
   "source": [
    "# Manual calculation of one-step ahead forecast for May 4:\n",
    "ar1 = coef(fitARIMA)['ar1']\n",
    "ar2 = coef(fitARIMA)['ar2']\n",
    "# ar3 = coef(fitARIMA)['ar3']\n",
    "ma1 = coef(fitARIMA)['ma1']\n",
    "ma2 = coef(fitARIMA)['ma2']\n",
    "mu = coef(fitARIMA)['intercept']\n",
    "y.series = df.ts$price.log.diff\n",
    "y.t = y.series[length(y.series)-0]\n",
    "y.t.1 = y.series[length(y.series)-1]\n",
    "# y.t.2 = y.series[length(y.series)-2]\n",
    "res = residuals(fitARIMA)\n",
    "eps.t = res[length(res)-0]\n",
    "eps.t.1 = res[length(res)-1]\n",
    "f.1 = mu + ar1 * (y.t-mu) + ar2 * (y.t.1-mu) + ma1 * eps.t + ma2 * eps.t.1\n",
    "f.1.4 = f.1\n",
    "print(paste(\"The one-step ahead forecast is: \",f.1))"
   ]
  },
  {
   "cell_type": "code",
   "execution_count": 154,
   "metadata": {},
   "outputs": [
    {
     "name": "stdout",
     "output_type": "stream",
     "text": [
      "[1] \"The truth value is:  0.00639923569738876\"\n",
      "[1] \"The forecast error is: 0.0010143698812574\"\n"
     ]
    }
   ],
   "source": [
    "y.truth = df[date == \"2020-05-04\", list(date, price.log.diff)]$price.log.diff\n",
    "y.4 = y.truth\n",
    "print(paste(\"The truth value is: \",y.truth))\n",
    "eps.t.update = y.truth - f.1\n",
    "e.4 = eps.t.update\n",
    "print(paste(\"The forecast error is:\", eps.t.update))"
   ]
  },
  {
   "cell_type": "code",
   "execution_count": 155,
   "metadata": {
    "scrolled": false
   },
   "outputs": [
    {
     "data": {
      "text/plain": [
       "\n",
       "Call:\n",
       "garch(x = y, order = c(1, 1), trace = FALSE)\n",
       "\n",
       "Model:\n",
       "GARCH(1,1)\n",
       "\n",
       "Residuals:\n",
       "    Min      1Q  Median      3Q     Max \n",
       "-6.6059 -0.4830  0.1643  0.5865  1.9551 \n",
       "\n",
       "Coefficient(s):\n",
       "    Estimate  Std. Error  t value Pr(>|t|)    \n",
       "a0 8.276e-06   3.139e-06    2.636  0.00838 ** \n",
       "a1 1.034e-01   2.972e-02    3.481  0.00050 ***\n",
       "b1 8.139e-01   5.960e-02   13.656  < 2e-16 ***\n",
       "---\n",
       "Signif. codes:  0 '***' 0.001 '**' 0.01 '*' 0.05 '.' 0.1 ' ' 1\n",
       "\n",
       "Diagnostic Tests:\n",
       "\tJarque Bera Test\n",
       "\n",
       "data:  Residuals\n",
       "X-squared = 801.26, df = 2, p-value < 2.2e-16\n",
       "\n",
       "\n",
       "\tBox-Ljung test\n",
       "\n",
       "data:  Squared.Residuals\n",
       "X-squared = 0.056589, df = 1, p-value = 0.812\n"
      ]
     },
     "metadata": {},
     "output_type": "display_data"
    },
    {
     "data": {
      "image/png": "[encoded data removed]",
      "text/plain": [
       "Plot with title \"Residuals\""
      ]
     },
     "metadata": {
      "image/png": {
       "height": 420,
       "width": 420
      },
      "text/plain": {
       "height": 420,
       "width": 420
      }
     },
     "output_type": "display_data"
    },
    {
     "data": {
      "image/png": "[encoded data removed]",
      "text/plain": [
       "Plot with title \"Histogram of Residuals\""
      ]
     },
     "metadata": {
      "image/png": {
       "height": 420,
       "width": 420
      },
      "text/plain": {
       "height": 420,
       "width": 420
      }
     },
     "output_type": "display_data"
    },
    {
     "data": {
      "image/png": "[encoded data removed]",
      "text/plain": [
       "Plot with title \"Q-Q Plot of Residuals\""
      ]
     },
     "metadata": {
      "image/png": {
       "height": 420,
       "width": 420
      },
      "text/plain": {
       "height": 420,
       "width": 420
      }
     },
     "output_type": "display_data"
    },
    {
     "data": {
      "image/png": "[encoded data removed]",
      "text/plain": [
       "Plot with title \"ACF of Squared Residuals\""
      ]
     },
     "metadata": {
      "image/png": {
       "height": 420,
       "width": 420
      },
      "text/plain": {
       "height": 420,
       "width": 420
      }
     },
     "output_type": "display_data"
    }
   ],
   "source": [
    "y <- ts(res)\n",
    "garch.y <- garch(y, order = c(1,1), trace=FALSE)  # Fit GARCH(1,1)\n",
    "summary(garch.y)                     # Diagnostic tests\n",
    "\n",
    "plot(garch.y)"
   ]
  },
  {
   "cell_type": "code",
   "execution_count": 156,
   "metadata": {},
   "outputs": [
    {
     "data": {
      "image/png": "[encoded data removed]",
      "text/plain": [
       "Plot with title \"Time series plot of residuals with volatility predicted by GARCH(1,1)\""
      ]
     },
     "metadata": {
      "image/png": {
       "height": 420,
       "width": 420
      },
      "text/plain": {
       "height": 420,
       "width": 420
      }
     },
     "output_type": "display_data"
    }
   ],
   "source": [
    "u = predict(garch.y)\n",
    "u = u %>% na.omit\n",
    "plot(y, type=\"l\", xlab=\"Time\", main = \"Time series plot of residuals with volatility predicted by GARCH(1,1)\")\n",
    "lines(u[,1], col=\"blue\", lty=\"dashed\")\n",
    "lines(u[,2], col=\"blue\", lty=\"dashed\")"
   ]
  },
  {
   "cell_type": "code",
   "execution_count": 157,
   "metadata": {},
   "outputs": [
    {
     "name": "stdout",
     "output_type": "stream",
     "text": [
      "[1] \"omega: 8.01794395483014e-06\"\n",
      "[1] \"alpha 0.21193207718508\"\n",
      "[1] \"beta 0.757502059125593\"\n",
      "[1] \"sigma_{t|t-1}: 0.0196626869690167\"\n",
      "[1] \"epsilon_t: -0.00797343094436574\"\n",
      "[1] \"1 step ahead forecast sigma: 0.0177301453127844\"\n"
     ]
    }
   ],
   "source": [
    "fit = garchFit(formula~ garch(1,1), data=y,\n",
    "                        trace=F) \n",
    "omega = coef(fit)[2]\n",
    "print(paste(\"omega:\",omega))\n",
    "alpha = coef(fit)[3]\n",
    "print(paste(\"alpha\",alpha))\n",
    "beta = coef(fit)[4]\n",
    "print(paste(\"beta\",beta))\n",
    "sigma.t = last(volatility(fit))\n",
    "print(paste(\"sigma_{t|t-1}:\",sigma.t))\n",
    "epsilon.t = last(residuals(fit))\n",
    "print(paste(\"epsilon_t:\",epsilon.t))\n",
    "sigma = omega + alpha * (epsilon.t)^2 + beta * (sigma.t)^2\n",
    "s.4 = sigma^(1/2)\n",
    "print(paste('1 step ahead forecast sigma:',sigma^(1/2)))"
   ]
  },
  {
   "cell_type": "code",
   "execution_count": 158,
   "metadata": {},
   "outputs": [
    {
     "data": {
      "text/html": [
       "<table>\n",
       "<caption>A data.frame: 1 × 3</caption>\n",
       "<thead>\n",
       "\t<tr><th scope=col>meanForecast</th><th scope=col>meanError</th><th scope=col>standardDeviation</th></tr>\n",
       "\t<tr><th scope=col>&lt;dbl&gt;</th><th scope=col>&lt;dbl&gt;</th><th scope=col>&lt;dbl&gt;</th></tr>\n",
       "</thead>\n",
       "<tbody>\n",
       "\t<tr><td>1.534721e-05</td><td>0.01773015</td><td>0.01773015</td></tr>\n",
       "</tbody>\n",
       "</table>\n"
      ],
      "text/latex": [
       "A data.frame: 1 × 3\n",
       "\\begin{tabular}{lll}\n",
       " meanForecast & meanError & standardDeviation\\\\\n",
       " <dbl> & <dbl> & <dbl>\\\\\n",
       "\\hline\n",
       "\t 1.534721e-05 & 0.01773015 & 0.01773015\\\\\n",
       "\\end{tabular}\n"
      ],
      "text/markdown": [
       "\n",
       "A data.frame: 1 × 3\n",
       "\n",
       "| meanForecast &lt;dbl&gt; | meanError &lt;dbl&gt; | standardDeviation &lt;dbl&gt; |\n",
       "|---|---|---|\n",
       "| 1.534721e-05 | 0.01773015 | 0.01773015 |\n",
       "\n"
      ],
      "text/plain": [
       "  meanForecast meanError  standardDeviation\n",
       "1 1.534721e-05 0.01773015 0.01773015       "
      ]
     },
     "metadata": {},
     "output_type": "display_data"
    }
   ],
   "source": [
    "garch.y.fit = garchFit(formula~ garch(1,1), data=y,\n",
    "                        trace=F) \n",
    "vol.pred = predict(garch.y.fit, n.ahead = 1)\n",
    "vol.pred"
   ]
  },
  {
   "cell_type": "code",
   "execution_count": 159,
   "metadata": {},
   "outputs": [
    {
     "name": "stdout",
     "output_type": "stream",
     "text": [
      "[1] \"Prediction lower bound: 0.00476872403261895\"\n",
      "[1] \"Prediction upper bound: 0.00600100759964376\"\n",
      "[1] \"The truth value is:  0.00639923569738876\"\n"
     ]
    }
   ],
   "source": [
    "lower.ci = f.1 - 1.96 * sigma\n",
    "upper.ci = f.1 + 1.96 * sigma\n",
    "print(paste('Prediction lower bound:',lower.ci))\n",
    "print(paste('Prediction upper bound:',upper.ci))\n",
    "print(paste(\"The truth value is: \",y.truth))"
   ]
  },
  {
   "cell_type": "markdown",
   "metadata": {},
   "source": [
    "#### Forecast for May 5:"
   ]
  },
  {
   "cell_type": "code",
   "execution_count": 160,
   "metadata": {},
   "outputs": [
    {
     "name": "stdout",
     "output_type": "stream",
     "text": [
      "[1] \"The one-step ahead forecast is:  -0.00483124316198762\"\n"
     ]
    }
   ],
   "source": [
    "# Manual calculation of one-step ahead forecast for May 5:\n",
    "# ar1 = coef(fitARIMA)['ar1']\n",
    "# ar2 = coef(fitARIMA)['ar2']\n",
    "# # ar3 = coef(fitARIMA)['ar3']\n",
    "# ma1 = coef(fitARIMA)['ma1']\n",
    "# ma2 = coef(fitARIMA)['ma2']\n",
    "# mu = coef(fitARIMA)['intercept']\n",
    "df.ts = df[ date < '2020-05-05', list(date, price.log.diff)]\n",
    "y.series = df.ts$price.log.diff\n",
    "y.t = y.series[length(y.series)-0]\n",
    "y.t.1 = y.series[length(y.series)-1]\n",
    "# y.t.2 = y.series[length(y.series)-2]\n",
    "res = residuals(fitARIMA)\n",
    "eps.t.1 = eps.t\n",
    "eps.t = eps.t.update\n",
    "f.1 = mu + ar1 * (y.t-mu) + ar2 * (y.t.1-mu) + ma1 * eps.t + ma2 * eps.t.1\n",
    "f.1.5 = f.1\n",
    "print(paste(\"The one-step ahead forecast is: \",f.1))"
   ]
  },
  {
   "cell_type": "code",
   "execution_count": 161,
   "metadata": {},
   "outputs": [
    {
     "name": "stdout",
     "output_type": "stream",
     "text": [
      "[1] \"1 step ahead forecast sigma: 0.0156959511651993\"\n"
     ]
    }
   ],
   "source": [
    "epsilon.t = eps.t.update\n",
    "sigma.t = sigma^(1/2)\n",
    "sigma = omega + alpha * (epsilon.t)^2 + beta * (sigma.t)^2\n",
    "s.5 = sigma^(1/2)\n",
    "print(paste('1 step ahead forecast sigma:',sigma^(1/2)))"
   ]
  },
  {
   "cell_type": "code",
   "execution_count": 162,
   "metadata": {
    "scrolled": true
   },
   "outputs": [
    {
     "name": "stdout",
     "output_type": "stream",
     "text": [
      "[1] \"Prediction lower bound: -0.00531411441262905\"\n",
      "[1] \"Prediction upper bound: -0.00434837191134619\"\n",
      "[1] \"The truth value is:  0.00639923569738876\"\n"
     ]
    }
   ],
   "source": [
    "lower.ci = f.1 - 1.96 * sigma\n",
    "upper.ci = f.1 + 1.96 * sigma\n",
    "print(paste('Prediction lower bound:',lower.ci))\n",
    "print(paste('Prediction upper bound:',upper.ci))\n",
    "print(paste(\"The truth value is: \",y.truth))"
   ]
  },
  {
   "cell_type": "code",
   "execution_count": 163,
   "metadata": {},
   "outputs": [
    {
     "name": "stdout",
     "output_type": "stream",
     "text": [
      "[1] \"The truth value is:  0.00332937088565011\"\n",
      "[1] \"The forecast error is: 0.00816061404763772\"\n"
     ]
    }
   ],
   "source": [
    "y.truth = df[date == \"2020-05-05\", list(date, price.log.diff)]$price.log.diff\n",
    "y.5 = y.truth\n",
    "print(paste(\"The truth value is: \",y.truth))\n",
    "eps.t.update = y.truth - f.1\n",
    "print(paste(\"The forecast error is:\", eps.t.update))"
   ]
  },
  {
   "cell_type": "markdown",
   "metadata": {},
   "source": [
    "Double verifying with function:"
   ]
  },
  {
   "cell_type": "code",
   "execution_count": 164,
   "metadata": {},
   "outputs": [
    {
     "data": {
      "text/html": [
       "<dl>\n",
       "\t<dt>$pred</dt>\n",
       "\t\t<dd>A Time Series:<br>-0.00482968874239683</dd>\n",
       "\t<dt>$se</dt>\n",
       "\t\t<dd>A Time Series:<br>0.0161396990339059</dd>\n",
       "</dl>\n"
      ],
      "text/latex": [
       "\\begin{description}\n",
       "\\item[\\$pred] A Time Series:\\\\-0.00482968874239683\n",
       "\\item[\\$se] A Time Series:\\\\0.0161396990339059\n",
       "\\end{description}\n"
      ],
      "text/markdown": [
       "$pred\n",
       ":   A Time Series:  \n",
       "-0.00482968874239683\n",
       "$se\n",
       ":   A Time Series:  \n",
       "0.0161396990339059\n",
       "\n",
       "\n"
      ],
      "text/plain": [
       "$pred\n",
       "Time Series:\n",
       "Start = c(18023, 251) \n",
       "End = c(18023, 251) \n",
       "Frequency = 365 \n",
       "[1] -0.004829689\n",
       "\n",
       "$se\n",
       "Time Series:\n",
       "Start = c(18023, 251) \n",
       "End = c(18023, 251) \n",
       "Frequency = 365 \n",
       "[1] 0.0161397\n"
      ]
     },
     "metadata": {},
     "output_type": "display_data"
    }
   ],
   "source": [
    "# Double verifying with function:\n",
    "\n",
    "# df.ts = df[ date < '2020-05-04', list(date, price.log.diff)]\n",
    "tsdata = ts(df.ts$price.log.diff, start = df$date[1], frequency = 365)\n",
    "fitARIMA <- arima(tsdata, order=c(2,0,2),method=\"ML\", include.mean = TRUE)\n",
    "# fitARIMA <- arima(tsdata, order=c(3,0,1),method=\"ML\", include.mean = TRUE)\n",
    "predict(fitARIMA, n.ahead=1)"
   ]
  },
  {
   "cell_type": "code",
   "execution_count": 165,
   "metadata": {
    "scrolled": true
   },
   "outputs": [
    {
     "data": {
      "text/html": [
       "<table>\n",
       "<caption>A data.frame: 1 × 3</caption>\n",
       "<thead>\n",
       "\t<tr><th scope=col>meanForecast</th><th scope=col>meanError</th><th scope=col>standardDeviation</th></tr>\n",
       "\t<tr><th scope=col>&lt;dbl&gt;</th><th scope=col>&lt;dbl&gt;</th><th scope=col>&lt;dbl&gt;</th></tr>\n",
       "</thead>\n",
       "<tbody>\n",
       "\t<tr><td>1.949742e-05</td><td>0.01561543</td><td>0.01561543</td></tr>\n",
       "</tbody>\n",
       "</table>\n"
      ],
      "text/latex": [
       "A data.frame: 1 × 3\n",
       "\\begin{tabular}{lll}\n",
       " meanForecast & meanError & standardDeviation\\\\\n",
       " <dbl> & <dbl> & <dbl>\\\\\n",
       "\\hline\n",
       "\t 1.949742e-05 & 0.01561543 & 0.01561543\\\\\n",
       "\\end{tabular}\n"
      ],
      "text/markdown": [
       "\n",
       "A data.frame: 1 × 3\n",
       "\n",
       "| meanForecast &lt;dbl&gt; | meanError &lt;dbl&gt; | standardDeviation &lt;dbl&gt; |\n",
       "|---|---|---|\n",
       "| 1.949742e-05 | 0.01561543 | 0.01561543 |\n",
       "\n"
      ],
      "text/plain": [
       "  meanForecast meanError  standardDeviation\n",
       "1 1.949742e-05 0.01561543 0.01561543       "
      ]
     },
     "metadata": {},
     "output_type": "display_data"
    }
   ],
   "source": [
    "res = residuals(fitARIMA)\n",
    "y <- ts(res)\n",
    "garch.y <- garch(y, order = c(1,1), trace=FALSE)  # Fit GARCH(1,1)\n",
    "garch.y.fit = garchFit(formula~ garch(1,1), data=y,\n",
    "                        trace=F) \n",
    "vol.pred = predict(garch.y.fit, n.ahead = 1)\n",
    "vol.pred"
   ]
  },
  {
   "cell_type": "markdown",
   "metadata": {},
   "source": [
    "#### Forecast for May 6:"
   ]
  },
  {
   "cell_type": "code",
   "execution_count": 166,
   "metadata": {},
   "outputs": [
    {
     "name": "stdout",
     "output_type": "stream",
     "text": [
      "[1] \"The one-step ahead forecast is:  0.0020358834032927\"\n"
     ]
    }
   ],
   "source": [
    "# Manual calculation of one-step ahead forecast for May 5:\n",
    "# ar1 = coef(fitARIMA)['ar1']\n",
    "# ar2 = coef(fitARIMA)['ar2']\n",
    "# # ar3 = coef(fitARIMA)['ar3']\n",
    "# ma1 = coef(fitARIMA)['ma1']\n",
    "# ma2 = coef(fitARIMA)['ma2']\n",
    "# mu = coef(fitARIMA)['intercept']\n",
    "df.ts = df[ date < '2020-05-06', list(date, price.log.diff)]\n",
    "y.series = df.ts$price.log.diff\n",
    "y.t = y.series[length(y.series)-0]\n",
    "y.t.1 = y.series[length(y.series)-1]\n",
    "# y.t.2 = y.series[length(y.series)-2]\n",
    "res = residuals(fitARIMA)\n",
    "eps.t.1 = eps.t\n",
    "eps.t = eps.t.update\n",
    "f.1 = mu + ar1 * (y.t-mu) + ar2 * (y.t.1-mu) + ma1 * eps.t + ma2 * eps.t.1\n",
    "f.1.6 = f.1\n",
    "print(paste(\"The one-step ahead forecast is: \",f.1))"
   ]
  },
  {
   "cell_type": "code",
   "execution_count": 167,
   "metadata": {},
   "outputs": [
    {
     "name": "stdout",
     "output_type": "stream",
     "text": [
      "[1] \"1 step ahead forecast sigma: 0.0144482553801133\"\n"
     ]
    }
   ],
   "source": [
    "epsilon.t = eps.t.update\n",
    "sigma.t = sigma^(1/2)\n",
    "sigma = omega + alpha * (epsilon.t)^2 + beta * (sigma.t)^2\n",
    "s.6 = sigma^(1/2)\n",
    "print(paste('1 step ahead forecast sigma:',sigma^(1/2)))"
   ]
  },
  {
   "cell_type": "code",
   "execution_count": 168,
   "metadata": {
    "scrolled": true
   },
   "outputs": [
    {
     "name": "stdout",
     "output_type": "stream",
     "text": [
      "[1] \"Prediction lower bound: 0.00162672931957591\"\n",
      "[1] \"Prediction upper bound: 0.00244503748700948\"\n",
      "[1] \"The truth value is:  0.00332937088565011\"\n"
     ]
    }
   ],
   "source": [
    "lower.ci = f.1 - 1.96 * sigma\n",
    "upper.ci = f.1 + 1.96 * sigma\n",
    "print(paste('Prediction lower bound:',lower.ci))\n",
    "print(paste('Prediction upper bound:',upper.ci))\n",
    "print(paste(\"The truth value is: \",y.truth))"
   ]
  },
  {
   "cell_type": "code",
   "execution_count": 169,
   "metadata": {},
   "outputs": [
    {
     "name": "stdout",
     "output_type": "stream",
     "text": [
      "[1] \"The truth value is:  0.00431337217299621\"\n",
      "[1] \"The forecast error is: 0.00227748876970351\"\n"
     ]
    }
   ],
   "source": [
    "y.truth = df[date == \"2020-05-06\", list(date, price.log.diff)]$price.log.diff\n",
    "y.6 = y.truth\n",
    "print(paste(\"The truth value is: \",y.truth))\n",
    "eps.t.update = y.truth - f.1\n",
    "print(paste(\"The forecast error is:\", eps.t.update))"
   ]
  },
  {
   "cell_type": "markdown",
   "metadata": {},
   "source": [
    "Double verifying with function:"
   ]
  },
  {
   "cell_type": "code",
   "execution_count": 170,
   "metadata": {},
   "outputs": [
    {
     "data": {
      "text/html": [
       "<dl>\n",
       "\t<dt>$pred</dt>\n",
       "\t\t<dd>A Time Series:<br>0.00205856299819733</dd>\n",
       "\t<dt>$se</dt>\n",
       "\t\t<dd>A Time Series:<br>0.0161158947190379</dd>\n",
       "</dl>\n"
      ],
      "text/latex": [
       "\\begin{description}\n",
       "\\item[\\$pred] A Time Series:\\\\0.00205856299819733\n",
       "\\item[\\$se] A Time Series:\\\\0.0161158947190379\n",
       "\\end{description}\n"
      ],
      "text/markdown": [
       "$pred\n",
       ":   A Time Series:  \n",
       "0.00205856299819733\n",
       "$se\n",
       ":   A Time Series:  \n",
       "0.0161158947190379\n",
       "\n",
       "\n"
      ],
      "text/plain": [
       "$pred\n",
       "Time Series:\n",
       "Start = c(18023, 252) \n",
       "End = c(18023, 252) \n",
       "Frequency = 365 \n",
       "[1] 0.002058563\n",
       "\n",
       "$se\n",
       "Time Series:\n",
       "Start = c(18023, 252) \n",
       "End = c(18023, 252) \n",
       "Frequency = 365 \n",
       "[1] 0.01611589\n"
      ]
     },
     "metadata": {},
     "output_type": "display_data"
    }
   ],
   "source": [
    "# Double verifying with function:\n",
    "\n",
    "# df.ts = df[ date < '2020-05-04', list(date, price.log.diff)]\n",
    "tsdata = ts(df.ts$price.log.diff, start = df$date[1], frequency = 365)\n",
    "fitARIMA <- arima(tsdata, order=c(2,0,2),method=\"ML\", include.mean = TRUE)\n",
    "# fitARIMA <- arima(tsdata, order=c(3,0,1),method=\"ML\", include.mean = TRUE)\n",
    "predict(fitARIMA, n.ahead=1)"
   ]
  },
  {
   "cell_type": "code",
   "execution_count": 171,
   "metadata": {
    "scrolled": false
   },
   "outputs": [
    {
     "data": {
      "text/html": [
       "<table>\n",
       "<caption>A data.frame: 1 × 3</caption>\n",
       "<thead>\n",
       "\t<tr><th scope=col>meanForecast</th><th scope=col>meanError</th><th scope=col>standardDeviation</th></tr>\n",
       "\t<tr><th scope=col>&lt;dbl&gt;</th><th scope=col>&lt;dbl&gt;</th><th scope=col>&lt;dbl&gt;</th></tr>\n",
       "</thead>\n",
       "<tbody>\n",
       "\t<tr><td>1.523035e-05</td><td>0.01429396</td><td>0.01429396</td></tr>\n",
       "</tbody>\n",
       "</table>\n"
      ],
      "text/latex": [
       "A data.frame: 1 × 3\n",
       "\\begin{tabular}{lll}\n",
       " meanForecast & meanError & standardDeviation\\\\\n",
       " <dbl> & <dbl> & <dbl>\\\\\n",
       "\\hline\n",
       "\t 1.523035e-05 & 0.01429396 & 0.01429396\\\\\n",
       "\\end{tabular}\n"
      ],
      "text/markdown": [
       "\n",
       "A data.frame: 1 × 3\n",
       "\n",
       "| meanForecast &lt;dbl&gt; | meanError &lt;dbl&gt; | standardDeviation &lt;dbl&gt; |\n",
       "|---|---|---|\n",
       "| 1.523035e-05 | 0.01429396 | 0.01429396 |\n",
       "\n"
      ],
      "text/plain": [
       "  meanForecast meanError  standardDeviation\n",
       "1 1.523035e-05 0.01429396 0.01429396       "
      ]
     },
     "metadata": {},
     "output_type": "display_data"
    }
   ],
   "source": [
    "res = residuals(fitARIMA)\n",
    "y <- ts(res)\n",
    "garch.y <- garch(y, order = c(1,1), trace=FALSE)  # Fit GARCH(1,1)\n",
    "garch.y.fit = garchFit(formula~ garch(1,1), data=y,\n",
    "                        trace=F) \n",
    "vol.pred = predict(garch.y.fit, n.ahead = 1)\n",
    "vol.pred"
   ]
  },
  {
   "cell_type": "markdown",
   "metadata": {},
   "source": [
    "#### Forecast for May 7:"
   ]
  },
  {
   "cell_type": "code",
   "execution_count": 172,
   "metadata": {},
   "outputs": [
    {
     "name": "stdout",
     "output_type": "stream",
     "text": [
      "[1] \"The one-step ahead forecast is:  -0.00210249684858407\"\n"
     ]
    }
   ],
   "source": [
    "# Manual calculation of one-step ahead forecast for May 5:\n",
    "# ar1 = coef(fitARIMA)['ar1']\n",
    "# ar2 = coef(fitARIMA)['ar2']\n",
    "# # ar3 = coef(fitARIMA)['ar3']\n",
    "# ma1 = coef(fitARIMA)['ma1']\n",
    "# ma2 = coef(fitARIMA)['ma2']\n",
    "# mu = coef(fitARIMA)['intercept']\n",
    "df.ts = df[ date < '2020-05-07', list(date, price.log.diff)]\n",
    "y.series = df.ts$price.log.diff\n",
    "y.t = y.series[length(y.series)-0]\n",
    "y.t.1 = y.series[length(y.series)-1]\n",
    "# y.t.2 = y.series[length(y.series)-2]\n",
    "res = residuals(fitARIMA)\n",
    "eps.t.1 = eps.t\n",
    "eps.t = eps.t.update\n",
    "f.1 = mu + ar1 * (y.t-mu) + ar2 * (y.t.1-mu) + ma1 * eps.t + ma2 * eps.t.1\n",
    "f.1.7 = f.1\n",
    "print(paste(\"The one-step ahead forecast is: \",f.1))"
   ]
  },
  {
   "cell_type": "code",
   "execution_count": 173,
   "metadata": {},
   "outputs": [
    {
     "name": "stdout",
     "output_type": "stream",
     "text": [
      "[1] \"1 step ahead forecast sigma: 0.0129324150583939\"\n"
     ]
    }
   ],
   "source": [
    "epsilon.t = eps.t.update\n",
    "sigma.t = sigma^(1/2)\n",
    "sigma = omega + alpha * (epsilon.t)^2 + beta * (sigma.t)^2\n",
    "s.7 = sigma^(1/2)\n",
    "print(paste('1 step ahead forecast sigma:',sigma^(1/2)))"
   ]
  },
  {
   "cell_type": "code",
   "execution_count": 174,
   "metadata": {
    "scrolled": true
   },
   "outputs": [
    {
     "name": "stdout",
     "output_type": "stream",
     "text": [
      "[1] \"Prediction lower bound: -0.00243030167269951\"\n",
      "[1] \"Prediction upper bound: -0.00177469202446862\"\n",
      "[1] \"The truth value is:  0.00431337217299621\"\n"
     ]
    }
   ],
   "source": [
    "lower.ci = f.1 - 1.96 * sigma\n",
    "upper.ci = f.1 + 1.96 * sigma\n",
    "print(paste('Prediction lower bound:',lower.ci))\n",
    "print(paste('Prediction upper bound:',upper.ci))\n",
    "print(paste(\"The truth value is: \",y.truth))"
   ]
  },
  {
   "cell_type": "code",
   "execution_count": 175,
   "metadata": {},
   "outputs": [
    {
     "name": "stdout",
     "output_type": "stream",
     "text": [
      "[1] \"The truth value is:  0.00747245483575476\"\n",
      "[1] \"The forecast error is: 0.00957495168433883\"\n"
     ]
    }
   ],
   "source": [
    "y.truth = df[date == \"2020-05-07\", list(date, price.log.diff)]$price.log.diff\n",
    "y.7 = y.truth\n",
    "print(paste(\"The truth value is: \",y.truth))\n",
    "eps.t.update = y.truth - f.1\n",
    "print(paste(\"The forecast error is:\", eps.t.update))"
   ]
  },
  {
   "cell_type": "markdown",
   "metadata": {},
   "source": [
    "Double verifying with function:"
   ]
  },
  {
   "cell_type": "code",
   "execution_count": 176,
   "metadata": {},
   "outputs": [
    {
     "data": {
      "text/html": [
       "<dl>\n",
       "\t<dt>$pred</dt>\n",
       "\t\t<dd>A Time Series:<br>-0.00205287357024693</dd>\n",
       "\t<dt>$se</dt>\n",
       "\t\t<dd>A Time Series:<br>0.0160844632805441</dd>\n",
       "</dl>\n"
      ],
      "text/latex": [
       "\\begin{description}\n",
       "\\item[\\$pred] A Time Series:\\\\-0.00205287357024693\n",
       "\\item[\\$se] A Time Series:\\\\0.0160844632805441\n",
       "\\end{description}\n"
      ],
      "text/markdown": [
       "$pred\n",
       ":   A Time Series:  \n",
       "-0.00205287357024693\n",
       "$se\n",
       ":   A Time Series:  \n",
       "0.0160844632805441\n",
       "\n",
       "\n"
      ],
      "text/plain": [
       "$pred\n",
       "Time Series:\n",
       "Start = c(18023, 253) \n",
       "End = c(18023, 253) \n",
       "Frequency = 365 \n",
       "[1] -0.002052874\n",
       "\n",
       "$se\n",
       "Time Series:\n",
       "Start = c(18023, 253) \n",
       "End = c(18023, 253) \n",
       "Frequency = 365 \n",
       "[1] 0.01608446\n"
      ]
     },
     "metadata": {},
     "output_type": "display_data"
    }
   ],
   "source": [
    "# Double verifying with function:\n",
    "\n",
    "# df.ts = df[ date < '2020-05-04', list(date, price.log.diff)]\n",
    "tsdata = ts(df.ts$price.log.diff, start = df$date[1], frequency = 365)\n",
    "fitARIMA <- arima(tsdata, order=c(2,0,2),method=\"ML\", include.mean = TRUE)\n",
    "# fitARIMA <- arima(tsdata, order=c(3,0,1),method=\"ML\", include.mean = TRUE)\n",
    "predict(fitARIMA, n.ahead=1)"
   ]
  },
  {
   "cell_type": "code",
   "execution_count": 177,
   "metadata": {
    "scrolled": false
   },
   "outputs": [
    {
     "data": {
      "text/html": [
       "<table>\n",
       "<caption>A data.frame: 1 × 3</caption>\n",
       "<thead>\n",
       "\t<tr><th scope=col>meanForecast</th><th scope=col>meanError</th><th scope=col>standardDeviation</th></tr>\n",
       "\t<tr><th scope=col>&lt;dbl&gt;</th><th scope=col>&lt;dbl&gt;</th><th scope=col>&lt;dbl&gt;</th></tr>\n",
       "</thead>\n",
       "<tbody>\n",
       "\t<tr><td>1.533854e-05</td><td>0.01268188</td><td>0.01268188</td></tr>\n",
       "</tbody>\n",
       "</table>\n"
      ],
      "text/latex": [
       "A data.frame: 1 × 3\n",
       "\\begin{tabular}{lll}\n",
       " meanForecast & meanError & standardDeviation\\\\\n",
       " <dbl> & <dbl> & <dbl>\\\\\n",
       "\\hline\n",
       "\t 1.533854e-05 & 0.01268188 & 0.01268188\\\\\n",
       "\\end{tabular}\n"
      ],
      "text/markdown": [
       "\n",
       "A data.frame: 1 × 3\n",
       "\n",
       "| meanForecast &lt;dbl&gt; | meanError &lt;dbl&gt; | standardDeviation &lt;dbl&gt; |\n",
       "|---|---|---|\n",
       "| 1.533854e-05 | 0.01268188 | 0.01268188 |\n",
       "\n"
      ],
      "text/plain": [
       "  meanForecast meanError  standardDeviation\n",
       "1 1.533854e-05 0.01268188 0.01268188       "
      ]
     },
     "metadata": {},
     "output_type": "display_data"
    }
   ],
   "source": [
    "res = residuals(fitARIMA)\n",
    "y <- ts(res)\n",
    "garch.y <- garch(y, order = c(1,1), trace=FALSE)  # Fit GARCH(1,1)\n",
    "garch.y.fit = garchFit(formula~ garch(1,1), data=y,\n",
    "                        trace=F) \n",
    "vol.pred = predict(garch.y.fit, n.ahead = 1)\n",
    "vol.pred"
   ]
  },
  {
   "cell_type": "markdown",
   "metadata": {},
   "source": [
    "#### Forecast for May 8:"
   ]
  },
  {
   "cell_type": "code",
   "execution_count": 178,
   "metadata": {},
   "outputs": [
    {
     "name": "stdout",
     "output_type": "stream",
     "text": [
      "[1] \"The one-step ahead forecast is:  -0.000568251157495495\"\n"
     ]
    }
   ],
   "source": [
    "# Manual calculation of one-step ahead forecast for May 5:\n",
    "# ar1 = coef(fitARIMA)['ar1']\n",
    "# ar2 = coef(fitARIMA)['ar2']\n",
    "# # ar3 = coef(fitARIMA)['ar3']\n",
    "# ma1 = coef(fitARIMA)['ma1']\n",
    "# ma2 = coef(fitARIMA)['ma2']\n",
    "# mu = coef(fitARIMA)['intercept']\n",
    "df.ts = df[ date < '2020-05-08', list(date, price.log.diff)]\n",
    "y.series = df.ts$price.log.diff\n",
    "y.t = y.series[length(y.series)-0]\n",
    "y.t.1 = y.series[length(y.series)-1]\n",
    "# y.t.2 = y.series[length(y.series)-2]\n",
    "res = residuals(fitARIMA)\n",
    "eps.t.1 = eps.t\n",
    "eps.t = eps.t.update\n",
    "f.1 = mu + ar1 * (y.t-mu) + ar2 * (y.t.1-mu) + ma1 * eps.t + ma2 * eps.t.1\n",
    "f.1.8 = f.1\n",
    "print(paste(\"The one-step ahead forecast is: \",f.1))"
   ]
  },
  {
   "cell_type": "code",
   "execution_count": 179,
   "metadata": {},
   "outputs": [
    {
     "name": "stdout",
     "output_type": "stream",
     "text": [
      "[1] \"1 step ahead forecast sigma: 0.0124152338749494\"\n"
     ]
    }
   ],
   "source": [
    "epsilon.t = eps.t.update\n",
    "sigma.t = sigma^(1/2)\n",
    "sigma = omega + alpha * (epsilon.t)^2 + beta * (sigma.t)^2\n",
    "s.8 = sigma^(1/2)\n",
    "print(paste('1 step ahead forecast sigma:',sigma^(1/2)))"
   ]
  },
  {
   "cell_type": "code",
   "execution_count": 180,
   "metadata": {
    "scrolled": true
   },
   "outputs": [
    {
     "name": "stdout",
     "output_type": "stream",
     "text": [
      "[1] \"Prediction lower bound: -0.000870361700548091\"\n",
      "[1] \"Prediction upper bound: -0.0002661406144429\"\n",
      "[1] \"The truth value is:  0.00747245483575476\"\n"
     ]
    }
   ],
   "source": [
    "lower.ci = f.1 - 1.96 * sigma\n",
    "upper.ci = f.1 + 1.96 * sigma\n",
    "print(paste('Prediction lower bound:',lower.ci))\n",
    "print(paste('Prediction upper bound:',upper.ci))\n",
    "print(paste(\"The truth value is: \",y.truth))"
   ]
  },
  {
   "cell_type": "code",
   "execution_count": 181,
   "metadata": {},
   "outputs": [
    {
     "name": "stdout",
     "output_type": "stream",
     "text": [
      "[1] \"The truth value is:  0.00180984411451668\"\n",
      "[1] \"The forecast error is: 0.00237809527201217\"\n"
     ]
    }
   ],
   "source": [
    "y.truth = df[date == \"2020-05-08\", list(date, price.log.diff)]$price.log.diff\n",
    "y.8 = y.truth\n",
    "print(paste(\"The truth value is: \",y.truth))\n",
    "eps.t.update = y.truth - f.1\n",
    "print(paste(\"The forecast error is:\", eps.t.update))"
   ]
  },
  {
   "cell_type": "markdown",
   "metadata": {},
   "source": [
    "Double verifying with function:"
   ]
  },
  {
   "cell_type": "code",
   "execution_count": 182,
   "metadata": {},
   "outputs": [
    {
     "data": {
      "text/html": [
       "<dl>\n",
       "\t<dt>$pred</dt>\n",
       "\t\t<dd>A Time Series:<br>-0.000496703399259599</dd>\n",
       "\t<dt>$se</dt>\n",
       "\t\t<dd>A Time Series:<br>0.0160641645528054</dd>\n",
       "</dl>\n"
      ],
      "text/latex": [
       "\\begin{description}\n",
       "\\item[\\$pred] A Time Series:\\\\-0.000496703399259599\n",
       "\\item[\\$se] A Time Series:\\\\0.0160641645528054\n",
       "\\end{description}\n"
      ],
      "text/markdown": [
       "$pred\n",
       ":   A Time Series:  \n",
       "-0.000496703399259599\n",
       "$se\n",
       ":   A Time Series:  \n",
       "0.0160641645528054\n",
       "\n",
       "\n"
      ],
      "text/plain": [
       "$pred\n",
       "Time Series:\n",
       "Start = c(18023, 254) \n",
       "End = c(18023, 254) \n",
       "Frequency = 365 \n",
       "[1] -0.0004967034\n",
       "\n",
       "$se\n",
       "Time Series:\n",
       "Start = c(18023, 254) \n",
       "End = c(18023, 254) \n",
       "Frequency = 365 \n",
       "[1] 0.01606416\n"
      ]
     },
     "metadata": {},
     "output_type": "display_data"
    }
   ],
   "source": [
    "# Double verifying with function:\n",
    "\n",
    "# df.ts = df[ date < '2020-05-04', list(date, price.log.diff)]\n",
    "tsdata = ts(df.ts$price.log.diff, start = df$date[1], frequency = 365)\n",
    "fitARIMA <- arima(tsdata, order=c(2,0,2),method=\"ML\", include.mean = TRUE)\n",
    "# fitARIMA <- arima(tsdata, order=c(3,0,1),method=\"ML\", include.mean = TRUE)\n",
    "predict(fitARIMA, n.ahead=1)"
   ]
  },
  {
   "cell_type": "code",
   "execution_count": 183,
   "metadata": {
    "scrolled": false
   },
   "outputs": [
    {
     "data": {
      "text/html": [
       "<table>\n",
       "<caption>A data.frame: 1 × 3</caption>\n",
       "<thead>\n",
       "\t<tr><th scope=col>meanForecast</th><th scope=col>meanError</th><th scope=col>standardDeviation</th></tr>\n",
       "\t<tr><th scope=col>&lt;dbl&gt;</th><th scope=col>&lt;dbl&gt;</th><th scope=col>&lt;dbl&gt;</th></tr>\n",
       "</thead>\n",
       "<tbody>\n",
       "\t<tr><td>1.540293e-05</td><td>0.01211624</td><td>0.01211624</td></tr>\n",
       "</tbody>\n",
       "</table>\n"
      ],
      "text/latex": [
       "A data.frame: 1 × 3\n",
       "\\begin{tabular}{lll}\n",
       " meanForecast & meanError & standardDeviation\\\\\n",
       " <dbl> & <dbl> & <dbl>\\\\\n",
       "\\hline\n",
       "\t 1.540293e-05 & 0.01211624 & 0.01211624\\\\\n",
       "\\end{tabular}\n"
      ],
      "text/markdown": [
       "\n",
       "A data.frame: 1 × 3\n",
       "\n",
       "| meanForecast &lt;dbl&gt; | meanError &lt;dbl&gt; | standardDeviation &lt;dbl&gt; |\n",
       "|---|---|---|\n",
       "| 1.540293e-05 | 0.01211624 | 0.01211624 |\n",
       "\n"
      ],
      "text/plain": [
       "  meanForecast meanError  standardDeviation\n",
       "1 1.540293e-05 0.01211624 0.01211624       "
      ]
     },
     "metadata": {},
     "output_type": "display_data"
    }
   ],
   "source": [
    "res = residuals(fitARIMA)\n",
    "y <- ts(res)\n",
    "garch.y <- garch(y, order = c(1,1), trace=FALSE)  # Fit GARCH(1,1)\n",
    "garch.y.fit = garchFit(formula~ garch(1,1), data=y,\n",
    "                        trace=F) \n",
    "vol.pred = predict(garch.y.fit, n.ahead = 1)\n",
    "vol.pred"
   ]
  },
  {
   "cell_type": "markdown",
   "metadata": {},
   "source": [
    "======================================="
   ]
  },
  {
   "cell_type": "code",
   "execution_count": 207,
   "metadata": {},
   "outputs": [
    {
     "data": {
      "text/html": [
       "<table>\n",
       "<caption>A data.table: 5 × 9</caption>\n",
       "<thead>\n",
       "\t<tr><th scope=col>forecast</th><th scope=col>real.ret</th><th scope=col>sigma</th><th scope=col>upper.ci</th><th scope=col>lower.ci</th><th scope=col>error</th><th scope=col>sq.error</th><th scope=col>abs.error</th><th scope=col>date</th></tr>\n",
       "\t<tr><th scope=col>&lt;dbl&gt;</th><th scope=col>&lt;dbl&gt;</th><th scope=col>&lt;dbl&gt;</th><th scope=col>&lt;dbl&gt;</th><th scope=col>&lt;dbl&gt;</th><th scope=col>&lt;dbl&gt;</th><th scope=col>&lt;dbl&gt;</th><th scope=col>&lt;dbl&gt;</th><th scope=col>&lt;date&gt;</th></tr>\n",
       "</thead>\n",
       "<tbody>\n",
       "\t<tr><td> 0.0053848658</td><td>0.006399236</td><td>0.01773015</td><td>0.04013595</td><td>-0.02936622</td><td>0.001014370</td><td>1.028946e-06</td><td>0.001014370</td><td>2020-05-04</td></tr>\n",
       "\t<tr><td>-0.0048312432</td><td>0.003329371</td><td>0.01569595</td><td>0.02593282</td><td>-0.03559531</td><td>0.008160614</td><td>6.659562e-05</td><td>0.008160614</td><td>2020-05-05</td></tr>\n",
       "\t<tr><td> 0.0020358834</td><td>0.004313372</td><td>0.01444826</td><td>0.03035446</td><td>-0.02628270</td><td>0.002277489</td><td>5.186955e-06</td><td>0.002277489</td><td>2020-05-06</td></tr>\n",
       "\t<tr><td>-0.0021024968</td><td>0.007472455</td><td>0.01293242</td><td>0.02324504</td><td>-0.02745003</td><td>0.009574952</td><td>9.167970e-05</td><td>0.009574952</td><td>2020-05-07</td></tr>\n",
       "\t<tr><td>-0.0005682512</td><td>0.001809844</td><td>0.01241523</td><td>0.02376561</td><td>-0.02490211</td><td>0.002378095</td><td>5.655337e-06</td><td>0.002378095</td><td>2020-05-08</td></tr>\n",
       "</tbody>\n",
       "</table>\n"
      ],
      "text/latex": [
       "A data.table: 5 × 9\n",
       "\\begin{tabular}{lllllllll}\n",
       " forecast & real.ret & sigma & upper.ci & lower.ci & error & sq.error & abs.error & date\\\\\n",
       " <dbl> & <dbl> & <dbl> & <dbl> & <dbl> & <dbl> & <dbl> & <dbl> & <date>\\\\\n",
       "\\hline\n",
       "\t  0.0053848658 & 0.006399236 & 0.01773015 & 0.04013595 & -0.02936622 & 0.001014370 & 1.028946e-06 & 0.001014370 & 2020-05-04\\\\\n",
       "\t -0.0048312432 & 0.003329371 & 0.01569595 & 0.02593282 & -0.03559531 & 0.008160614 & 6.659562e-05 & 0.008160614 & 2020-05-05\\\\\n",
       "\t  0.0020358834 & 0.004313372 & 0.01444826 & 0.03035446 & -0.02628270 & 0.002277489 & 5.186955e-06 & 0.002277489 & 2020-05-06\\\\\n",
       "\t -0.0021024968 & 0.007472455 & 0.01293242 & 0.02324504 & -0.02745003 & 0.009574952 & 9.167970e-05 & 0.009574952 & 2020-05-07\\\\\n",
       "\t -0.0005682512 & 0.001809844 & 0.01241523 & 0.02376561 & -0.02490211 & 0.002378095 & 5.655337e-06 & 0.002378095 & 2020-05-08\\\\\n",
       "\\end{tabular}\n"
      ],
      "text/markdown": [
       "\n",
       "A data.table: 5 × 9\n",
       "\n",
       "| forecast &lt;dbl&gt; | real.ret &lt;dbl&gt; | sigma &lt;dbl&gt; | upper.ci &lt;dbl&gt; | lower.ci &lt;dbl&gt; | error &lt;dbl&gt; | sq.error &lt;dbl&gt; | abs.error &lt;dbl&gt; | date &lt;date&gt; |\n",
       "|---|---|---|---|---|---|---|---|---|\n",
       "|  0.0053848658 | 0.006399236 | 0.01773015 | 0.04013595 | -0.02936622 | 0.001014370 | 1.028946e-06 | 0.001014370 | 2020-05-04 |\n",
       "| -0.0048312432 | 0.003329371 | 0.01569595 | 0.02593282 | -0.03559531 | 0.008160614 | 6.659562e-05 | 0.008160614 | 2020-05-05 |\n",
       "|  0.0020358834 | 0.004313372 | 0.01444826 | 0.03035446 | -0.02628270 | 0.002277489 | 5.186955e-06 | 0.002277489 | 2020-05-06 |\n",
       "| -0.0021024968 | 0.007472455 | 0.01293242 | 0.02324504 | -0.02745003 | 0.009574952 | 9.167970e-05 | 0.009574952 | 2020-05-07 |\n",
       "| -0.0005682512 | 0.001809844 | 0.01241523 | 0.02376561 | -0.02490211 | 0.002378095 | 5.655337e-06 | 0.002378095 | 2020-05-08 |\n",
       "\n"
      ],
      "text/plain": [
       "  forecast      real.ret    sigma      upper.ci   lower.ci    error      \n",
       "1  0.0053848658 0.006399236 0.01773015 0.04013595 -0.02936622 0.001014370\n",
       "2 -0.0048312432 0.003329371 0.01569595 0.02593282 -0.03559531 0.008160614\n",
       "3  0.0020358834 0.004313372 0.01444826 0.03035446 -0.02628270 0.002277489\n",
       "4 -0.0021024968 0.007472455 0.01293242 0.02324504 -0.02745003 0.009574952\n",
       "5 -0.0005682512 0.001809844 0.01241523 0.02376561 -0.02490211 0.002378095\n",
       "  sq.error     abs.error   date      \n",
       "1 1.028946e-06 0.001014370 2020-05-04\n",
       "2 6.659562e-05 0.008160614 2020-05-05\n",
       "3 5.186955e-06 0.002277489 2020-05-06\n",
       "4 9.167970e-05 0.009574952 2020-05-07\n",
       "5 5.655337e-06 0.002378095 2020-05-08"
      ]
     },
     "metadata": {},
     "output_type": "display_data"
    }
   ],
   "source": [
    "forecast = c(f.1.4, f.1.5, f.1.6, f.1.7, f.1.8)\n",
    "real.ret = c(y.4, y.5, y.6, y.7, y.8)\n",
    "sigma = c(s.4, s.5, s.6, s.7, s.8)\n",
    "df.est = cbind(forecast, real.ret, sigma)\n",
    "df.est = df.est %>% data.table\n",
    "df.est[, upper.ci := forecast + 1.96*sigma]\n",
    "df.est[, lower.ci := forecast - 1.96*sigma]\n",
    "df.est[, error := real.ret - forecast]\n",
    "df.est[, sq.error := error^2]\n",
    "df.est[, abs.error := abs(error)]\n",
    "date = df[date>=\"2020-05-04\" & date <= \"2020-05-08\"]$date\n",
    "df.est[, date := date]\n",
    "setkey(df.est, date)\n",
    "df.est"
   ]
  },
  {
   "cell_type": "code",
   "execution_count": 208,
   "metadata": {},
   "outputs": [
    {
     "name": "stdout",
     "output_type": "stream",
     "text": [
      "[1] \"MSE:  3.40293119733639e-05\"\n",
      "[1] \"MSE:  0.00468110393098993\"\n"
     ]
    }
   ],
   "source": [
    "mse = mean(df.est$sq.error)\n",
    "print(paste(\"MSE: \", mse))\n",
    "mae = mean(df.est$abs.error)\n",
    "print(paste(\"MSE: \", mae))"
   ]
  },
  {
   "cell_type": "code",
   "execution_count": 205,
   "metadata": {},
   "outputs": [
    {
     "data": {
      "image/png": "[encoded data removed]",
      "text/plain": [
       "plot without title"
      ]
     },
     "metadata": {
      "image/png": {
       "height": 360,
       "width": 600
      },
      "text/plain": {
       "height": 360,
       "width": 600
      }
     },
     "output_type": "display_data"
    }
   ],
   "source": [
    "fig <- function(width, heigth){\n",
    "     options(repr.plot.width = width, repr.plot.height = heigth)\n",
    "}\n",
    "fig(10,6)\n",
    "ggplot(data = df.est , aes(x=date))+\n",
    "    geom_line(aes(y = forecast, color = \"forecast\")) +\n",
    "    geom_line(aes(y = real.ret, color = \"real return\")) +\n",
    "    geom_line(aes(y = lower.ci, color = \"lower bound\"), linetype = \"twodash\") +\n",
    "    geom_line(aes(y = upper.ci, color = \"upper bound\"), linetype = \"twodash\") +\n",
    "    theme(text = element_text(size=15)) + theme_minimal()"
   ]
  },
  {
   "cell_type": "code",
   "execution_count": null,
   "metadata": {},
   "outputs": [],
   "source": []
  }
 ],
 "metadata": {
  "kernelspec": {
   "display_name": "R",
   "language": "R",
   "name": "ir"
  },
  "language_info": {
   "codemirror_mode": "r",
   "file_extension": ".r",
   "mimetype": "text/x-r-source",
   "name": "R",
   "pygments_lexer": "r",
   "version": "3.6.1"
  }
 },
 "nbformat": 4,
 "nbformat_minor": 4
}
