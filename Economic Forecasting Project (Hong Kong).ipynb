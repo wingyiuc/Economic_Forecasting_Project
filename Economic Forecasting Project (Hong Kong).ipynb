{
 "cells": [
  {
   "cell_type": "markdown",
   "metadata": {},
   "source": [
    "# Getting started"
   ]
  },
  {
   "cell_type": "code",
   "execution_count": 58,
   "metadata": {},
   "outputs": [],
   "source": [
    "### Load packages\n",
    "library(data.table)\n",
    "library(readxl)\n",
    "library(stringr)\n",
    "library(dplyr)\n",
    "library(forecast)\n",
    "library(ggplot2)\n",
    "library(tseries)\n",
    "library(stats)\n",
    "library(psych)\n",
    "library(fUnitRoots)\n",
    "library(lmtest)\n",
    "library(pastecs)\n",
    "library(FitAR)\n",
    "library(aTSA)\n",
    "library(itsmr)\n",
    "library(pracma)\n",
    "library(arfima)\n",
    "library(dse)\n",
    "library(smooth)\n",
    "library(fGarch)"
   ]
  },
  {
   "cell_type": "code",
   "execution_count": 59,
   "metadata": {
    "scrolled": true
   },
   "outputs": [
    {
     "data": {
      "text/html": [
       "<ol class=list-inline>\n",
       "\t<li>'^BSESN.csv'</li>\n",
       "\t<li>'^GSPC.csv'</li>\n",
       "\t<li>'^HSI.csv'</li>\n",
       "\t<li>'^JKSE.csv'</li>\n",
       "\t<li>'^MERV.csv'</li>\n",
       "\t<li>'^N225.csv'</li>\n",
       "\t<li>'^NSEI.csv'</li>\n",
       "\t<li>'^NZ50.csv'</li>\n",
       "\t<li>'^STOXX50E.csv'</li>\n",
       "\t<li>'000001.SS.csv'</li>\n",
       "</ol>\n"
      ],
      "text/latex": [
       "\\begin{enumerate*}\n",
       "\\item '\\textasciicircum{}BSESN.csv'\n",
       "\\item '\\textasciicircum{}GSPC.csv'\n",
       "\\item '\\textasciicircum{}HSI.csv'\n",
       "\\item '\\textasciicircum{}JKSE.csv'\n",
       "\\item '\\textasciicircum{}MERV.csv'\n",
       "\\item '\\textasciicircum{}N225.csv'\n",
       "\\item '\\textasciicircum{}NSEI.csv'\n",
       "\\item '\\textasciicircum{}NZ50.csv'\n",
       "\\item '\\textasciicircum{}STOXX50E.csv'\n",
       "\\item '000001.SS.csv'\n",
       "\\end{enumerate*}\n"
      ],
      "text/markdown": [
       "1. '^BSESN.csv'\n",
       "2. '^GSPC.csv'\n",
       "3. '^HSI.csv'\n",
       "4. '^JKSE.csv'\n",
       "5. '^MERV.csv'\n",
       "6. '^N225.csv'\n",
       "7. '^NSEI.csv'\n",
       "8. '^NZ50.csv'\n",
       "9. '^STOXX50E.csv'\n",
       "10. '000001.SS.csv'\n",
       "\n",
       "\n"
      ],
      "text/plain": [
       " [1] \"^BSESN.csv\"    \"^GSPC.csv\"     \"^HSI.csv\"      \"^JKSE.csv\"    \n",
       " [5] \"^MERV.csv\"     \"^N225.csv\"     \"^NSEI.csv\"     \"^NZ50.csv\"    \n",
       " [9] \"^STOXX50E.csv\" \"000001.SS.csv\""
      ]
     },
     "metadata": {},
     "output_type": "display_data"
    }
   ],
   "source": [
    "list.files(pattern = \".csv\")"
   ]
  },
  {
   "cell_type": "markdown",
   "metadata": {},
   "source": [
    "# Stock 1\n",
    "## About Hong Kong Hang Seng Index\n",
    "The HSI is a highly active market with a 1,748,940,800\n",
    "average volume over the past month. By the Efficient\n",
    "Market Hypothesis (EMH), it is believed that the time\n",
    "series process of HSI would be white noise and we could\n",
    "not forecast the future returns based on historical data. \n",
    "\n",
    "\n",
    "## HSI - Data Exploration"
   ]
  },
  {
   "cell_type": "code",
   "execution_count": 60,
   "metadata": {
    "scrolled": true
   },
   "outputs": [
    {
     "name": "stderr",
     "output_type": "stream",
     "text": [
      "Warning message in function_list[[k]](value):\n",
      "\"NAs introduced by coercion\"\n"
     ]
    },
    {
     "data": {
      "text/html": [
       "<table>\n",
       "<caption>A data.table: 6 × 2</caption>\n",
       "<thead>\n",
       "\t<tr><th scope=col>date</th><th scope=col>Price</th></tr>\n",
       "\t<tr><th scope=col>&lt;date&gt;</th><th scope=col>&lt;dbl&gt;</th></tr>\n",
       "</thead>\n",
       "<tbody>\n",
       "\t<tr><td>2020-04-29</td><td>24643.59</td></tr>\n",
       "\t<tr><td>2020-05-04</td><td>23613.80</td></tr>\n",
       "\t<tr><td>2020-05-05</td><td>23868.66</td></tr>\n",
       "\t<tr><td>2020-05-06</td><td>24137.48</td></tr>\n",
       "\t<tr><td>2020-05-07</td><td>23980.63</td></tr>\n",
       "\t<tr><td>2020-05-08</td><td>24230.17</td></tr>\n",
       "</tbody>\n",
       "</table>\n"
      ],
      "text/latex": [
       "A data.table: 6 × 2\n",
       "\\begin{tabular}{ll}\n",
       " date & Price\\\\\n",
       " <date> & <dbl>\\\\\n",
       "\\hline\n",
       "\t 2020-04-29 & 24643.59\\\\\n",
       "\t 2020-05-04 & 23613.80\\\\\n",
       "\t 2020-05-05 & 23868.66\\\\\n",
       "\t 2020-05-06 & 24137.48\\\\\n",
       "\t 2020-05-07 & 23980.63\\\\\n",
       "\t 2020-05-08 & 24230.17\\\\\n",
       "\\end{tabular}\n"
      ],
      "text/markdown": [
       "\n",
       "A data.table: 6 × 2\n",
       "\n",
       "| date &lt;date&gt; | Price &lt;dbl&gt; |\n",
       "|---|---|\n",
       "| 2020-04-29 | 24643.59 |\n",
       "| 2020-05-04 | 23613.80 |\n",
       "| 2020-05-05 | 23868.66 |\n",
       "| 2020-05-06 | 24137.48 |\n",
       "| 2020-05-07 | 23980.63 |\n",
       "| 2020-05-08 | 24230.17 |\n",
       "\n"
      ],
      "text/plain": [
       "  date       Price   \n",
       "1 2020-04-29 24643.59\n",
       "2 2020-05-04 23613.80\n",
       "3 2020-05-05 23868.66\n",
       "4 2020-05-06 24137.48\n",
       "5 2020-05-07 23980.63\n",
       "6 2020-05-08 24230.17"
      ]
     },
     "metadata": {},
     "output_type": "display_data"
    }
   ],
   "source": [
    "# Load data\n",
    "\n",
    "df = read.csv('^HSI.csv')\n",
    "df %>% setDT\n",
    "df = df[,.(date = as.Date(Date),\n",
    "                 Price = Adj.Close%>% as.character %>% as.numeric)]\n",
    "df = df[date>='2019-05-04' & date <= '2020-05-08',]\n",
    "df = na.omit(df)\n",
    "setkey(df, date)\n",
    "df %>% tail"
   ]
  },
  {
   "cell_type": "code",
   "execution_count": 64,
   "metadata": {
    "scrolled": false
   },
   "outputs": [
    {
     "data": {
      "image/png": "[encoded data removed]",
      "text/plain": [
       "Plot with title \"Series  df$Price\""
      ]
     },
     "metadata": {
      "image/png": {
       "height": 420,
       "width": 420
      },
      "text/plain": {
       "height": 420,
       "width": 420
      }
     },
     "output_type": "display_data"
    }
   ],
   "source": [
    "par(mfrow=c(2,2))\n",
    "\n",
    "# Graph of the index\n",
    "\n",
    "plot(df$Price, type = \"l\")\n",
    "\n",
    "# Histogram\n",
    "\n",
    "hist(df$Price)\n",
    "\n",
    "# ACFs and PACFs \n",
    "\n",
    "Acf(df$Price, lag.max = 50)\n",
    "\n",
    "Pacf(df$Price, lag.max = 50)"
   ]
  },
  {
   "cell_type": "code",
   "execution_count": 65,
   "metadata": {},
   "outputs": [
    {
     "name": "stdout",
     "output_type": "stream",
     "text": [
      "Augmented Dickey-Fuller Test \n",
      "alternative: stationary \n",
      " \n",
      "Type 1: no drift no trend \n",
      "     lag    ADF p.value\n",
      "[1,]   0 -1.014   0.316\n",
      "[2,]   1 -1.071   0.296\n",
      "[3,]   2 -0.946   0.341\n",
      "[4,]   3 -0.698   0.429\n",
      "[5,]   4 -0.801   0.393\n",
      "Type 2: with drift no trend \n",
      "     lag   ADF p.value\n",
      "[1,]   0 -1.75   0.424\n",
      "[2,]   1 -1.76   0.421\n",
      "[3,]   2 -1.78   0.413\n",
      "[4,]   3 -1.91   0.364\n",
      "[5,]   4 -1.80   0.406\n",
      "Type 3: with drift and trend \n",
      "     lag   ADF p.value\n",
      "[1,]   0 -2.11   0.528\n",
      "[2,]   1 -2.08   0.542\n",
      "[3,]   2 -2.18   0.501\n",
      "[4,]   3 -2.48   0.375\n",
      "[5,]   4 -2.30   0.447\n",
      "---- \n",
      "Note: in fact, p.value = 0.01 means p.value <= 0.01 \n"
     ]
    }
   ],
   "source": [
    "# Augmented Dickey-Fuller Test\n",
    "\n",
    "aTSA::adf.test(df$Price, nlag = NULL, output = TRUE)"
   ]
  },
  {
   "cell_type": "markdown",
   "metadata": {},
   "source": [
    "From the graph and ACF plot, we can see the persistence of the price is very high. It brings the question whether it is nonstationary. Checking with Augmented Dickey-Fuller test , the p-values are all greater than 0.05, meaning unit root exists. So, we need to use log differences to make it mean stationary:\n",
    "$R_t = log(P_t) - log(P_{t-1})$"
   ]
  },
  {
   "cell_type": "code",
   "execution_count": 66,
   "metadata": {
    "scrolled": false
   },
   "outputs": [
    {
     "data": {
      "image/png": "[encoded data removed]",
      "text/plain": [
       "plot without title"
      ]
     },
     "metadata": {
      "image/png": {
       "height": 420,
       "width": 420
      },
      "text/plain": {
       "height": 420,
       "width": 420
      }
     },
     "output_type": "display_data"
    }
   ],
   "source": [
    "df[, price.lag.1:= shift(Price, type = 'lag', n=1) ]\n",
    "df[, price.log.diff := log(Price) - log(price.lag.1)]\n",
    "df = na.omit(df)\n",
    "ggplot(df, aes(x=date)) + geom_line(aes(y=price.log.diff,group=1))+ theme_minimal() "
   ]
  },
  {
   "cell_type": "code",
   "execution_count": 69,
   "metadata": {},
   "outputs": [
    {
     "data": {
      "image/png": "[encoded data removed]",
      "text/plain": [
       "Plot with title \"Histogram of df$price.log.diff\""
      ]
     },
     "metadata": {
      "image/png": {
       "height": 420,
       "width": 420
      },
      "text/plain": {
       "height": 420,
       "width": 420
      }
     },
     "output_type": "display_data"
    }
   ],
   "source": [
    "# Histogram\n",
    "hist(df$price.log.diff)"
   ]
  },
  {
   "cell_type": "code",
   "execution_count": 67,
   "metadata": {
    "scrolled": true
   },
   "outputs": [
    {
     "data": {
      "text/html": [
       "<dl class=dl-horizontal>\n",
       "\t<dt>nbr.val</dt>\n",
       "\t\t<dd>250</dd>\n",
       "\t<dt>nbr.null</dt>\n",
       "\t\t<dd>0</dd>\n",
       "\t<dt>nbr.na</dt>\n",
       "\t\t<dd>0</dd>\n",
       "\t<dt>min</dt>\n",
       "\t\t<dd>-0.0498489501660195</dd>\n",
       "\t<dt>max</dt>\n",
       "\t\t<dd>0.0492499444291958</dd>\n",
       "\t<dt>range</dt>\n",
       "\t\t<dd>0.0990988945952154</dd>\n",
       "\t<dt>sum</dt>\n",
       "\t\t<dd>-0.186906417142598</dd>\n",
       "\t<dt>median</dt>\n",
       "\t\t<dd>9.9134628888109e-05</dd>\n",
       "\t<dt>mean</dt>\n",
       "\t\t<dd>-0.000747625668570393</dd>\n",
       "\t<dt>SE.mean</dt>\n",
       "\t\t<dd>0.000859883064310082</dd>\n",
       "\t<dt>CI.mean.0.95</dt>\n",
       "\t\t<dd>0.00169357139701826</dd>\n",
       "\t<dt>var</dt>\n",
       "\t\t<dd>0.000184849721071824</dd>\n",
       "\t<dt>std.dev</dt>\n",
       "\t\t<dd>0.0135959450231245</dd>\n",
       "\t<dt>coef.var</dt>\n",
       "\t\t<dd>-18.1854978964575</dd>\n",
       "</dl>\n"
      ],
      "text/latex": [
       "\\begin{description*}\n",
       "\\item[nbr.val] 250\n",
       "\\item[nbr.null] 0\n",
       "\\item[nbr.na] 0\n",
       "\\item[min] -0.0498489501660195\n",
       "\\item[max] 0.0492499444291958\n",
       "\\item[range] 0.0990988945952154\n",
       "\\item[sum] -0.186906417142598\n",
       "\\item[median] 9.9134628888109e-05\n",
       "\\item[mean] -0.000747625668570393\n",
       "\\item[SE.mean] 0.000859883064310082\n",
       "\\item[CI.mean.0.95] 0.00169357139701826\n",
       "\\item[var] 0.000184849721071824\n",
       "\\item[std.dev] 0.0135959450231245\n",
       "\\item[coef.var] -18.1854978964575\n",
       "\\end{description*}\n"
      ],
      "text/markdown": [
       "nbr.val\n",
       ":   250nbr.null\n",
       ":   0nbr.na\n",
       ":   0min\n",
       ":   -0.0498489501660195max\n",
       ":   0.0492499444291958range\n",
       ":   0.0990988945952154sum\n",
       ":   -0.186906417142598median\n",
       ":   9.9134628888109e-05mean\n",
       ":   -0.000747625668570393SE.mean\n",
       ":   0.000859883064310082CI.mean.0.95\n",
       ":   0.00169357139701826var\n",
       ":   0.000184849721071824std.dev\n",
       ":   0.0135959450231245coef.var\n",
       ":   -18.1854978964575\n",
       "\n"
      ],
      "text/plain": [
       "      nbr.val      nbr.null        nbr.na           min           max \n",
       " 2.500000e+02  0.000000e+00  0.000000e+00 -4.984895e-02  4.924994e-02 \n",
       "        range           sum        median          mean       SE.mean \n",
       " 9.909889e-02 -1.869064e-01  9.913463e-05 -7.476257e-04  8.598831e-04 \n",
       " CI.mean.0.95           var       std.dev      coef.var \n",
       " 1.693571e-03  1.848497e-04  1.359595e-02 -1.818550e+01 "
      ]
     },
     "metadata": {},
     "output_type": "display_data"
    }
   ],
   "source": [
    "# Descriptive statistics \n",
    "\n",
    "stat.desc(df$price.log.diff)"
   ]
  },
  {
   "cell_type": "code",
   "execution_count": 68,
   "metadata": {},
   "outputs": [
    {
     "data": {
      "text/html": [
       "0.00523107869639006"
      ],
      "text/latex": [
       "0.00523107869639006"
      ],
      "text/markdown": [
       "0.00523107869639006"
      ],
      "text/plain": [
       "[1] 0.005231079"
      ]
     },
     "metadata": {},
     "output_type": "display_data"
    }
   ],
   "source": [
    "# Mode\n",
    "\n",
    "getmode <- function(v) {\n",
    "   uniqv <- unique(v)\n",
    "   uniqv[which.max(tabulate(match(v, uniqv)))]\n",
    "}\n",
    "getmode(df$price.log.diff)"
   ]
  },
  {
   "cell_type": "code",
   "execution_count": 27,
   "metadata": {},
   "outputs": [
    {
     "data": {
      "text/html": [
       "2.24706421338467"
      ],
      "text/latex": [
       "2.24706421338467"
      ],
      "text/markdown": [
       "2.24706421338467"
      ],
      "text/plain": [
       "[1] 2.247064\n",
       "attr(,\"method\")\n",
       "[1] \"excess\""
      ]
     },
     "metadata": {},
     "output_type": "display_data"
    }
   ],
   "source": [
    "# Kurtosis\n",
    "\n",
    "kurtosis(df$price.log.diff)"
   ]
  },
  {
   "cell_type": "code",
   "execution_count": 28,
   "metadata": {
    "scrolled": true
   },
   "outputs": [
    {
     "data": {
      "text/html": [
       "-0.282172162339192"
      ],
      "text/latex": [
       "-0.282172162339192"
      ],
      "text/markdown": [
       "-0.282172162339192"
      ],
      "text/plain": [
       "[1] -0.2821722\n",
       "attr(,\"method\")\n",
       "[1] \"moment\""
      ]
     },
     "metadata": {},
     "output_type": "display_data"
    }
   ],
   "source": [
    "# Skewness\n",
    "\n",
    "skewness(df$price.log.diff)"
   ]
  },
  {
   "cell_type": "code",
   "execution_count": 29,
   "metadata": {
    "scrolled": false
   },
   "outputs": [
    {
     "data": {
      "image/png": "[encoded data removed]",
      "text/plain": [
       "Plot with title \"Series  df$price.log.diff\""
      ]
     },
     "metadata": {
      "image/png": {
       "height": 420,
       "width": 420
      },
      "text/plain": {
       "height": 420,
       "width": 420
      }
     },
     "output_type": "display_data"
    }
   ],
   "source": [
    "# ACFs and PACFs \n",
    "par(mfrow=c(2,1))\n",
    "\n",
    "Acf(df$price.log.diff, lag.max = 50)\n",
    "\n",
    "Pacf(df$price.log.diff, lag.max = 50)"
   ]
  },
  {
   "cell_type": "code",
   "execution_count": 30,
   "metadata": {
    "scrolled": false
   },
   "outputs": [
    {
     "name": "stdout",
     "output_type": "stream",
     "text": [
      "Augmented Dickey-Fuller Test \n",
      "alternative: stationary \n",
      " \n",
      "Type 1: no drift no trend \n",
      "     lag    ADF p.value\n",
      "[1,]   0 -16.68    0.01\n",
      "[2,]   1 -10.73    0.01\n",
      "[3,]   2  -7.54    0.01\n",
      "[4,]   3  -7.34    0.01\n",
      "[5,]   4  -6.26    0.01\n",
      "Type 2: with drift no trend \n",
      "     lag    ADF p.value\n",
      "[1,]   0 -16.70    0.01\n",
      "[2,]   1 -10.76    0.01\n",
      "[3,]   2  -7.55    0.01\n",
      "[4,]   3  -7.36    0.01\n",
      "[5,]   4  -6.28    0.01\n",
      "Type 3: with drift and trend \n",
      "     lag    ADF p.value\n",
      "[1,]   0 -16.67    0.01\n",
      "[2,]   1 -10.74    0.01\n",
      "[3,]   2  -7.54    0.01\n",
      "[4,]   3  -7.35    0.01\n",
      "[5,]   4  -6.28    0.01\n",
      "---- \n",
      "Note: in fact, p.value = 0.01 means p.value <= 0.01 \n"
     ]
    }
   ],
   "source": [
    "# Augmented Dickey-Fuller Test\n",
    "\n",
    "aTSA::adf.test(df$price.log.diff, nlag = NULL, output = TRUE)"
   ]
  },
  {
   "cell_type": "code",
   "execution_count": 31,
   "metadata": {},
   "outputs": [
    {
     "data": {
      "text/plain": [
       "\n",
       "\tBox-Ljung test\n",
       "\n",
       "data:  df$price.log.diff\n",
       "X-squared = 58.388, df = 50, p-value = 0.1944\n"
      ]
     },
     "metadata": {},
     "output_type": "display_data"
    }
   ],
   "source": [
    "#  Ljung-Box Test\n",
    "Box.test(df$price.log.diff, lag = 50, type = \"Ljung-Box\")"
   ]
  },
  {
   "cell_type": "markdown",
   "metadata": {},
   "source": [
    "After transforming, the return seems mean stationary, however, is obviously variance non-stationary from the plot. From the Augmented Dickey-Fuller test , the coefficients are all negative in the three types of test, and the p-value is smaller than 0.01, indicating the data do not have unit root and is covariance stationary. \n",
    "From the ACF and PACF graph, the first two lags are not statistically significant. From the Ljung-Box test , the p-value is greater than 0.05, meaning we fail to reject the null hypothesis that the autocorrelations are all zero. Therefore, we can conclude it is indeed a white noise process."
   ]
  },
  {
   "cell_type": "markdown",
   "metadata": {},
   "source": [
    "## HSI - Model Selection"
   ]
  },
  {
   "cell_type": "code",
   "execution_count": 70,
   "metadata": {
    "scrolled": true
   },
   "outputs": [
    {
     "name": "stdout",
     "output_type": "stream",
     "text": [
      "[1] \"Number of observations: 245\"\n"
     ]
    }
   ],
   "source": [
    "# prepare ts data\n",
    "\n",
    "df.ts = df[ date < '2020-05-04', list(date, price.log.diff)] \n",
    "tsdata = ts(df.ts$price.log.diff, start = df$date[1], frequency = 365)\n",
    "print(paste(\"Number of observations:\",length(tsdata)))"
   ]
  },
  {
   "cell_type": "code",
   "execution_count": 71,
   "metadata": {
    "scrolled": false
   },
   "outputs": [
    {
     "name": "stdout",
     "output_type": "stream",
     "text": [
      "\n",
      " Fitting models using approximations to speed things up...\n",
      "\n",
      " ARIMA(2,0,2)             with non-zero mean : -1415.134\n",
      " ARIMA(0,0,0)             with non-zero mean : -1414.662\n",
      " ARIMA(1,0,0)             with non-zero mean : -1412.432\n",
      " ARIMA(0,0,1)             with non-zero mean : -1413.14\n",
      " ARIMA(0,0,0)             with zero mean     : -1416.037\n",
      " ARIMA(1,0,1)             with non-zero mean : -1410.637\n",
      "\n",
      " Now re-fitting the best model(s) without approximations...\n",
      "\n",
      " ARIMA(0,0,0)             with zero mean     : -1416.037\n",
      "\n",
      " Best model: ARIMA(0,0,0)             with zero mean     \n",
      "\n"
     ]
    },
    {
     "data": {
      "text/plain": [
       "Series: tsdata \n",
       "ARIMA(0,0,0) with zero mean \n",
       "\n",
       "sigma^2 estimated as 0.0001794:  log likelihood=709.03\n",
       "AIC=-1416.05   AICc=-1416.04   BIC=-1412.55"
      ]
     },
     "metadata": {},
     "output_type": "display_data"
    }
   ],
   "source": [
    "#  fitting different ARMA models and compare with AIC\n",
    "\n",
    "auto.arima(tsdata, trace=TRUE)"
   ]
  },
  {
   "cell_type": "markdown",
   "metadata": {},
   "source": [
    "Using AIC as model selection criterion, the best model estimated is ARMA(2,0), though the AIC for ARMA(0,0) is similar."
   ]
  },
  {
   "cell_type": "markdown",
   "metadata": {},
   "source": [
    "#### ARMA(0,0)"
   ]
  },
  {
   "cell_type": "code",
   "execution_count": 72,
   "metadata": {
    "scrolled": true
   },
   "outputs": [
    {
     "data": {
      "text/plain": [
       "\n",
       "z test of coefficients:\n",
       "\n",
       "             Estimate  Std. Error z value Pr(>|z|)\n",
       "intercept -0.00069383  0.00085697 -0.8096   0.4182\n"
      ]
     },
     "metadata": {},
     "output_type": "display_data"
    }
   ],
   "source": [
    "fitARIMA <- arima(tsdata, order=c(0,0,0),method=\"ML\", include.mean = TRUE)\n",
    "coeftest(fitARIMA)"
   ]
  },
  {
   "cell_type": "code",
   "execution_count": 73,
   "metadata": {
    "scrolled": false
   },
   "outputs": [
    {
     "data": {
      "text/html": [
       "<strong>intercept:</strong> -0.000693829163465112"
      ],
      "text/latex": [
       "\\textbf{intercept:} -0.000693829163465112"
      ],
      "text/markdown": [
       "**intercept:** -0.000693829163465112"
      ],
      "text/plain": [
       "    intercept \n",
       "-0.0006938292 "
      ]
     },
     "metadata": {},
     "output_type": "display_data"
    }
   ],
   "source": [
    "coefficients(fitARIMA)"
   ]
  },
  {
   "cell_type": "code",
   "execution_count": 74,
   "metadata": {
    "scrolled": false
   },
   "outputs": [
    {
     "data": {
      "text/html": [
       "<table>\n",
       "<caption>A matrix: 1 × 2 of type dbl</caption>\n",
       "<thead>\n",
       "\t<tr><th></th><th scope=col>2.5 %</th><th scope=col>97.5 %</th></tr>\n",
       "</thead>\n",
       "<tbody>\n",
       "\t<tr><th scope=row>intercept</th><td>-0.002373455</td><td>0.0009857971</td></tr>\n",
       "</tbody>\n",
       "</table>\n"
      ],
      "text/latex": [
       "A matrix: 1 × 2 of type dbl\n",
       "\\begin{tabular}{r|ll}\n",
       "  & 2.5 \\% & 97.5 \\%\\\\\n",
       "\\hline\n",
       "\tintercept & -0.002373455 & 0.0009857971\\\\\n",
       "\\end{tabular}\n"
      ],
      "text/markdown": [
       "\n",
       "A matrix: 1 × 2 of type dbl\n",
       "\n",
       "| <!--/--> | 2.5 % | 97.5 % |\n",
       "|---|---|---|\n",
       "| intercept | -0.002373455 | 0.0009857971 |\n",
       "\n"
      ],
      "text/plain": [
       "          2.5 %        97.5 %      \n",
       "intercept -0.002373455 0.0009857971"
      ]
     },
     "metadata": {},
     "output_type": "display_data"
    }
   ],
   "source": [
    "confint(fitARIMA)"
   ]
  },
  {
   "cell_type": "code",
   "execution_count": 75,
   "metadata": {},
   "outputs": [
    {
     "data": {
      "image/png": "[encoded data removed]",
      "text/plain": [
       "plot without title"
      ]
     },
     "metadata": {
      "image/png": {
       "height": 420,
       "width": 420
      },
      "text/plain": {
       "height": 420,
       "width": 420
      }
     },
     "output_type": "display_data"
    }
   ],
   "source": [
    "# Inverse characteristic roots\n",
    "autoplot(fitARIMA)"
   ]
  },
  {
   "cell_type": "code",
   "execution_count": 76,
   "metadata": {},
   "outputs": [
    {
     "data": {
      "image/png": "[encoded data removed]",
      "text/plain": [
       "Plot with title \"Series  res\""
      ]
     },
     "metadata": {
      "image/png": {
       "height": 420,
       "width": 420
      },
      "text/plain": {
       "height": 420,
       "width": 420
      }
     },
     "output_type": "display_data"
    }
   ],
   "source": [
    "res = residuals(fitARIMA)\n",
    "# ACFs and PACFs  of residuals \n",
    "par(mfrow=c(2,1))\n",
    "\n",
    "Acf(res, lag.max = 50)\n",
    "\n",
    "Pacf(res, lag.max = 50)"
   ]
  },
  {
   "cell_type": "code",
   "execution_count": 77,
   "metadata": {
    "scrolled": true
   },
   "outputs": [
    {
     "data": {
      "text/plain": [
       "\n",
       "\tBox-Ljung test\n",
       "\n",
       "data:  res\n",
       "X-squared = 54.404, df = 50, p-value = 0.3105\n"
      ]
     },
     "metadata": {},
     "output_type": "display_data"
    }
   ],
   "source": [
    "#  Ljung-Box Test\n",
    "Box.test(res, lag = 50, type = \"Ljung-Box\")"
   ]
  },
  {
   "cell_type": "markdown",
   "metadata": {},
   "source": [
    "Since p-value > 0.05, it means the residuals are independent at 95% level, thus ARMA(0,0) is a good fit"
   ]
  },
  {
   "cell_type": "code",
   "execution_count": 78,
   "metadata": {
    "scrolled": false
   },
   "outputs": [
    {
     "name": "stdout",
     "output_type": "stream",
     "text": [
      "\n",
      "\tLjung-Box test\n",
      "\n",
      "data:  Residuals from ARIMA(0,0,0) with non-zero mean\n",
      "Q* = 54.078, df = 48, p-value = 0.2536\n",
      "\n",
      "Model df: 1.   Total lags used: 49\n",
      "\n"
     ]
    },
    {
     "data": {
      "image/png": "[encoded data removed]",
      "text/plain": [
       "plot without title"
      ]
     },
     "metadata": {
      "image/png": {
       "height": 420,
       "width": 420
      },
      "text/plain": {
       "height": 420,
       "width": 420
      }
     },
     "output_type": "display_data"
    }
   ],
   "source": [
    "checkresiduals(fitARIMA)"
   ]
  },
  {
   "cell_type": "code",
   "execution_count": 79,
   "metadata": {},
   "outputs": [
    {
     "data": {
      "image/png": "[encoded data removed]",
      "text/plain": [
       "Plot with title \"Series  tsdata^2\""
      ]
     },
     "metadata": {
      "image/png": {
       "height": 420,
       "width": 420
      },
      "text/plain": {
       "height": 420,
       "width": 420
      }
     },
     "output_type": "display_data"
    }
   ],
   "source": [
    "# res = residuals(fitARIMA)\n",
    "# ACFs and PACFs  of residuals \n",
    "par(mfrow=c(2,1))\n",
    "\n",
    "Acf(tsdata^2, lag.max = 50)\n",
    "\n",
    "Pacf(tsdata^2, lag.max = 50)"
   ]
  },
  {
   "cell_type": "markdown",
   "metadata": {},
   "source": [
    "Since HSI is a white noise process, the model would be ARMA(0,0), that is: $R_t=\\mu+\\varepsilon_t$, where$ \\varepsilon\\sim N\\left(0,\\sigma_\\varepsilon^2\\right)$. $\\mu$ is given by the unconditional mean -0.000747. To test of the mean is zero, $\\frac{\\bar{R}}{SE\\left(R\\right)/\\left(T-1\\right)}=-0.803>-1.65$, so we fail to reject the null hypothesis that mean is zero. Thus, the model reduces to $R_t=\\varepsilon_t$.\n",
    "\n",
    "From the ACF and PACF plots of squared return, it is obvious that the return of HSI exhibits time-varying volatility as it has autocorrelations with high persistence from the ACF plot with more than ten spikes. Therefore, we would use GARCH model, rather than ARCH, to predict the volatility. "
   ]
  },
  {
   "cell_type": "code",
   "execution_count": 80,
   "metadata": {
    "scrolled": false
   },
   "outputs": [
    {
     "data": {
      "text/plain": [
       "\n",
       "Call:\n",
       "garch(x = y, order = c(1, 1), trace = FALSE)\n",
       "\n",
       "Model:\n",
       "GARCH(1,1)\n",
       "\n",
       "Residuals:\n",
       "      Min        1Q    Median        3Q       Max \n",
       "-2.982429 -0.558566 -0.002766  0.446942  3.865605 \n",
       "\n",
       "Coefficient(s):\n",
       "    Estimate  Std. Error  t value Pr(>|t|)    \n",
       "a0 2.021e-05   1.391e-05    1.453   0.1461    \n",
       "a1 1.197e-01   4.806e-02    2.491   0.0127 *  \n",
       "b1 7.499e-01   1.313e-01    5.713 1.11e-08 ***\n",
       "---\n",
       "Signif. codes:  0 '***' 0.001 '**' 0.01 '*' 0.05 '.' 0.1 ' ' 1\n",
       "\n",
       "Diagnostic Tests:\n",
       "\tJarque Bera Test\n",
       "\n",
       "data:  Residuals\n",
       "X-squared = 10.723, df = 2, p-value = 0.004693\n",
       "\n",
       "\n",
       "\tBox-Ljung test\n",
       "\n",
       "data:  Squared.Residuals\n",
       "X-squared = 0.15728, df = 1, p-value = 0.6917\n"
      ]
     },
     "metadata": {},
     "output_type": "display_data"
    },
    {
     "data": {
      "image/png": "[encoded data removed]",
      "text/plain": [
       "Plot with title \"Residuals\""
      ]
     },
     "metadata": {
      "image/png": {
       "height": 420,
       "width": 420
      },
      "text/plain": {
       "height": 420,
       "width": 420
      }
     },
     "output_type": "display_data"
    },
    {
     "data": {
      "image/png": "[encoded data removed]",
      "text/plain": [
       "Plot with title \"Histogram of Residuals\""
      ]
     },
     "metadata": {
      "image/png": {
       "height": 420,
       "width": 420
      },
      "text/plain": {
       "height": 420,
       "width": 420
      }
     },
     "output_type": "display_data"
    },
    {
     "data": {
      "image/png": "[encoded data removed]",
      "text/plain": [
       "Plot with title \"Q-Q Plot of Residuals\""
      ]
     },
     "metadata": {
      "image/png": {
       "height": 420,
       "width": 420
      },
      "text/plain": {
       "height": 420,
       "width": 420
      }
     },
     "output_type": "display_data"
    },
    {
     "data": {
      "image/png": "[encoded data removed]",
      "text/plain": [
       "Plot with title \"ACF of Squared Residuals\""
      ]
     },
     "metadata": {
      "image/png": {
       "height": 420,
       "width": 420
      },
      "text/plain": {
       "height": 420,
       "width": 420
      }
     },
     "output_type": "display_data"
    }
   ],
   "source": [
    "begin.dates = c(\"2019-05-03\", \"2019-05-04\", \"2019-05-05\", \"2019-05-06\", \"2019-05-07\")\n",
    "end.dates = c(\"2020-05-04\", \"2020-05-05\", \"2020-05-06\", \"2020-05-07\", \"2020-05-08\")\n",
    "df.ts = df[ date >= begin.dates[1] & date < end.dates[1], list(date, price.log.diff)]\n",
    "tsdata = ts(df.ts$price.log.diff)\n",
    "y <- tsdata\n",
    "garch.y <- garch(y, order = c(1,1), trace=FALSE)  # Fit GARCH(1,1)\n",
    "summary(garch.y)                     # Diagnostic tests\n",
    "\n",
    "plot(garch.y)"
   ]
  },
  {
   "cell_type": "code",
   "execution_count": 81,
   "metadata": {
    "scrolled": false
   },
   "outputs": [
    {
     "data": {
      "image/png": "[encoded data removed]",
      "text/plain": [
       "Plot with title \"Time series plot of residuals with volatility predicted by GARCH(1,1)\""
      ]
     },
     "metadata": {
      "image/png": {
       "height": 420,
       "width": 420
      },
      "text/plain": {
       "height": 420,
       "width": 420
      }
     },
     "output_type": "display_data"
    }
   ],
   "source": [
    "u = predict(garch.y)\n",
    "u = u %>% na.omit\n",
    "plot(y, type=\"l\", xlab=\"Time\", main = \"Time series plot of residuals with volatility predicted by GARCH(1,1)\")\n",
    "lines(u[,1], col=\"blue\", lty=\"dashed\")\n",
    "lines(u[,2], col=\"blue\", lty=\"dashed\")"
   ]
  },
  {
   "cell_type": "markdown",
   "metadata": {},
   "source": [
    "The Ljung-Box test gives a p-value greater than 0.05, meaning the residuals of GARCH model do not have any autocorrelation and the model is a good fit. "
   ]
  },
  {
   "cell_type": "markdown",
   "metadata": {},
   "source": [
    "## HSI - Model Predictions"
   ]
  },
  {
   "cell_type": "markdown",
   "metadata": {},
   "source": [
    "$R_t = \\mu + \\varepsilon_t$, $\\varepsilon \\sim N(0, \\sigma_{\\varepsilon}^2)$"
   ]
  },
  {
   "cell_type": "markdown",
   "metadata": {},
   "source": [
    "#### Forecast for May 4:"
   ]
  },
  {
   "cell_type": "code",
   "execution_count": 42,
   "metadata": {},
   "outputs": [
    {
     "name": "stdout",
     "output_type": "stream",
     "text": [
      "[1] \"The one-step ahead forecast is:  -0.000693829163465112\"\n"
     ]
    }
   ],
   "source": [
    "f.1 = mean(df.ts$price.log.diff)\n",
    "print(paste(\"The one-step ahead forecast is: \",f.1))"
   ]
  },
  {
   "cell_type": "code",
   "execution_count": 43,
   "metadata": {},
   "outputs": [
    {
     "name": "stdout",
     "output_type": "stream",
     "text": [
      "[1] \"The t stat is:  -0.808578224651696\"\n"
     ]
    }
   ],
   "source": [
    "se = sqrt(var(df.ts$price.log.diff))\n",
    "n = length(df.ts$price.log.diff)\n",
    "t.value = f.1 / (se/sqrt(n-1))\n",
    "print(paste(\"The t stat is: \", t.value))"
   ]
  },
  {
   "cell_type": "code",
   "execution_count": 44,
   "metadata": {},
   "outputs": [
    {
     "data": {
      "text/html": [
       "-1.65112250478986"
      ],
      "text/latex": [
       "-1.65112250478986"
      ],
      "text/markdown": [
       "-1.65112250478986"
      ],
      "text/plain": [
       "[1] -1.651123"
      ]
     },
     "metadata": {},
     "output_type": "display_data"
    }
   ],
   "source": [
    "qt(0.05, n-1)"
   ]
  },
  {
   "cell_type": "markdown",
   "metadata": {},
   "source": [
    "Since t statistics is smaller than t value, we fail to reject the null hypothesis that the mean is zero."
   ]
  },
  {
   "cell_type": "code",
   "execution_count": 45,
   "metadata": {},
   "outputs": [
    {
     "name": "stdout",
     "output_type": "stream",
     "text": [
      "[1] \"The truth value is:  -0.0426854998031203\"\n",
      "[1] \"The forecast error is: -0.0419916706396552\"\n"
     ]
    }
   ],
   "source": [
    "y.truth = df[date == \"2020-05-04\", list(date, price.log.diff)]$price.log.diff\n",
    "y.4 = y.truth\n",
    "print(paste(\"The truth value is: \",y.truth))\n",
    "eps.t.update = y.truth - f.1\n",
    "e.4 = eps.t.update\n",
    "print(paste(\"The forecast error is:\", eps.t.update))"
   ]
  },
  {
   "cell_type": "markdown",
   "metadata": {},
   "source": [
    "$\\sigma_{t|t-1}^2 = \\omega + \\alpha \\varepsilon_{t-1}^2 + \\beta \\sigma_{t-1|t-2}^2$"
   ]
  },
  {
   "cell_type": "markdown",
   "metadata": {},
   "source": [
    "$[f_{t,1} \\pm 1.96*\\sigma_{t+1|t}]$"
   ]
  },
  {
   "cell_type": "code",
   "execution_count": 48,
   "metadata": {},
   "outputs": [
    {
     "name": "stdout",
     "output_type": "stream",
     "text": [
      "\n",
      "Title:\n",
      " GARCH Modelling \n",
      "\n",
      "Call:\n",
      " garchFit(formula = formula ~ garch(1, 1), data = y, trace = F) \n",
      "\n",
      "Mean and Variance Equation:\n",
      " data ~ garch(1, 1)\n",
      "<environment: 0x000000002afa1488>\n",
      " [data = y]\n",
      "\n",
      "Conditional Distribution:\n",
      " norm \n",
      "\n",
      "Coefficient(s):\n",
      "         mu        omega       alpha1        beta1  \n",
      "-1.6775e-04   2.0067e-05   1.1869e-01   7.5181e-01  \n",
      "\n",
      "Std. Errors:\n",
      " based on Hessian \n",
      "\n",
      "Error Analysis:\n",
      "         Estimate  Std. Error  t value Pr(>|t|)    \n",
      "mu     -1.677e-04   7.567e-04   -0.222  0.82456    \n",
      "omega   2.007e-05   9.935e-06    2.020  0.04340 *  \n",
      "alpha1  1.187e-01   4.277e-02    2.775  0.00552 ** \n",
      "beta1   7.518e-01   9.001e-02    8.352  < 2e-16 ***\n",
      "---\n",
      "Signif. codes:  0 '***' 0.001 '**' 0.01 '*' 0.05 '.' 0.1 ' ' 1\n",
      "\n",
      "Log Likelihood:\n",
      " 732.2462    normalized:  2.98876 \n",
      "\n",
      "Description:\n",
      " Sat May 30 14:20:13 2020 by user: Chan WingYiu \n",
      "\n",
      "\n",
      "Standardised Residuals Tests:\n",
      "                                Statistic p-Value    \n",
      " Jarque-Bera Test   R    Chi^2  11.33754  0.003452101\n",
      " Shapiro-Wilk Test  R    W      0.981044  0.002335406\n",
      " Ljung-Box Test     R    Q(10)  7.100416  0.7159323  \n",
      " Ljung-Box Test     R    Q(15)  11.85387  0.6900545  \n",
      " Ljung-Box Test     R    Q(20)  13.47697  0.855995   \n",
      " Ljung-Box Test     R^2  Q(10)  7.738175  0.6543943  \n",
      " Ljung-Box Test     R^2  Q(15)  10.52791  0.7852859  \n",
      " Ljung-Box Test     R^2  Q(20)  15.92407  0.7213235  \n",
      " LM Arch Test       R    TR^2   7.418332  0.8287767  \n",
      "\n",
      "Information Criterion Statistics:\n",
      "      AIC       BIC       SIC      HQIC \n",
      "-5.944867 -5.887703 -5.945388 -5.921847 \n",
      "\n"
     ]
    }
   ],
   "source": [
    "fit = garchFit(formula~ garch(1,1), data=y,\n",
    "                        trace=F) \n",
    "fit %>% summary"
   ]
  },
  {
   "cell_type": "code",
   "execution_count": 49,
   "metadata": {},
   "outputs": [
    {
     "name": "stdout",
     "output_type": "stream",
     "text": [
      "[1] \"omega= 2.00674059307094e-05\"\n",
      "[1] \"alpha 0.118690040116171\"\n",
      "[1] \"beta 0.751811263120469\"\n",
      "[1] \"sigma_{t|t-1}= 0.0126555862097496\"\n",
      "[1] \"epsilon_t= 0.00291579834170463\"\n",
      "[1] \"1 step ahead forecast sigma= 0.0118949354784586\"\n"
     ]
    }
   ],
   "source": [
    "fit = garchFit(formula~ garch(1,1), data=tsdata,\n",
    "                        trace=F) \n",
    "omega = coef(fit)[2]\n",
    "print(paste(\"omega=\",omega))\n",
    "alpha = coef(fit)[3]\n",
    "print(paste(\"alpha\",alpha))\n",
    "beta = coef(fit)[4]\n",
    "print(paste(\"beta\",beta))\n",
    "sigma.t = last(volatility(fit))\n",
    "print(paste(\"sigma_{t|t-1}=\",sigma.t))\n",
    "epsilon.t = last(residuals(fit))\n",
    "print(paste(\"epsilon_t=\",epsilon.t))\n",
    "sigma = omega + alpha * (epsilon.t)^2 + beta * (sigma.t)^2\n",
    "s.4 = sigma^(1/2)\n",
    "print(paste('1 step ahead forecast sigma=',sigma^(1/2)))"
   ]
  },
  {
   "cell_type": "code",
   "execution_count": 50,
   "metadata": {
    "scrolled": true
   },
   "outputs": [
    {
     "data": {
      "text/html": [
       "<table>\n",
       "<caption>A data.frame: 1 × 3</caption>\n",
       "<thead>\n",
       "\t<tr><th scope=col>meanForecast</th><th scope=col>meanError</th><th scope=col>standardDeviation</th></tr>\n",
       "\t<tr><th scope=col>&lt;dbl&gt;</th><th scope=col>&lt;dbl&gt;</th><th scope=col>&lt;dbl&gt;</th></tr>\n",
       "</thead>\n",
       "<tbody>\n",
       "\t<tr><td>-0.0001677461</td><td>0.01189494</td><td>0.01189494</td></tr>\n",
       "</tbody>\n",
       "</table>\n"
      ],
      "text/latex": [
       "A data.frame: 1 × 3\n",
       "\\begin{tabular}{lll}\n",
       " meanForecast & meanError & standardDeviation\\\\\n",
       " <dbl> & <dbl> & <dbl>\\\\\n",
       "\\hline\n",
       "\t -0.0001677461 & 0.01189494 & 0.01189494\\\\\n",
       "\\end{tabular}\n"
      ],
      "text/markdown": [
       "\n",
       "A data.frame: 1 × 3\n",
       "\n",
       "| meanForecast &lt;dbl&gt; | meanError &lt;dbl&gt; | standardDeviation &lt;dbl&gt; |\n",
       "|---|---|---|\n",
       "| -0.0001677461 | 0.01189494 | 0.01189494 |\n",
       "\n"
      ],
      "text/plain": [
       "  meanForecast  meanError  standardDeviation\n",
       "1 -0.0001677461 0.01189494 0.01189494       "
      ]
     },
     "metadata": {},
     "output_type": "display_data"
    }
   ],
   "source": [
    "garch.y.fit = garchFit(formula~ garch(1,1), data=tsdata,\n",
    "                        trace=F) \n",
    "vol.pred = predict(garch.y.fit, n.ahead = 1)\n",
    "vol.pred"
   ]
  },
  {
   "cell_type": "code",
   "execution_count": 51,
   "metadata": {},
   "outputs": [
    {
     "name": "stdout",
     "output_type": "stream",
     "text": [
      "[1] \"Prediction lower bound: -0.024007902701244\"\n",
      "[1] \"Prediction upper bound: 0.0226202443743137\"\n",
      "[1] \"The truth value is:  -0.0426854998031203\"\n"
     ]
    }
   ],
   "source": [
    "lower.ci = f.1 - 1.96 * sigma^(1/2)\n",
    "upper.ci = f.1 + 1.96 * sigma^(1/2)\n",
    "print(paste('Prediction lower bound:',lower.ci))\n",
    "print(paste('Prediction upper bound:',upper.ci))\n",
    "print(paste(\"The truth value is: \",y.truth))"
   ]
  },
  {
   "cell_type": "markdown",
   "metadata": {},
   "source": [
    "#### Forecast for May 4 to 8:"
   ]
  },
  {
   "cell_type": "code",
   "execution_count": 52,
   "metadata": {},
   "outputs": [],
   "source": [
    "begin.dates = c(\"2019-05-03\", \"2019-05-04\", \"2019-05-05\", \"2019-05-06\", \"2019-05-07\")\n",
    "end.dates = c(\"2020-05-04\", \"2020-05-05\", \"2020-05-06\", \"2020-05-07\", \"2020-05-08\")\n",
    "forecasts = rep(1:5)\n",
    "prog.forecasts = rep(1:5)\n",
    "sigma = rep(1:5)\n",
    "prog.sigma = rep(1:5)\n",
    "real.ret = df[ date >= \"2020-05-04\" & date <= \"2020-05-08\", list(date, price.log.diff)]\n",
    "\n",
    "for( i in 1:5){\n",
    "    df.ts = df[ date >= begin.dates[i] & date < end.dates[i], list(date, price.log.diff)]\n",
    "    tsdata = ts(df.ts$price.log.diff, start = df$date[1], frequency = 365)\n",
    "    fitARIMA <- arima(tsdata, order=c(0,0,0),method=\"ML\", include.mean = FALSE)\n",
    "    prog.forecasts[i] = predict(fitARIMA, n.ahead=1)$pred\n",
    "\n",
    "    # Manual calculation of one-step ahead forecast:\n",
    "#     ar1 = coef(fitARIMA)['ar1']\n",
    "#     ar2 = coef(fitARIMA)['ar2']\n",
    "#     # ar3 = coef(fitARIMA)['ar3']\n",
    "#     ma1 = coef(fitARIMA)['ma1']\n",
    "#     ma2 = coef(fitARIMA)['ma2']\n",
    "#     mu = coef(fitARIMA)['intercept']\n",
    "#     y.series = df.ts$price.log.diff\n",
    "#     y.t = y.series[length(y.series)-0]\n",
    "#     y.t.1 = y.series[length(y.series)-1]\n",
    "    # y.t.2 = y.series[length(y.series)-2]\n",
    "#     res = residuals(fitARIMA)\n",
    "#     eps.t = res[length(res)-0]\n",
    "#     eps.t.1 = res[length(res)-1]\n",
    "    forecasts[i] = 0\n",
    "\n",
    "    # Variance forecast\n",
    "#     res = tsdata\n",
    "    y <- tsdata\n",
    "\n",
    "    fit = garchFit(formula~ garch(1,1), data=y,\n",
    "                    trace=F) \n",
    "    omega = coef(fit)[2]\n",
    "#     print(paste(\"omega:\",omega))\n",
    "    alpha = coef(fit)[3]\n",
    "#     print(paste(\"alpha\",alpha))\n",
    "    beta = coef(fit)[4]\n",
    "#     print(paste(\"beta\",beta))\n",
    "    sigma.t = last(volatility(fit))\n",
    "#     print(paste(\"sigma_{t|t-1}:\",sigma.t))\n",
    "    epsilon.t = last(residuals(fit))\n",
    "#     print(paste(\"epsilon_t:\",epsilon.t))\n",
    "    sigma[i] = sqrt(omega + alpha * (epsilon.t)^2 + beta * (sigma.t)^2)\n",
    "\n",
    "    prog.sigma[i] = predict(fit, n.ahead = 1)$standardDeviation        \n",
    "}"
   ]
  },
  {
   "cell_type": "code",
   "execution_count": 56,
   "metadata": {},
   "outputs": [
    {
     "data": {
      "text/html": [
       "<table>\n",
       "<caption>A data.table: 5 × 12</caption>\n",
       "<thead>\n",
       "\t<tr><th scope=col>date</th><th scope=col>price.log.diff</th><th scope=col>forecast</th><th scope=col>prog.forecast</th><th scope=col>sigma</th><th scope=col>variance</th><th scope=col>prog.sigma</th><th scope=col>upper.ci</th><th scope=col>lower.ci</th><th scope=col>error</th><th scope=col>sq.error</th><th scope=col>abs.error</th></tr>\n",
       "\t<tr><th scope=col>&lt;date&gt;</th><th scope=col>&lt;dbl&gt;</th><th scope=col>&lt;dbl&gt;</th><th scope=col>&lt;dbl&gt;</th><th scope=col>&lt;dbl&gt;</th><th scope=col>&lt;dbl&gt;</th><th scope=col>&lt;dbl&gt;</th><th scope=col>&lt;dbl&gt;</th><th scope=col>&lt;dbl&gt;</th><th scope=col>&lt;dbl&gt;</th><th scope=col>&lt;dbl&gt;</th><th scope=col>&lt;dbl&gt;</th></tr>\n",
       "</thead>\n",
       "<tbody>\n",
       "\t<tr><td>2020-05-04</td><td>-0.042685500</td><td>0</td><td>0</td><td>0.01189494</td><td>0.0001414895</td><td>0.01189494</td><td>0.02331407</td><td>-0.02331407</td><td>-0.042685500</td><td>0.042685500</td><td>0.042685500</td></tr>\n",
       "\t<tr><td>2020-05-05</td><td> 0.010734988</td><td>0</td><td>0</td><td>0.01846021</td><td>0.0003407795</td><td>0.01846021</td><td>0.03618202</td><td>-0.03618202</td><td> 0.010734988</td><td>0.010734988</td><td>0.010734988</td></tr>\n",
       "\t<tr><td>2020-05-06</td><td> 0.011199531</td><td>0</td><td>0</td><td>0.01718400</td><td>0.0002952898</td><td>0.01718400</td><td>0.03368064</td><td>-0.03368064</td><td> 0.011199531</td><td>0.011199531</td><td>0.011199531</td></tr>\n",
       "\t<tr><td>2020-05-07</td><td>-0.006519382</td><td>0</td><td>0</td><td>0.01622410</td><td>0.0002632216</td><td>0.01622410</td><td>0.03179924</td><td>-0.03179924</td><td>-0.006519382</td><td>0.006519382</td><td>0.006519382</td></tr>\n",
       "\t<tr><td>2020-05-08</td><td> 0.010352091</td><td>0</td><td>0</td><td>0.01507546</td><td>0.0002272694</td><td>0.01507546</td><td>0.02954790</td><td>-0.02954790</td><td> 0.010352091</td><td>0.010352091</td><td>0.010352091</td></tr>\n",
       "</tbody>\n",
       "</table>\n"
      ],
      "text/latex": [
       "A data.table: 5 × 12\n",
       "\\begin{tabular}{llllllllllll}\n",
       " date & price.log.diff & forecast & prog.forecast & sigma & variance & prog.sigma & upper.ci & lower.ci & error & sq.error & abs.error\\\\\n",
       " <date> & <dbl> & <dbl> & <dbl> & <dbl> & <dbl> & <dbl> & <dbl> & <dbl> & <dbl> & <dbl> & <dbl>\\\\\n",
       "\\hline\n",
       "\t 2020-05-04 & -0.042685500 & 0 & 0 & 0.01189494 & 0.0001414895 & 0.01189494 & 0.02331407 & -0.02331407 & -0.042685500 & 0.042685500 & 0.042685500\\\\\n",
       "\t 2020-05-05 &  0.010734988 & 0 & 0 & 0.01846021 & 0.0003407795 & 0.01846021 & 0.03618202 & -0.03618202 &  0.010734988 & 0.010734988 & 0.010734988\\\\\n",
       "\t 2020-05-06 &  0.011199531 & 0 & 0 & 0.01718400 & 0.0002952898 & 0.01718400 & 0.03368064 & -0.03368064 &  0.011199531 & 0.011199531 & 0.011199531\\\\\n",
       "\t 2020-05-07 & -0.006519382 & 0 & 0 & 0.01622410 & 0.0002632216 & 0.01622410 & 0.03179924 & -0.03179924 & -0.006519382 & 0.006519382 & 0.006519382\\\\\n",
       "\t 2020-05-08 &  0.010352091 & 0 & 0 & 0.01507546 & 0.0002272694 & 0.01507546 & 0.02954790 & -0.02954790 &  0.010352091 & 0.010352091 & 0.010352091\\\\\n",
       "\\end{tabular}\n"
      ],
      "text/markdown": [
       "\n",
       "A data.table: 5 × 12\n",
       "\n",
       "| date &lt;date&gt; | price.log.diff &lt;dbl&gt; | forecast &lt;dbl&gt; | prog.forecast &lt;dbl&gt; | sigma &lt;dbl&gt; | variance &lt;dbl&gt; | prog.sigma &lt;dbl&gt; | upper.ci &lt;dbl&gt; | lower.ci &lt;dbl&gt; | error &lt;dbl&gt; | sq.error &lt;dbl&gt; | abs.error &lt;dbl&gt; |\n",
       "|---|---|---|---|---|---|---|---|---|---|---|---|\n",
       "| 2020-05-04 | -0.042685500 | 0 | 0 | 0.01189494 | 0.0001414895 | 0.01189494 | 0.02331407 | -0.02331407 | -0.042685500 | 0.042685500 | 0.042685500 |\n",
       "| 2020-05-05 |  0.010734988 | 0 | 0 | 0.01846021 | 0.0003407795 | 0.01846021 | 0.03618202 | -0.03618202 |  0.010734988 | 0.010734988 | 0.010734988 |\n",
       "| 2020-05-06 |  0.011199531 | 0 | 0 | 0.01718400 | 0.0002952898 | 0.01718400 | 0.03368064 | -0.03368064 |  0.011199531 | 0.011199531 | 0.011199531 |\n",
       "| 2020-05-07 | -0.006519382 | 0 | 0 | 0.01622410 | 0.0002632216 | 0.01622410 | 0.03179924 | -0.03179924 | -0.006519382 | 0.006519382 | 0.006519382 |\n",
       "| 2020-05-08 |  0.010352091 | 0 | 0 | 0.01507546 | 0.0002272694 | 0.01507546 | 0.02954790 | -0.02954790 |  0.010352091 | 0.010352091 | 0.010352091 |\n",
       "\n"
      ],
      "text/plain": [
       "  date       price.log.diff forecast prog.forecast sigma      variance    \n",
       "1 2020-05-04 -0.042685500   0        0             0.01189494 0.0001414895\n",
       "2 2020-05-05  0.010734988   0        0             0.01846021 0.0003407795\n",
       "3 2020-05-06  0.011199531   0        0             0.01718400 0.0002952898\n",
       "4 2020-05-07 -0.006519382   0        0             0.01622410 0.0002632216\n",
       "5 2020-05-08  0.010352091   0        0             0.01507546 0.0002272694\n",
       "  prog.sigma upper.ci   lower.ci    error        sq.error    abs.error  \n",
       "1 0.01189494 0.02331407 -0.02331407 -0.042685500 0.042685500 0.042685500\n",
       "2 0.01846021 0.03618202 -0.03618202  0.010734988 0.010734988 0.010734988\n",
       "3 0.01718400 0.03368064 -0.03368064  0.011199531 0.011199531 0.011199531\n",
       "4 0.01622410 0.03179924 -0.03179924 -0.006519382 0.006519382 0.006519382\n",
       "5 0.01507546 0.02954790 -0.02954790  0.010352091 0.010352091 0.010352091"
      ]
     },
     "metadata": {},
     "output_type": "display_data"
    }
   ],
   "source": [
    "df.est = data.table(real.ret)\n",
    "df.est[, forecast := forecasts]\n",
    "df.est[, prog.forecast := prog.forecasts]\n",
    "df.est[, sigma := sigma]\n",
    "df.est[, variance:=sigma^2]\n",
    "df.est[, prog.sigma:=prog.sigma]\n",
    "df.est[, upper.ci := forecast + 1.96*sigma]\n",
    "df.est[, lower.ci := forecast - 1.96*sigma]\n",
    "df.est[, error := price.log.diff - forecast]\n",
    "df.est[, sq.error := error^2%>%sqrt]\n",
    "df.est[, abs.error := abs(error)]\n",
    "\n",
    "df.est"
   ]
  },
  {
   "cell_type": "code",
   "execution_count": 57,
   "metadata": {},
   "outputs": [
    {
     "name": "stdout",
     "output_type": "stream",
     "text": [
      "[1] \"RMSE:  0.0162982981546545\"\n",
      "[1] \"MAE:  0.0162982981546545\"\n"
     ]
    }
   ],
   "source": [
    "rmse = mean(df.est$sq.error)\n",
    "print(paste(\"RMSE: \", rmse))\n",
    "mae = mean(df.est$abs.error)\n",
    "print(paste(\"MAE: \", mae))"
   ]
  },
  {
   "cell_type": "code",
   "execution_count": 77,
   "metadata": {},
   "outputs": [
    {
     "data": {
      "image/png": "[encoded data removed]",
      "text/plain": [
       "plot without title"
      ]
     },
     "metadata": {
      "image/png": {
       "height": 360,
       "width": 600
      },
      "text/plain": {
       "height": 360,
       "width": 600
      }
     },
     "output_type": "display_data"
    }
   ],
   "source": [
    "fig <- function(width, heigth){\n",
    "     options(repr.plot.width = width, repr.plot.height = heigth)\n",
    "}\n",
    "fig(10,6)\n",
    "ggplot(data = df.est , aes(x=date))+\n",
    "    geom_line(aes(y = forecast, color = \"forecast\"),lwd=1.5) +\n",
    "    geom_line(aes(y = price.log.diff, color = \"real return\"),lwd=1.5) +\n",
    "    geom_line(aes(y = lower.ci, color = \"lower bound\"), linetype = \"twodash\",lwd=1.5) +\n",
    "    geom_line(aes(y = upper.ci, color = \"upper bound\"), linetype = \"twodash\",lwd=1.5) +\n",
    "    theme(text = element_text(size=15)) +\n",
    "    scale_size_manual( values = c(4,2,2) )"
   ]
  },
  {
   "cell_type": "code",
   "execution_count": null,
   "metadata": {},
   "outputs": [],
   "source": []
  }
 ],
 "metadata": {
  "kernelspec": {
   "display_name": "R",
   "language": "R",
   "name": "ir"
  },
  "language_info": {
   "codemirror_mode": "r",
   "file_extension": ".r",
   "mimetype": "text/x-r-source",
   "name": "R",
   "pygments_lexer": "r",
   "version": "3.6.1"
  }
 },
 "nbformat": 4,
 "nbformat_minor": 4
}
